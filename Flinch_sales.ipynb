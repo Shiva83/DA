{
 "cells": [
  {
   "cell_type": "markdown",
   "metadata": {},
   "source": [
    "Goal \n",
    "\n",
    "Is to forecast the sales for next year -2020"
   ]
  },
  {
   "cell_type": "markdown",
   "metadata": {},
   "source": [
    "### Data Cleaning exercise\n",
    "\n",
    "1. Some date are showing 2109 instead of 2019"
   ]
  },
  {
   "cell_type": "code",
   "execution_count": 1,
   "metadata": {},
   "outputs": [],
   "source": [
    "import numpy as np\n",
    "import pandas as pd\n",
    "\n",
    "import re\n",
    "from glob import glob\n",
    "import matplotlib.pyplot as plt \n",
    "import seaborn as sb"
   ]
  },
  {
   "cell_type": "code",
   "execution_count": 2,
   "metadata": {},
   "outputs": [],
   "source": [
    "data_1920 = pd.read_excel('/Users/shiva/Downloads/Sales Report 2019-20.xlsx')\n",
    "data_1819 = pd.read_excel('/Users/shiva/Downloads/Sales Report 2018-19.xlsx')"
   ]
  },
  {
   "cell_type": "code",
   "execution_count": 3,
   "metadata": {},
   "outputs": [
    {
     "data": {
      "text/plain": [
       "['/Users/shiva/Downloads/Sales Report 2018-19.xlsx',\n",
       " '/Users/shiva/Downloads/Sales Report 2019-20.xlsx']"
      ]
     },
     "execution_count": 3,
     "metadata": {},
     "output_type": "execute_result"
    }
   ],
   "source": [
    "files = sorted(glob('/Users/shiva/Downloads/Sale*.xlsx'))\n",
    "files"
   ]
  },
  {
   "cell_type": "code",
   "execution_count": 4,
   "metadata": {},
   "outputs": [
    {
     "name": "stdout",
     "output_type": "stream",
     "text": [
      "(846, 16) (1136, 16362)\n"
     ]
    }
   ],
   "source": [
    "print (data_1920.shape,data_1819.shape)"
   ]
  },
  {
   "cell_type": "code",
   "execution_count": 5,
   "metadata": {},
   "outputs": [
    {
     "data": {
      "text/html": [
       "<div>\n",
       "<style scoped>\n",
       "    .dataframe tbody tr th:only-of-type {\n",
       "        vertical-align: middle;\n",
       "    }\n",
       "\n",
       "    .dataframe tbody tr th {\n",
       "        vertical-align: top;\n",
       "    }\n",
       "\n",
       "    .dataframe thead th {\n",
       "        text-align: right;\n",
       "    }\n",
       "</style>\n",
       "<table border=\"1\" class=\"dataframe\">\n",
       "  <thead>\n",
       "    <tr style=\"text-align: right;\">\n",
       "      <th></th>\n",
       "      <th>Sl.No.</th>\n",
       "      <th>Branch</th>\n",
       "      <th>Customer Name</th>\n",
       "      <th>Cust PO No.</th>\n",
       "      <th>Description</th>\n",
       "      <th>Qty</th>\n",
       "      <th>Base price</th>\n",
       "      <th>Total Price</th>\n",
       "      <th>Tax Structure</th>\n",
       "      <th>CGST</th>\n",
       "      <th>...</th>\n",
       "      <th>Unnamed: 16352</th>\n",
       "      <th>Unnamed: 16353</th>\n",
       "      <th>Unnamed: 16354</th>\n",
       "      <th>Unnamed: 16355</th>\n",
       "      <th>Unnamed: 16356</th>\n",
       "      <th>Unnamed: 16357</th>\n",
       "      <th>Unnamed: 16358</th>\n",
       "      <th>Unnamed: 16359</th>\n",
       "      <th>Unnamed: 16360</th>\n",
       "      <th>Unnamed: 16361</th>\n",
       "    </tr>\n",
       "  </thead>\n",
       "  <tbody>\n",
       "    <tr>\n",
       "      <th>0</th>\n",
       "      <td>1.0</td>\n",
       "      <td>BLR</td>\n",
       "      <td>Iron Mountain India Pvt Ltd</td>\n",
       "      <td>IMI/2017-18/0026</td>\n",
       "      <td>AC Cord AC Line Cord, 50-16000-669R AC Line\\nC...</td>\n",
       "      <td>3.0</td>\n",
       "      <td>700.0</td>\n",
       "      <td>2100.0</td>\n",
       "      <td>18.0</td>\n",
       "      <td>189.00</td>\n",
       "      <td>...</td>\n",
       "      <td>NaN</td>\n",
       "      <td>NaN</td>\n",
       "      <td>NaN</td>\n",
       "      <td>NaN</td>\n",
       "      <td>NaN</td>\n",
       "      <td>NaN</td>\n",
       "      <td>NaN</td>\n",
       "      <td>NaN</td>\n",
       "      <td>NaN</td>\n",
       "      <td>NaN</td>\n",
       "    </tr>\n",
       "    <tr>\n",
       "      <th>1</th>\n",
       "      <td>2.0</td>\n",
       "      <td>BLR</td>\n",
       "      <td>Iron Mountain India Pvt Ltd</td>\n",
       "      <td>IMI/2017-18/0026</td>\n",
       "      <td>AC Cord AC Line Cord, 50-16000-669R AC Line\\nC...</td>\n",
       "      <td>4.0</td>\n",
       "      <td>700.0</td>\n",
       "      <td>2800.0</td>\n",
       "      <td>18.0</td>\n",
       "      <td>252.00</td>\n",
       "      <td>...</td>\n",
       "      <td>NaN</td>\n",
       "      <td>NaN</td>\n",
       "      <td>NaN</td>\n",
       "      <td>NaN</td>\n",
       "      <td>NaN</td>\n",
       "      <td>NaN</td>\n",
       "      <td>NaN</td>\n",
       "      <td>NaN</td>\n",
       "      <td>NaN</td>\n",
       "      <td>NaN</td>\n",
       "    </tr>\n",
       "    <tr>\n",
       "      <th>2</th>\n",
       "      <td>3.0</td>\n",
       "      <td>BLR</td>\n",
       "      <td>Iron Mountain India Pvt Ltd</td>\n",
       "      <td>IMI/2017-18/0026</td>\n",
       "      <td>Battery Pack of 10 MC90XX-G/K,\\nMC9190-G, MC92...</td>\n",
       "      <td>1.0</td>\n",
       "      <td>25651.0</td>\n",
       "      <td>25651.0</td>\n",
       "      <td>18.0</td>\n",
       "      <td>2308.59</td>\n",
       "      <td>...</td>\n",
       "      <td>NaN</td>\n",
       "      <td>NaN</td>\n",
       "      <td>NaN</td>\n",
       "      <td>NaN</td>\n",
       "      <td>NaN</td>\n",
       "      <td>NaN</td>\n",
       "      <td>NaN</td>\n",
       "      <td>NaN</td>\n",
       "      <td>NaN</td>\n",
       "      <td>NaN</td>\n",
       "    </tr>\n",
       "    <tr>\n",
       "      <th>3</th>\n",
       "      <td>4.0</td>\n",
       "      <td>BLR</td>\n",
       "      <td>Iron Mountain India Pvt Ltd</td>\n",
       "      <td>IMI/2017-18/0046</td>\n",
       "      <td>HP Laserjet Enterprise M608DN printer</td>\n",
       "      <td>1.0</td>\n",
       "      <td>96500.0</td>\n",
       "      <td>96500.0</td>\n",
       "      <td>18.0</td>\n",
       "      <td>0.00</td>\n",
       "      <td>...</td>\n",
       "      <td>NaN</td>\n",
       "      <td>NaN</td>\n",
       "      <td>NaN</td>\n",
       "      <td>NaN</td>\n",
       "      <td>NaN</td>\n",
       "      <td>NaN</td>\n",
       "      <td>NaN</td>\n",
       "      <td>NaN</td>\n",
       "      <td>NaN</td>\n",
       "      <td>NaN</td>\n",
       "    </tr>\n",
       "    <tr>\n",
       "      <th>4</th>\n",
       "      <td>5.0</td>\n",
       "      <td>BLR</td>\n",
       "      <td>Iron Mountain India Pvt Ltd</td>\n",
       "      <td>IMI/2017-18/0046</td>\n",
       "      <td>HP Laserjet Enterprise M608DN printer</td>\n",
       "      <td>1.0</td>\n",
       "      <td>96500.0</td>\n",
       "      <td>96500.0</td>\n",
       "      <td>18.0</td>\n",
       "      <td>8685.00</td>\n",
       "      <td>...</td>\n",
       "      <td>NaN</td>\n",
       "      <td>NaN</td>\n",
       "      <td>NaN</td>\n",
       "      <td>NaN</td>\n",
       "      <td>NaN</td>\n",
       "      <td>NaN</td>\n",
       "      <td>NaN</td>\n",
       "      <td>NaN</td>\n",
       "      <td>NaN</td>\n",
       "      <td>NaN</td>\n",
       "    </tr>\n",
       "  </tbody>\n",
       "</table>\n",
       "<p>5 rows × 16362 columns</p>\n",
       "</div>"
      ],
      "text/plain": [
       "   Sl.No. Branch                 Customer Name       Cust PO No.  \\\n",
       "0     1.0     BLR  Iron Mountain India Pvt Ltd  IMI/2017-18/0026   \n",
       "1     2.0     BLR  Iron Mountain India Pvt Ltd  IMI/2017-18/0026   \n",
       "2     3.0     BLR  Iron Mountain India Pvt Ltd  IMI/2017-18/0026   \n",
       "3     4.0     BLR  Iron Mountain India Pvt Ltd  IMI/2017-18/0046   \n",
       "4     5.0     BLR  Iron Mountain India Pvt Ltd  IMI/2017-18/0046   \n",
       "\n",
       "                                         Description  Qty  Base price  \\\n",
       "0  AC Cord AC Line Cord, 50-16000-669R AC Line\\nC...  3.0       700.0   \n",
       "1  AC Cord AC Line Cord, 50-16000-669R AC Line\\nC...  4.0       700.0   \n",
       "2  Battery Pack of 10 MC90XX-G/K,\\nMC9190-G, MC92...  1.0     25651.0   \n",
       "3              HP Laserjet Enterprise M608DN printer  1.0     96500.0   \n",
       "4              HP Laserjet Enterprise M608DN printer  1.0     96500.0   \n",
       "\n",
       "   Total Price  Tax Structure     CGST  ...  Unnamed: 16352  Unnamed: 16353  \\\n",
       "0       2100.0           18.0   189.00  ...             NaN             NaN   \n",
       "1       2800.0           18.0   252.00  ...             NaN             NaN   \n",
       "2      25651.0           18.0  2308.59  ...             NaN             NaN   \n",
       "3      96500.0           18.0     0.00  ...             NaN             NaN   \n",
       "4      96500.0           18.0  8685.00  ...             NaN             NaN   \n",
       "\n",
       "   Unnamed: 16354 Unnamed: 16355 Unnamed: 16356  Unnamed: 16357  \\\n",
       "0             NaN            NaN            NaN             NaN   \n",
       "1             NaN            NaN            NaN             NaN   \n",
       "2             NaN            NaN            NaN             NaN   \n",
       "3             NaN            NaN            NaN             NaN   \n",
       "4             NaN            NaN            NaN             NaN   \n",
       "\n",
       "   Unnamed: 16358  Unnamed: 16359  Unnamed: 16360  Unnamed: 16361  \n",
       "0             NaN             NaN             NaN             NaN  \n",
       "1             NaN             NaN             NaN             NaN  \n",
       "2             NaN             NaN             NaN             NaN  \n",
       "3             NaN             NaN             NaN             NaN  \n",
       "4             NaN             NaN             NaN             NaN  \n",
       "\n",
       "[5 rows x 16362 columns]"
      ]
     },
     "execution_count": 5,
     "metadata": {},
     "output_type": "execute_result"
    }
   ],
   "source": [
    "data_1819.head()"
   ]
  },
  {
   "cell_type": "code",
   "execution_count": 6,
   "metadata": {
    "scrolled": true
   },
   "outputs": [],
   "source": [
    "data_1819 = data_1819.iloc[:,0:16]"
   ]
  },
  {
   "cell_type": "code",
   "execution_count": 7,
   "metadata": {},
   "outputs": [],
   "source": [
    "data_combined = pd.concat((pd.read_excel(file) for file in files),ignore_index=True)"
   ]
  },
  {
   "cell_type": "code",
   "execution_count": 8,
   "metadata": {},
   "outputs": [
    {
     "data": {
      "text/plain": [
       "(1982, 16363)"
      ]
     },
     "execution_count": 8,
     "metadata": {},
     "output_type": "execute_result"
    }
   ],
   "source": [
    "data_combined.shape"
   ]
  },
  {
   "cell_type": "code",
   "execution_count": 9,
   "metadata": {},
   "outputs": [
    {
     "data": {
      "text/plain": [
       "Index(['Sl.No.', 'Branch ', 'Customer Name', ' Cust PO No.', 'Description',\n",
       "       'Qty', 'Base price', 'Total Price', 'Tax Structure', 'CGST',\n",
       "       ...\n",
       "       'Unnamed: 16353', 'Unnamed: 16354', 'Unnamed: 16355', 'Unnamed: 16356',\n",
       "       'Unnamed: 16357', 'Unnamed: 16358', 'Unnamed: 16359', 'Unnamed: 16360',\n",
       "       'Unnamed: 16361', 'SL No '],\n",
       "      dtype='object', length=16363)"
      ]
     },
     "execution_count": 9,
     "metadata": {},
     "output_type": "execute_result"
    }
   ],
   "source": [
    "data_combined.columns"
   ]
  },
  {
   "cell_type": "code",
   "execution_count": 10,
   "metadata": {},
   "outputs": [],
   "source": [
    "columns_del = []\n",
    "regex = 'Unnamed:'\n",
    "\n",
    "for i in data_combined.columns:\n",
    "    if re.match(regex, i) is not None:\n",
    "        columns_del.append(i)"
   ]
  },
  {
   "cell_type": "code",
   "execution_count": 11,
   "metadata": {},
   "outputs": [],
   "source": [
    "data_combined = data_combined.drop(labels=columns_del , axis=1)\n",
    "data_combined = data_combined.drop(labels='SL No ',axis=1)"
   ]
  },
  {
   "cell_type": "code",
   "execution_count": 12,
   "metadata": {},
   "outputs": [
    {
     "data": {
      "text/html": [
       "<div>\n",
       "<style scoped>\n",
       "    .dataframe tbody tr th:only-of-type {\n",
       "        vertical-align: middle;\n",
       "    }\n",
       "\n",
       "    .dataframe tbody tr th {\n",
       "        vertical-align: top;\n",
       "    }\n",
       "\n",
       "    .dataframe thead th {\n",
       "        text-align: right;\n",
       "    }\n",
       "</style>\n",
       "<table border=\"1\" class=\"dataframe\">\n",
       "  <thead>\n",
       "    <tr style=\"text-align: right;\">\n",
       "      <th></th>\n",
       "      <th>Sl.No.</th>\n",
       "      <th>Branch</th>\n",
       "      <th>Customer Name</th>\n",
       "      <th>Cust PO No.</th>\n",
       "      <th>Description</th>\n",
       "      <th>Qty</th>\n",
       "      <th>Base price</th>\n",
       "      <th>Total Price</th>\n",
       "      <th>Tax Structure</th>\n",
       "      <th>CGST</th>\n",
       "      <th>SGST</th>\n",
       "      <th>IGST</th>\n",
       "      <th>Total with tax amount</th>\n",
       "      <th>Inv. No.</th>\n",
       "      <th>Inv.Date</th>\n",
       "      <th>Inv. Value</th>\n",
       "    </tr>\n",
       "  </thead>\n",
       "  <tbody>\n",
       "    <tr>\n",
       "      <th>0</th>\n",
       "      <td>1.0</td>\n",
       "      <td>BLR</td>\n",
       "      <td>Iron Mountain India Pvt Ltd</td>\n",
       "      <td>IMI/2017-18/0026</td>\n",
       "      <td>AC Cord AC Line Cord, 50-16000-669R AC Line\\nC...</td>\n",
       "      <td>3.0</td>\n",
       "      <td>700.0</td>\n",
       "      <td>2100.0</td>\n",
       "      <td>18.0</td>\n",
       "      <td>189.00</td>\n",
       "      <td>189.00</td>\n",
       "      <td>0.0</td>\n",
       "      <td>2478.00</td>\n",
       "      <td>2918191035</td>\n",
       "      <td>2018-04-28 00:00:00</td>\n",
       "      <td>5782</td>\n",
       "    </tr>\n",
       "    <tr>\n",
       "      <th>1</th>\n",
       "      <td>2.0</td>\n",
       "      <td>BLR</td>\n",
       "      <td>Iron Mountain India Pvt Ltd</td>\n",
       "      <td>IMI/2017-18/0026</td>\n",
       "      <td>AC Cord AC Line Cord, 50-16000-669R AC Line\\nC...</td>\n",
       "      <td>4.0</td>\n",
       "      <td>700.0</td>\n",
       "      <td>2800.0</td>\n",
       "      <td>18.0</td>\n",
       "      <td>252.00</td>\n",
       "      <td>252.00</td>\n",
       "      <td>0.0</td>\n",
       "      <td>3304.00</td>\n",
       "      <td>2918191035</td>\n",
       "      <td>2018-04-28 00:00:00</td>\n",
       "      <td>0</td>\n",
       "    </tr>\n",
       "    <tr>\n",
       "      <th>2</th>\n",
       "      <td>3.0</td>\n",
       "      <td>BLR</td>\n",
       "      <td>Iron Mountain India Pvt Ltd</td>\n",
       "      <td>IMI/2017-18/0026</td>\n",
       "      <td>Battery Pack of 10 MC90XX-G/K,\\nMC9190-G, MC92...</td>\n",
       "      <td>1.0</td>\n",
       "      <td>25651.0</td>\n",
       "      <td>25651.0</td>\n",
       "      <td>18.0</td>\n",
       "      <td>2308.59</td>\n",
       "      <td>2308.59</td>\n",
       "      <td>0.0</td>\n",
       "      <td>30268.18</td>\n",
       "      <td>2918191068</td>\n",
       "      <td>2018-05-30 00:00:00</td>\n",
       "      <td>30268</td>\n",
       "    </tr>\n",
       "    <tr>\n",
       "      <th>3</th>\n",
       "      <td>4.0</td>\n",
       "      <td>BLR</td>\n",
       "      <td>Iron Mountain India Pvt Ltd</td>\n",
       "      <td>IMI/2017-18/0046</td>\n",
       "      <td>HP Laserjet Enterprise M608DN printer</td>\n",
       "      <td>1.0</td>\n",
       "      <td>96500.0</td>\n",
       "      <td>96500.0</td>\n",
       "      <td>18.0</td>\n",
       "      <td>0.00</td>\n",
       "      <td>0.00</td>\n",
       "      <td>17370.0</td>\n",
       "      <td>113870.00</td>\n",
       "      <td>2918191048</td>\n",
       "      <td>2018-05-15 00:00:00</td>\n",
       "      <td>113870</td>\n",
       "    </tr>\n",
       "    <tr>\n",
       "      <th>4</th>\n",
       "      <td>5.0</td>\n",
       "      <td>BLR</td>\n",
       "      <td>Iron Mountain India Pvt Ltd</td>\n",
       "      <td>IMI/2017-18/0046</td>\n",
       "      <td>HP Laserjet Enterprise M608DN printer</td>\n",
       "      <td>1.0</td>\n",
       "      <td>96500.0</td>\n",
       "      <td>96500.0</td>\n",
       "      <td>18.0</td>\n",
       "      <td>8685.00</td>\n",
       "      <td>8685.00</td>\n",
       "      <td>0.0</td>\n",
       "      <td>113870.00</td>\n",
       "      <td>2918191047</td>\n",
       "      <td>2018-05-15 00:00:00</td>\n",
       "      <td>113870</td>\n",
       "    </tr>\n",
       "  </tbody>\n",
       "</table>\n",
       "</div>"
      ],
      "text/plain": [
       "   Sl.No. Branch                 Customer Name       Cust PO No.  \\\n",
       "0     1.0     BLR  Iron Mountain India Pvt Ltd  IMI/2017-18/0026   \n",
       "1     2.0     BLR  Iron Mountain India Pvt Ltd  IMI/2017-18/0026   \n",
       "2     3.0     BLR  Iron Mountain India Pvt Ltd  IMI/2017-18/0026   \n",
       "3     4.0     BLR  Iron Mountain India Pvt Ltd  IMI/2017-18/0046   \n",
       "4     5.0     BLR  Iron Mountain India Pvt Ltd  IMI/2017-18/0046   \n",
       "\n",
       "                                         Description  Qty  Base price  \\\n",
       "0  AC Cord AC Line Cord, 50-16000-669R AC Line\\nC...  3.0       700.0   \n",
       "1  AC Cord AC Line Cord, 50-16000-669R AC Line\\nC...  4.0       700.0   \n",
       "2  Battery Pack of 10 MC90XX-G/K,\\nMC9190-G, MC92...  1.0     25651.0   \n",
       "3              HP Laserjet Enterprise M608DN printer  1.0     96500.0   \n",
       "4              HP Laserjet Enterprise M608DN printer  1.0     96500.0   \n",
       "\n",
       "   Total Price  Tax Structure     CGST     SGST     IGST  \\\n",
       "0       2100.0           18.0   189.00   189.00      0.0   \n",
       "1       2800.0           18.0   252.00   252.00      0.0   \n",
       "2      25651.0           18.0  2308.59  2308.59      0.0   \n",
       "3      96500.0           18.0     0.00     0.00  17370.0   \n",
       "4      96500.0           18.0  8685.00  8685.00      0.0   \n",
       "\n",
       "   Total with tax amount    Inv. No.             Inv.Date Inv. Value  \n",
       "0                2478.00  2918191035  2018-04-28 00:00:00       5782  \n",
       "1                3304.00  2918191035  2018-04-28 00:00:00          0  \n",
       "2               30268.18  2918191068  2018-05-30 00:00:00      30268  \n",
       "3              113870.00  2918191048  2018-05-15 00:00:00     113870  \n",
       "4              113870.00  2918191047  2018-05-15 00:00:00     113870  "
      ]
     },
     "execution_count": 12,
     "metadata": {},
     "output_type": "execute_result"
    }
   ],
   "source": [
    "data_combined.head()"
   ]
  },
  {
   "cell_type": "markdown",
   "metadata": {},
   "source": [
    "Clean up headers"
   ]
  },
  {
   "cell_type": "code",
   "execution_count": 13,
   "metadata": {},
   "outputs": [
    {
     "data": {
      "text/plain": [
       "Sl.No.                   874\n",
       "Branch                     6\n",
       "Customer Name              2\n",
       " Cust PO No.               9\n",
       "Description                8\n",
       "Qty                        6\n",
       "Base price                 7\n",
       "Total Price                7\n",
       "Tax Structure              8\n",
       "CGST                      12\n",
       "SGST                      18\n",
       "IGST                       7\n",
       "Total with tax amount      5\n",
       "Inv. No.                  33\n",
       "Inv.Date                  47\n",
       "Inv. Value               342\n",
       "dtype: int64"
      ]
     },
     "execution_count": 13,
     "metadata": {},
     "output_type": "execute_result"
    }
   ],
   "source": [
    "data_combined.isnull().sum()"
   ]
  },
  {
   "cell_type": "code",
   "execution_count": 14,
   "metadata": {},
   "outputs": [
    {
     "data": {
      "text/plain": [
       "Sl.No.                   874\n",
       "Branch                     6\n",
       "Customer Name              2\n",
       " Cust PO No.               9\n",
       "Description                8\n",
       "Qty                        6\n",
       "Base price                 7\n",
       "Total Price                7\n",
       "Tax Structure              8\n",
       "CGST                      12\n",
       "SGST                      18\n",
       "IGST                       7\n",
       "Total with tax amount      5\n",
       "Inv. No.                  33\n",
       "Inv.Date                  47\n",
       "Inv. Value               342\n",
       "dtype: int64"
      ]
     },
     "execution_count": 14,
     "metadata": {},
     "output_type": "execute_result"
    }
   ],
   "source": [
    "data_combined.isna().sum()"
   ]
  },
  {
   "cell_type": "code",
   "execution_count": 15,
   "metadata": {},
   "outputs": [],
   "source": [
    "newcolumn = ['slno', 'branch', 'customername', 'custpono', 'description', 'qty',\n",
    "       'baseprice', 'totalprice', 'taxstructure', 'cgst', 'sgst', 'igst',\n",
    "       'totalwithtaxamount', 'invno', 'invdate', 'invvalue']"
   ]
  },
  {
   "cell_type": "code",
   "execution_count": 16,
   "metadata": {},
   "outputs": [],
   "source": [
    "cleanhead = []\n",
    "\n",
    "for i in range(len(data_combined.columns)):\n",
    "    cleanhead.append(data_combined.columns[i].replace('.','').strip().lower())\n",
    "\n",
    "data_combined.columns=cleanhead"
   ]
  },
  {
   "cell_type": "code",
   "execution_count": 17,
   "metadata": {},
   "outputs": [],
   "source": [
    "data_combined.columns=newcolumn"
   ]
  },
  {
   "cell_type": "code",
   "execution_count": 18,
   "metadata": {},
   "outputs": [
    {
     "data": {
      "text/plain": [
       "Index(['slno', 'branch', 'customername', 'custpono', 'description', 'qty',\n",
       "       'baseprice', 'totalprice', 'taxstructure', 'cgst', 'sgst', 'igst',\n",
       "       'totalwithtaxamount', 'invno', 'invdate', 'invvalue'],\n",
       "      dtype='object')"
      ]
     },
     "execution_count": 18,
     "metadata": {},
     "output_type": "execute_result"
    }
   ],
   "source": [
    "data_combined.columns"
   ]
  },
  {
   "cell_type": "code",
   "execution_count": 19,
   "metadata": {},
   "outputs": [],
   "source": [
    "data_combined.invdate.fillna(method='ffill',inplace=True)"
   ]
  },
  {
   "cell_type": "code",
   "execution_count": 218,
   "metadata": {},
   "outputs": [],
   "source": [
    "# Required cell - row has cancelled data\n",
    "\n",
    "#data_combined[data_combined.index=='Cancelled']\n",
    "data_combined.drop(index=['Cancelled'],inplace=True)"
   ]
  },
  {
   "cell_type": "markdown",
   "metadata": {},
   "source": [
    "EDA"
   ]
  },
  {
   "cell_type": "code",
   "execution_count": 21,
   "metadata": {},
   "outputs": [],
   "source": [
    "#Who is your 5 largest customer interm of No.of Sales"
   ]
  },
  {
   "cell_type": "code",
   "execution_count": 58,
   "metadata": {},
   "outputs": [],
   "source": [
    "# Spliting the data based on the input, suming up the case groupby and sorting the values descending order\n",
    "def Sorting_df(data,columns,count):\n",
    "    data_grouped = data.groupby(columns[0])[columns[1]].sum().reset_index()\n",
    "    data_grouped.sort_values(columns[1],axis=0,ascending=False,inplace=True)\n",
    "    return data_grouped[:count]"
   ]
  },
  {
   "cell_type": "code",
   "execution_count": 61,
   "metadata": {},
   "outputs": [],
   "source": [
    "Largest_Cust_Sales =Sorting_df(data_combined,columns=['customername','qty'],count=10)"
   ]
  },
  {
   "cell_type": "code",
   "execution_count": 77,
   "metadata": {},
   "outputs": [
    {
     "data": {
      "text/plain": [
       "<matplotlib.axes._subplots.AxesSubplot at 0x1a291929d0>"
      ]
     },
     "execution_count": 77,
     "metadata": {},
     "output_type": "execute_result"
    },
    {
     "data": {
      "image/png": "[encoded data removed]",
      "text/plain": [
       "<Figure size 432x288 with 1 Axes>"
      ]
     },
     "metadata": {
      "needs_background": "light"
     },
     "output_type": "display_data"
    }
   ],
   "source": [
    "sb.barplot(x=Largest_Cust_Sales.qty,y=Largest_Cust_Sales.customername)"
   ]
  },
  {
   "cell_type": "code",
   "execution_count": 24,
   "metadata": {},
   "outputs": [],
   "source": [
    "#Who is your largest customer interm of Sales Amount"
   ]
  },
  {
   "cell_type": "code",
   "execution_count": 82,
   "metadata": {},
   "outputs": [],
   "source": [
    "Largest_Sales_amount = Sorting_df(data_combined,['customername','invvalue'],10)"
   ]
  },
  {
   "cell_type": "code",
   "execution_count": 83,
   "metadata": {},
   "outputs": [
    {
     "data": {
      "text/plain": [
       "<matplotlib.axes._subplots.AxesSubplot at 0x1a26cbdf50>"
      ]
     },
     "execution_count": 83,
     "metadata": {},
     "output_type": "execute_result"
    },
    {
     "data": {
      "image/png": "[encoded data removed]",
      "text/plain": [
       "<Figure size 432x288 with 1 Axes>"
      ]
     },
     "metadata": {
      "needs_background": "light"
     },
     "output_type": "display_data"
    }
   ],
   "source": [
    "sb.barplot(x=Largest_Sales_amount.invvalue,y=Largest_Sales_amount.customername)"
   ]
  },
  {
   "cell_type": "code",
   "execution_count": 25,
   "metadata": {},
   "outputs": [],
   "source": [
    "#Which is highest selling product"
   ]
  },
  {
   "cell_type": "code",
   "execution_count": 84,
   "metadata": {},
   "outputs": [],
   "source": [
    "Highest_Prod_Selling = Sorting_df(data_combined,['description','qty'],10)"
   ]
  },
  {
   "cell_type": "code",
   "execution_count": 85,
   "metadata": {},
   "outputs": [
    {
     "data": {
      "text/plain": [
       "<matplotlib.axes._subplots.AxesSubplot at 0x1a29847610>"
      ]
     },
     "execution_count": 85,
     "metadata": {},
     "output_type": "execute_result"
    },
    {
     "data": {
      "image/png": "[encoded data removed]",
      "text/plain": [
       "<Figure size 432x288 with 1 Axes>"
      ]
     },
     "metadata": {
      "needs_background": "light"
     },
     "output_type": "display_data"
    }
   ],
   "source": [
    "sb.barplot(x=Highest_Prod_Selling.qty,y=Highest_Prod_Selling.description)"
   ]
  },
  {
   "cell_type": "code",
   "execution_count": 26,
   "metadata": {},
   "outputs": [],
   "source": [
    "#which are product sells in amount wise quantity"
   ]
  },
  {
   "cell_type": "code",
   "execution_count": 86,
   "metadata": {},
   "outputs": [],
   "source": [
    "Highest_Prodsales_amount = Sorting_df(data_combined,['description','invvalue'],10)"
   ]
  },
  {
   "cell_type": "code",
   "execution_count": 87,
   "metadata": {},
   "outputs": [
    {
     "data": {
      "text/plain": [
       "<matplotlib.axes._subplots.AxesSubplot at 0x1a299ec410>"
      ]
     },
     "execution_count": 87,
     "metadata": {},
     "output_type": "execute_result"
    },
    {
     "data": {
      "image/png": "[encoded data removed]",
      "text/plain": [
       "<Figure size 432x288 with 1 Axes>"
      ]
     },
     "metadata": {
      "needs_background": "light"
     },
     "output_type": "display_data"
    }
   ],
   "source": [
    "sb.barplot(x=Highest_Prodsales_amount.invvalue,y=Highest_Prodsales_amount.description)"
   ]
  },
  {
   "cell_type": "code",
   "execution_count": 27,
   "metadata": {},
   "outputs": [],
   "source": [
    "#Which branch has highest revenue"
   ]
  },
  {
   "cell_type": "code",
   "execution_count": 88,
   "metadata": {},
   "outputs": [],
   "source": [
    "Branch_highest_revenue = Sorting_df(data_combined,['branch','invvalue'],5)"
   ]
  },
  {
   "cell_type": "code",
   "execution_count": 90,
   "metadata": {},
   "outputs": [
    {
     "data": {
      "text/plain": [
       "<matplotlib.axes._subplots.AxesSubplot at 0x1a29a4e250>"
      ]
     },
     "execution_count": 90,
     "metadata": {},
     "output_type": "execute_result"
    },
    {
     "data": {
      "image/png": "[encoded data removed]",
      "text/plain": [
       "<Figure size 432x288 with 1 Axes>"
      ]
     },
     "metadata": {
      "needs_background": "light"
     },
     "output_type": "display_data"
    }
   ],
   "source": [
    "sb.barplot(x=Branch_highest_revenue.invvalue,y=Branch_highest_revenue.branch)"
   ]
  },
  {
   "cell_type": "code",
   "execution_count": 28,
   "metadata": {},
   "outputs": [],
   "source": [
    "#Which month has a high volume of sales\n",
    " # function to be written to take invdate disect in months and invvalue\n",
    " # "
   ]
  },
  {
   "cell_type": "code",
   "execution_count": null,
   "metadata": {
    "scrolled": false
   },
   "outputs": [],
   "source": [
    "data_combined.invdate.value_counts(dropna=True)"
   ]
  },
  {
   "cell_type": "code",
   "execution_count": 112,
   "metadata": {},
   "outputs": [],
   "source": [
    "# Loop to clean wrong date \n",
    "\n",
    "dateinv =[]\n",
    "for i in data_combined.index:\n",
    "    dateinv.append(str(i).replace('2109','2019'))\n",
    "    \n",
    "data_combined['invdate'] = dateinv"
   ]
  },
  {
   "cell_type": "code",
   "execution_count": null,
   "metadata": {},
   "outputs": [],
   "source": [
    "data_combined['invvalue'] = data_combined.invvalue.astype(float)"
   ]
  },
  {
   "cell_type": "code",
   "execution_count": 113,
   "metadata": {},
   "outputs": [
    {
     "name": "stdout",
     "output_type": "stream",
     "text": [
      "91964.66940817566\n",
      "15600.0\n",
      "0    0\n",
      "dtype: object\n"
     ]
    }
   ],
   "source": [
    "print (data_combined.invvalue.mean())\n",
    "print (data_combined.invvalue.median())\n",
    "print (data_combined.invvalue.mode())"
   ]
  },
  {
   "cell_type": "code",
   "execution_count": null,
   "metadata": {},
   "outputs": [],
   "source": [
    "#idx_outlierdata =[]\n",
    "#data_1819[data_1819['invvalue']>1500000].index\n",
    "\n",
    "#for i in data_1819['invvalue']:\n",
    "#    if(i>1500000):\n",
    "#        idx_outlierdata.append(i)\n"
   ]
  },
  {
   "cell_type": "code",
   "execution_count": null,
   "metadata": {},
   "outputs": [],
   "source": [
    "#print (idx_outlierdata)\n",
    "#print (idx_outlierdata_1)\n",
    "#print (idx_outlierdata_2)"
   ]
  },
  {
   "cell_type": "code",
   "execution_count": null,
   "metadata": {},
   "outputs": [],
   "source": [
    "#data_1920[data_1920.invvalue<0.00]"
   ]
  },
  {
   "cell_type": "code",
   "execution_count": null,
   "metadata": {},
   "outputs": [],
   "source": [
    "#idx_outlierdata_1"
   ]
  },
  {
   "cell_type": "code",
   "execution_count": null,
   "metadata": {},
   "outputs": [],
   "source": [
    "#data_1819.replace(value='8920.8',to_replace=idx_outlierdata,inplace=True)"
   ]
  },
  {
   "cell_type": "code",
   "execution_count": null,
   "metadata": {},
   "outputs": [],
   "source": [
    "#data_1920.replace(value='41300',to_replace=idx_outlierdata_1,inplace=True)\n",
    "#data_1920.replace(value='41300',to_replace=idx_outlierdata_2,inplace=True)"
   ]
  },
  {
   "cell_type": "code",
   "execution_count": null,
   "metadata": {},
   "outputs": [],
   "source": [
    "#data_1819['invdate']"
   ]
  },
  {
   "cell_type": "markdown",
   "metadata": {},
   "source": [
    "Moving average plot on the data"
   ]
  },
  {
   "cell_type": "markdown",
   "metadata": {},
   "source": []
  },
  {
   "cell_type": "markdown",
   "metadata": {},
   "source": []
  },
  {
   "cell_type": "code",
   "execution_count": 114,
   "metadata": {},
   "outputs": [],
   "source": [
    "data_combined = data_combined.set_index('invdate')"
   ]
  },
  {
   "cell_type": "code",
   "execution_count": 222,
   "metadata": {},
   "outputs": [
    {
     "data": {
      "text/html": [
       "<div>\n",
       "<style scoped>\n",
       "    .dataframe tbody tr th:only-of-type {\n",
       "        vertical-align: middle;\n",
       "    }\n",
       "\n",
       "    .dataframe tbody tr th {\n",
       "        vertical-align: top;\n",
       "    }\n",
       "\n",
       "    .dataframe thead th {\n",
       "        text-align: right;\n",
       "    }\n",
       "</style>\n",
       "<table border=\"1\" class=\"dataframe\">\n",
       "  <thead>\n",
       "    <tr style=\"text-align: right;\">\n",
       "      <th></th>\n",
       "      <th>slno</th>\n",
       "      <th>branch</th>\n",
       "      <th>customername</th>\n",
       "      <th>custpono</th>\n",
       "      <th>description</th>\n",
       "      <th>qty</th>\n",
       "      <th>baseprice</th>\n",
       "      <th>totalprice</th>\n",
       "      <th>taxstructure</th>\n",
       "      <th>cgst</th>\n",
       "      <th>sgst</th>\n",
       "      <th>igst</th>\n",
       "      <th>totalwithtaxamount</th>\n",
       "      <th>invno</th>\n",
       "      <th>invvalue</th>\n",
       "    </tr>\n",
       "    <tr>\n",
       "      <th>invdate</th>\n",
       "      <th></th>\n",
       "      <th></th>\n",
       "      <th></th>\n",
       "      <th></th>\n",
       "      <th></th>\n",
       "      <th></th>\n",
       "      <th></th>\n",
       "      <th></th>\n",
       "      <th></th>\n",
       "      <th></th>\n",
       "      <th></th>\n",
       "      <th></th>\n",
       "      <th></th>\n",
       "      <th></th>\n",
       "      <th></th>\n",
       "    </tr>\n",
       "  </thead>\n",
       "  <tbody>\n",
       "    <tr>\n",
       "      <th>2019-12-19 00:00:00</th>\n",
       "      <td>NaN</td>\n",
       "      <td>BLR</td>\n",
       "      <td>Micron Technology Operations India LLP</td>\n",
       "      <td>3500438556</td>\n",
       "      <td>USB miniB Cable</td>\n",
       "      <td>1500.0</td>\n",
       "      <td>68.0</td>\n",
       "      <td>102000.0</td>\n",
       "      <td>0.0</td>\n",
       "      <td>0.00</td>\n",
       "      <td>0.00</td>\n",
       "      <td>0.0</td>\n",
       "      <td>102000.0</td>\n",
       "      <td>2919201365</td>\n",
       "      <td>162000</td>\n",
       "    </tr>\n",
       "    <tr>\n",
       "      <th>2018-07-18 00:00:00</th>\n",
       "      <td>277.0</td>\n",
       "      <td>BLR</td>\n",
       "      <td>Wipro Limited</td>\n",
       "      <td>5500117369</td>\n",
       "      <td>iBall upbeat D3 USB headset</td>\n",
       "      <td>605.0</td>\n",
       "      <td>625.0</td>\n",
       "      <td>378125.0</td>\n",
       "      <td>18.0</td>\n",
       "      <td>34031.25</td>\n",
       "      <td>34031.25</td>\n",
       "      <td>0.0</td>\n",
       "      <td>446187.5</td>\n",
       "      <td>2918191140</td>\n",
       "      <td>0</td>\n",
       "    </tr>\n",
       "    <tr>\n",
       "      <th>2018-07-04 00:00:00</th>\n",
       "      <td>192.0</td>\n",
       "      <td>BLR</td>\n",
       "      <td>Sandisk In Device Design</td>\n",
       "      <td>4300226633</td>\n",
       "      <td>Cat 6 Lan Cables (3mts)</td>\n",
       "      <td>600.0</td>\n",
       "      <td>115.0</td>\n",
       "      <td>69000.0</td>\n",
       "      <td>18.0</td>\n",
       "      <td>6210.00</td>\n",
       "      <td>6210.00</td>\n",
       "      <td>0.0</td>\n",
       "      <td>81420.0</td>\n",
       "      <td>2918191108</td>\n",
       "      <td>0</td>\n",
       "    </tr>\n",
       "    <tr>\n",
       "      <th>2019-12-19 00:00:00</th>\n",
       "      <td>NaN</td>\n",
       "      <td>BLR</td>\n",
       "      <td>Micron Technology Operations India LLP</td>\n",
       "      <td>3500438556</td>\n",
       "      <td>C14 To C13 Power Cord(1 Meter)</td>\n",
       "      <td>500.0</td>\n",
       "      <td>120.0</td>\n",
       "      <td>60000.0</td>\n",
       "      <td>0.0</td>\n",
       "      <td>0.00</td>\n",
       "      <td>0.00</td>\n",
       "      <td>0.0</td>\n",
       "      <td>60000.0</td>\n",
       "      <td>2919201365</td>\n",
       "      <td>NaN</td>\n",
       "    </tr>\n",
       "    <tr>\n",
       "      <th>2019-03-29 00:00:00</th>\n",
       "      <td>1104.0</td>\n",
       "      <td>BLR</td>\n",
       "      <td>Sandisk In Device Design</td>\n",
       "      <td>IN5310-P002750</td>\n",
       "      <td>DISCRETE WIRE375mm</td>\n",
       "      <td>500.0</td>\n",
       "      <td>140.0</td>\n",
       "      <td>70000.0</td>\n",
       "      <td>18.0</td>\n",
       "      <td>6300.00</td>\n",
       "      <td>6300.00</td>\n",
       "      <td>0.0</td>\n",
       "      <td>82600.0</td>\n",
       "      <td>2918191612</td>\n",
       "      <td>82600</td>\n",
       "    </tr>\n",
       "    <tr>\n",
       "      <th>...</th>\n",
       "      <td>...</td>\n",
       "      <td>...</td>\n",
       "      <td>...</td>\n",
       "      <td>...</td>\n",
       "      <td>...</td>\n",
       "      <td>...</td>\n",
       "      <td>...</td>\n",
       "      <td>...</td>\n",
       "      <td>...</td>\n",
       "      <td>...</td>\n",
       "      <td>...</td>\n",
       "      <td>...</td>\n",
       "      <td>...</td>\n",
       "      <td>...</td>\n",
       "      <td>...</td>\n",
       "    </tr>\n",
       "    <tr>\n",
       "      <th>2019-01-29 00:00:00</th>\n",
       "      <td>997.0</td>\n",
       "      <td>BLR</td>\n",
       "      <td>Sobha Limited</td>\n",
       "      <td>1-Pur-25012019-APO-000753</td>\n",
       "      <td>Epson EB-S41</td>\n",
       "      <td>1.0</td>\n",
       "      <td>22000.0</td>\n",
       "      <td>22000.0</td>\n",
       "      <td>18.0</td>\n",
       "      <td>1980.00</td>\n",
       "      <td>1980.00</td>\n",
       "      <td>0.0</td>\n",
       "      <td>25960.0</td>\n",
       "      <td>2918191536</td>\n",
       "      <td>28160</td>\n",
       "    </tr>\n",
       "    <tr>\n",
       "      <th>2019-01-29 00:00:00</th>\n",
       "      <td>996.0</td>\n",
       "      <td>BLR</td>\n",
       "      <td>Iron Mountain Services Pvt Ltd.</td>\n",
       "      <td>IMS/42/2018-19</td>\n",
       "      <td>HP ProDesk 600 G3 Small Form Factor</td>\n",
       "      <td>1.0</td>\n",
       "      <td>85000.0</td>\n",
       "      <td>85000.0</td>\n",
       "      <td>0.0</td>\n",
       "      <td>0.00</td>\n",
       "      <td>0.00</td>\n",
       "      <td>0.0</td>\n",
       "      <td>85000.0</td>\n",
       "      <td>2918191535</td>\n",
       "      <td>85000</td>\n",
       "    </tr>\n",
       "    <tr>\n",
       "      <th>2020-01-23 00:00:00</th>\n",
       "      <td>NaN</td>\n",
       "      <td>PUN</td>\n",
       "      <td>T-systems Information And Communication Techno...</td>\n",
       "      <td>Mail Confirmation</td>\n",
       "      <td>Single 3.5mm Smartphone Headset Adapter Cable</td>\n",
       "      <td>1.0</td>\n",
       "      <td>580.0</td>\n",
       "      <td>580.0</td>\n",
       "      <td>18.0</td>\n",
       "      <td>52.20</td>\n",
       "      <td>52.20</td>\n",
       "      <td>0.0</td>\n",
       "      <td>684.4</td>\n",
       "      <td>2719201048</td>\n",
       "      <td>684</td>\n",
       "    </tr>\n",
       "    <tr>\n",
       "      <th>2019-10-11 00:00:00</th>\n",
       "      <td>NaN</td>\n",
       "      <td>BLR</td>\n",
       "      <td>NaN</td>\n",
       "      <td>NaN</td>\n",
       "      <td>NaN</td>\n",
       "      <td>NaN</td>\n",
       "      <td>NaN</td>\n",
       "      <td>NaN</td>\n",
       "      <td>NaN</td>\n",
       "      <td>NaN</td>\n",
       "      <td>0.00</td>\n",
       "      <td>NaN</td>\n",
       "      <td>NaN</td>\n",
       "      <td>NaN</td>\n",
       "      <td>NaN</td>\n",
       "    </tr>\n",
       "    <tr>\n",
       "      <th>2019-12-11 00:00:00</th>\n",
       "      <td>NaN</td>\n",
       "      <td>NaN</td>\n",
       "      <td>NaN</td>\n",
       "      <td>NaN</td>\n",
       "      <td>NaN</td>\n",
       "      <td>NaN</td>\n",
       "      <td>NaN</td>\n",
       "      <td>NaN</td>\n",
       "      <td>NaN</td>\n",
       "      <td>NaN</td>\n",
       "      <td>NaN</td>\n",
       "      <td>NaN</td>\n",
       "      <td>NaN</td>\n",
       "      <td>NaN</td>\n",
       "      <td>NaN</td>\n",
       "    </tr>\n",
       "  </tbody>\n",
       "</table>\n",
       "<p>1978 rows × 15 columns</p>\n",
       "</div>"
      ],
      "text/plain": [
       "                       slno branch  \\\n",
       "invdate                              \n",
       "2019-12-19 00:00:00     NaN    BLR   \n",
       "2018-07-18 00:00:00   277.0    BLR   \n",
       "2018-07-04 00:00:00   192.0    BLR   \n",
       "2019-12-19 00:00:00     NaN    BLR   \n",
       "2019-03-29 00:00:00  1104.0    BLR   \n",
       "...                     ...    ...   \n",
       "2019-01-29 00:00:00   997.0    BLR   \n",
       "2019-01-29 00:00:00   996.0    BLR   \n",
       "2020-01-23 00:00:00     NaN    PUN   \n",
       "2019-10-11 00:00:00     NaN    BLR   \n",
       "2019-12-11 00:00:00     NaN    NaN   \n",
       "\n",
       "                                                          customername  \\\n",
       "invdate                                                                  \n",
       "2019-12-19 00:00:00             Micron Technology Operations India LLP   \n",
       "2018-07-18 00:00:00                                      Wipro Limited   \n",
       "2018-07-04 00:00:00                          Sandisk In Device Design    \n",
       "2019-12-19 00:00:00             Micron Technology Operations India LLP   \n",
       "2019-03-29 00:00:00                          Sandisk In Device Design    \n",
       "...                                                                ...   \n",
       "2019-01-29 00:00:00                                     Sobha Limited    \n",
       "2019-01-29 00:00:00                    Iron Mountain Services Pvt Ltd.   \n",
       "2020-01-23 00:00:00  T-systems Information And Communication Techno...   \n",
       "2019-10-11 00:00:00                                                NaN   \n",
       "2019-12-11 00:00:00                                                NaN   \n",
       "\n",
       "                                      custpono  \\\n",
       "invdate                                          \n",
       "2019-12-19 00:00:00                 3500438556   \n",
       "2018-07-18 00:00:00                 5500117369   \n",
       "2018-07-04 00:00:00                 4300226633   \n",
       "2019-12-19 00:00:00                 3500438556   \n",
       "2019-03-29 00:00:00             IN5310-P002750   \n",
       "...                                        ...   \n",
       "2019-01-29 00:00:00  1-Pur-25012019-APO-000753   \n",
       "2019-01-29 00:00:00             IMS/42/2018-19   \n",
       "2020-01-23 00:00:00          Mail Confirmation   \n",
       "2019-10-11 00:00:00                        NaN   \n",
       "2019-12-11 00:00:00                        NaN   \n",
       "\n",
       "                                                       description     qty  \\\n",
       "invdate                                                                      \n",
       "2019-12-19 00:00:00                                USB miniB Cable  1500.0   \n",
       "2018-07-18 00:00:00                    iBall upbeat D3 USB headset   605.0   \n",
       "2018-07-04 00:00:00                        Cat 6 Lan Cables (3mts)   600.0   \n",
       "2019-12-19 00:00:00                 C14 To C13 Power Cord(1 Meter)   500.0   \n",
       "2019-03-29 00:00:00                             DISCRETE WIRE375mm   500.0   \n",
       "...                                                            ...     ...   \n",
       "2019-01-29 00:00:00                                   Epson EB-S41     1.0   \n",
       "2019-01-29 00:00:00            HP ProDesk 600 G3 Small Form Factor     1.0   \n",
       "2020-01-23 00:00:00  Single 3.5mm Smartphone Headset Adapter Cable     1.0   \n",
       "2019-10-11 00:00:00                                            NaN     NaN   \n",
       "2019-12-11 00:00:00                                            NaN     NaN   \n",
       "\n",
       "                     baseprice  totalprice  taxstructure      cgst      sgst  \\\n",
       "invdate                                                                        \n",
       "2019-12-19 00:00:00       68.0    102000.0           0.0      0.00      0.00   \n",
       "2018-07-18 00:00:00      625.0    378125.0          18.0  34031.25  34031.25   \n",
       "2018-07-04 00:00:00      115.0     69000.0          18.0   6210.00   6210.00   \n",
       "2019-12-19 00:00:00      120.0     60000.0           0.0      0.00      0.00   \n",
       "2019-03-29 00:00:00      140.0     70000.0          18.0   6300.00   6300.00   \n",
       "...                        ...         ...           ...       ...       ...   \n",
       "2019-01-29 00:00:00    22000.0     22000.0          18.0   1980.00   1980.00   \n",
       "2019-01-29 00:00:00    85000.0     85000.0           0.0      0.00      0.00   \n",
       "2020-01-23 00:00:00      580.0       580.0          18.0     52.20     52.20   \n",
       "2019-10-11 00:00:00        NaN         NaN           NaN       NaN      0.00   \n",
       "2019-12-11 00:00:00        NaN         NaN           NaN       NaN       NaN   \n",
       "\n",
       "                     igst  totalwithtaxamount       invno invvalue  \n",
       "invdate                                                             \n",
       "2019-12-19 00:00:00   0.0            102000.0  2919201365   162000  \n",
       "2018-07-18 00:00:00   0.0            446187.5  2918191140        0  \n",
       "2018-07-04 00:00:00   0.0             81420.0  2918191108        0  \n",
       "2019-12-19 00:00:00   0.0             60000.0  2919201365      NaN  \n",
       "2019-03-29 00:00:00   0.0             82600.0  2918191612    82600  \n",
       "...                   ...                 ...         ...      ...  \n",
       "2019-01-29 00:00:00   0.0             25960.0  2918191536    28160  \n",
       "2019-01-29 00:00:00   0.0             85000.0  2918191535    85000  \n",
       "2020-01-23 00:00:00   0.0               684.4  2719201048      684  \n",
       "2019-10-11 00:00:00   NaN                 NaN         NaN      NaN  \n",
       "2019-12-11 00:00:00   NaN                 NaN         NaN      NaN  \n",
       "\n",
       "[1978 rows x 15 columns]"
      ]
     },
     "execution_count": 222,
     "metadata": {},
     "output_type": "execute_result"
    }
   ],
   "source": [
    "data_combined"
   ]
  },
  {
   "cell_type": "code",
   "execution_count": 116,
   "metadata": {},
   "outputs": [],
   "source": [
    "#data_1819[data_1819.index == '2018-07-18 00:00:00']  \n",
    "#data_1819[data_1819.index =='2018-07-16 00:00:00']"
   ]
  },
  {
   "cell_type": "code",
   "execution_count": 223,
   "metadata": {},
   "outputs": [],
   "source": [
    "data_combined_1 = data_combined.groupby('invdate')['invvalue'].sum().reset_index()"
   ]
  },
  {
   "cell_type": "code",
   "execution_count": 224,
   "metadata": {},
   "outputs": [
    {
     "data": {
      "text/html": [
       "<div>\n",
       "<style scoped>\n",
       "    .dataframe tbody tr th:only-of-type {\n",
       "        vertical-align: middle;\n",
       "    }\n",
       "\n",
       "    .dataframe tbody tr th {\n",
       "        vertical-align: top;\n",
       "    }\n",
       "\n",
       "    .dataframe thead th {\n",
       "        text-align: right;\n",
       "    }\n",
       "</style>\n",
       "<table border=\"1\" class=\"dataframe\">\n",
       "  <thead>\n",
       "    <tr style=\"text-align: right;\">\n",
       "      <th></th>\n",
       "      <th>invdate</th>\n",
       "      <th>invvalue</th>\n",
       "    </tr>\n",
       "  </thead>\n",
       "  <tbody>\n",
       "  </tbody>\n",
       "</table>\n",
       "</div>"
      ],
      "text/plain": [
       "Empty DataFrame\n",
       "Columns: [invdate, invvalue]\n",
       "Index: []"
      ]
     },
     "execution_count": 224,
     "metadata": {},
     "output_type": "execute_result"
    }
   ],
   "source": [
    "data_combined_1[data_combined_1.index == '2018-07-18 00:00:00']  "
   ]
  },
  {
   "cell_type": "code",
   "execution_count": 225,
   "metadata": {},
   "outputs": [],
   "source": [
    "data_combined_1 = data_combined_1.set_index('invdate')"
   ]
  },
  {
   "cell_type": "code",
   "execution_count": 397,
   "metadata": {},
   "outputs": [],
   "source": [
    "data_combined_1 = data_combined_1.reset_index(drop=True)"
   ]
  },
  {
   "cell_type": "code",
   "execution_count": 398,
   "metadata": {
    "collapsed": true
   },
   "outputs": [
    {
     "data": {
      "text/html": [
       "<div>\n",
       "<style scoped>\n",
       "    .dataframe tbody tr th:only-of-type {\n",
       "        vertical-align: middle;\n",
       "    }\n",
       "\n",
       "    .dataframe tbody tr th {\n",
       "        vertical-align: top;\n",
       "    }\n",
       "\n",
       "    .dataframe thead th {\n",
       "        text-align: right;\n",
       "    }\n",
       "</style>\n",
       "<table border=\"1\" class=\"dataframe\">\n",
       "  <thead>\n",
       "    <tr style=\"text-align: right;\">\n",
       "      <th></th>\n",
       "      <th>invvalue</th>\n",
       "    </tr>\n",
       "  </thead>\n",
       "  <tbody>\n",
       "    <tr>\n",
       "      <th>0</th>\n",
       "      <td>30680.0</td>\n",
       "    </tr>\n",
       "    <tr>\n",
       "      <th>1</th>\n",
       "      <td>466302.0</td>\n",
       "    </tr>\n",
       "    <tr>\n",
       "      <th>2</th>\n",
       "      <td>107923.0</td>\n",
       "    </tr>\n",
       "    <tr>\n",
       "      <th>3</th>\n",
       "      <td>175042.0</td>\n",
       "    </tr>\n",
       "    <tr>\n",
       "      <th>4</th>\n",
       "      <td>485100.0</td>\n",
       "    </tr>\n",
       "    <tr>\n",
       "      <th>...</th>\n",
       "      <td>...</td>\n",
       "    </tr>\n",
       "    <tr>\n",
       "      <th>414</th>\n",
       "      <td>397341.0</td>\n",
       "    </tr>\n",
       "    <tr>\n",
       "      <th>415</th>\n",
       "      <td>1179703.0</td>\n",
       "    </tr>\n",
       "    <tr>\n",
       "      <th>416</th>\n",
       "      <td>253304.0</td>\n",
       "    </tr>\n",
       "    <tr>\n",
       "      <th>417</th>\n",
       "      <td>417682.0</td>\n",
       "    </tr>\n",
       "    <tr>\n",
       "      <th>418</th>\n",
       "      <td>65619.0</td>\n",
       "    </tr>\n",
       "  </tbody>\n",
       "</table>\n",
       "<p>419 rows × 1 columns</p>\n",
       "</div>"
      ],
      "text/plain": [
       "      invvalue\n",
       "0      30680.0\n",
       "1     466302.0\n",
       "2     107923.0\n",
       "3     175042.0\n",
       "4     485100.0\n",
       "..         ...\n",
       "414   397341.0\n",
       "415  1179703.0\n",
       "416   253304.0\n",
       "417   417682.0\n",
       "418    65619.0\n",
       "\n",
       "[419 rows x 1 columns]"
      ]
     },
     "execution_count": 398,
     "metadata": {},
     "output_type": "execute_result"
    }
   ],
   "source": [
    "data_combined_1"
   ]
  },
  {
   "cell_type": "code",
   "execution_count": 226,
   "metadata": {},
   "outputs": [],
   "source": [
    "#data_1819_1 = data_1819_1.set_index('invdate')"
   ]
  },
  {
   "cell_type": "code",
   "execution_count": 227,
   "metadata": {},
   "outputs": [],
   "source": [
    "data_combined_1.drop(index='2000-01-01 00:00:00',inplace=True)"
   ]
  },
  {
   "cell_type": "code",
   "execution_count": 228,
   "metadata": {},
   "outputs": [],
   "source": [
    "#y = data_combined_1['invvalue']"
   ]
  },
  {
   "cell_type": "code",
   "execution_count": 399,
   "metadata": {},
   "outputs": [],
   "source": [
    "y = data_combined_1.invvalue\n",
    "train = y[0:300]\n",
    "test = y[301:419]\n"
   ]
  },
  {
   "cell_type": "code",
   "execution_count": 400,
   "metadata": {},
   "outputs": [
    {
     "name": "stdout",
     "output_type": "stream",
     "text": [
      "(300,) (118,)\n"
     ]
    }
   ],
   "source": [
    "print (train.shape,test.shape)"
   ]
  },
  {
   "cell_type": "code",
   "execution_count": 401,
   "metadata": {},
   "outputs": [
    {
     "data": {
      "text/plain": [
       "301     494447.0\n",
       "302    1326746.0\n",
       "303      10200.0\n",
       "304      54931.0\n",
       "305    2183689.2\n",
       "         ...    \n",
       "414     397341.0\n",
       "415    1179703.0\n",
       "416     253304.0\n",
       "417     417682.0\n",
       "418      65619.0\n",
       "Name: invvalue, Length: 118, dtype: float64"
      ]
     },
     "execution_count": 401,
     "metadata": {},
     "output_type": "execute_result"
    }
   ],
   "source": [
    "test"
   ]
  },
  {
   "cell_type": "code",
   "execution_count": 402,
   "metadata": {},
   "outputs": [
    {
     "data": {
      "image/png": "[encoded data removed]",
      "text/plain": [
       "<Figure size 1080x360 with 1 Axes>"
      ]
     },
     "metadata": {
      "needs_background": "light"
     },
     "output_type": "display_data"
    }
   ],
   "source": [
    "test.plot(figsize=(15, 5))\n",
    "plt.show()"
   ]
  },
  {
   "cell_type": "code",
   "execution_count": 403,
   "metadata": {},
   "outputs": [
    {
     "data": {
      "text/plain": [
       "[<matplotlib.lines.Line2D at 0x1a35d85cd0>]"
      ]
     },
     "execution_count": 403,
     "metadata": {},
     "output_type": "execute_result"
    },
    {
     "data": {
      "image/png": "[encoded data removed]",
      "text/plain": [
       "<Figure size 432x288 with 1 Axes>"
      ]
     },
     "metadata": {
      "needs_background": "light"
     },
     "output_type": "display_data"
    }
   ],
   "source": [
    "plt.plot(predicitions)"
   ]
  },
  {
   "cell_type": "code",
   "execution_count": 131,
   "metadata": {},
   "outputs": [],
   "source": [
    "#sb.lineplot(x=data_1819.index,y=data_1819.invvalue)"
   ]
  },
  {
   "cell_type": "code",
   "execution_count": 107,
   "metadata": {},
   "outputs": [],
   "source": [
    "#!pip install statsmodels"
   ]
  },
  {
   "cell_type": "markdown",
   "metadata": {},
   "source": [
    "Forecating or Statistical method used and Why?"
   ]
  },
  {
   "cell_type": "markdown",
   "metadata": {},
   "source": [
    "Statistical evidence of training, Validating and forecasting"
   ]
  },
  {
   "cell_type": "code",
   "execution_count": 167,
   "metadata": {
    "scrolled": true
   },
   "outputs": [],
   "source": [
    "from statsmodels.tsa.arima_model import ARIMA\n",
    "from statsmodels.tsa.seasonal import seasonal_decompose"
   ]
  },
  {
   "cell_type": "code",
   "execution_count": 133,
   "metadata": {},
   "outputs": [],
   "source": [
    "import warnings \n",
    "warnings.filterwarnings('ignore')"
   ]
  },
  {
   "cell_type": "code",
   "execution_count": 519,
   "metadata": {
    "scrolled": true
   },
   "outputs": [
    {
     "name": "stdout",
     "output_type": "stream",
     "text": [
      "8949.824091701515\n"
     ]
    }
   ],
   "source": [
    "model_arima = ARIMA(train,order=(8, 0, 8)) #214,8, 0, 8\n",
    "model_arima_fit = model_arima.fit()\n",
    "print (model_arima_fit.aic)"
   ]
  },
  {
   "cell_type": "code",
   "execution_count": 520,
   "metadata": {},
   "outputs": [],
   "source": [
    "predicitions =[]\n",
    "predicitions = model_arima_fit.predict(start=300,end=419)"
   ]
  },
  {
   "cell_type": "code",
   "execution_count": 521,
   "metadata": {
    "scrolled": true
   },
   "outputs": [
    {
     "data": {
      "text/plain": [
       "[<matplotlib.lines.Line2D at 0x1a3b281290>]"
      ]
     },
     "execution_count": 521,
     "metadata": {},
     "output_type": "execute_result"
    },
    {
     "data": {
      "image/png": "[encoded data removed]",
      "text/plain": [
       "<Figure size 432x288 with 1 Axes>"
      ]
     },
     "metadata": {
      "needs_background": "light"
     },
     "output_type": "display_data"
    }
   ],
   "source": [
    "plt.plot(test)\n",
    "plt.plot(predicitions,color='red')"
   ]
  },
  {
   "cell_type": "code",
   "execution_count": 548,
   "metadata": {},
   "outputs": [],
   "source": [
    "forecast = pd.DataFrame(forecast)"
   ]
  },
  {
   "cell_type": "code",
   "execution_count": 539,
   "metadata": {},
   "outputs": [],
   "source": [
    "list_a = []\n",
    "\n",
    "for i in range(419,449):\n",
    "    list_a.append(i)"
   ]
  },
  {
   "cell_type": "code",
   "execution_count": 549,
   "metadata": {},
   "outputs": [
    {
     "data": {
      "text/html": [
       "<div>\n",
       "<style scoped>\n",
       "    .dataframe tbody tr th:only-of-type {\n",
       "        vertical-align: middle;\n",
       "    }\n",
       "\n",
       "    .dataframe tbody tr th {\n",
       "        vertical-align: top;\n",
       "    }\n",
       "\n",
       "    .dataframe thead th {\n",
       "        text-align: right;\n",
       "    }\n",
       "</style>\n",
       "<table border=\"1\" class=\"dataframe\">\n",
       "  <thead>\n",
       "    <tr style=\"text-align: right;\">\n",
       "      <th></th>\n",
       "      <th>0</th>\n",
       "    </tr>\n",
       "  </thead>\n",
       "  <tbody>\n",
       "    <tr>\n",
       "      <th>0</th>\n",
       "      <td>385278.702767</td>\n",
       "    </tr>\n",
       "    <tr>\n",
       "      <th>1</th>\n",
       "      <td>399381.050783</td>\n",
       "    </tr>\n",
       "    <tr>\n",
       "      <th>2</th>\n",
       "      <td>374325.535715</td>\n",
       "    </tr>\n",
       "    <tr>\n",
       "      <th>3</th>\n",
       "      <td>550665.295216</td>\n",
       "    </tr>\n",
       "    <tr>\n",
       "      <th>4</th>\n",
       "      <td>81771.331067</td>\n",
       "    </tr>\n",
       "    <tr>\n",
       "      <th>5</th>\n",
       "      <td>483563.927596</td>\n",
       "    </tr>\n",
       "    <tr>\n",
       "      <th>6</th>\n",
       "      <td>307056.299317</td>\n",
       "    </tr>\n",
       "    <tr>\n",
       "      <th>7</th>\n",
       "      <td>494140.761766</td>\n",
       "    </tr>\n",
       "    <tr>\n",
       "      <th>8</th>\n",
       "      <td>293669.659288</td>\n",
       "    </tr>\n",
       "    <tr>\n",
       "      <th>9</th>\n",
       "      <td>472529.173453</td>\n",
       "    </tr>\n",
       "    <tr>\n",
       "      <th>10</th>\n",
       "      <td>137314.621854</td>\n",
       "    </tr>\n",
       "    <tr>\n",
       "      <th>11</th>\n",
       "      <td>447372.402880</td>\n",
       "    </tr>\n",
       "    <tr>\n",
       "      <th>12</th>\n",
       "      <td>430152.287637</td>\n",
       "    </tr>\n",
       "    <tr>\n",
       "      <th>13</th>\n",
       "      <td>341590.735193</td>\n",
       "    </tr>\n",
       "    <tr>\n",
       "      <th>14</th>\n",
       "      <td>381275.894510</td>\n",
       "    </tr>\n",
       "    <tr>\n",
       "      <th>15</th>\n",
       "      <td>286610.381250</td>\n",
       "    </tr>\n",
       "    <tr>\n",
       "      <th>16</th>\n",
       "      <td>327729.233287</td>\n",
       "    </tr>\n",
       "    <tr>\n",
       "      <th>17</th>\n",
       "      <td>342672.564415</td>\n",
       "    </tr>\n",
       "    <tr>\n",
       "      <th>18</th>\n",
       "      <td>534458.980993</td>\n",
       "    </tr>\n",
       "    <tr>\n",
       "      <th>19</th>\n",
       "      <td>193775.300669</td>\n",
       "    </tr>\n",
       "    <tr>\n",
       "      <th>20</th>\n",
       "      <td>423790.450008</td>\n",
       "    </tr>\n",
       "    <tr>\n",
       "      <th>21</th>\n",
       "      <td>239001.750363</td>\n",
       "    </tr>\n",
       "    <tr>\n",
       "      <th>22</th>\n",
       "      <td>399302.930341</td>\n",
       "    </tr>\n",
       "    <tr>\n",
       "      <th>23</th>\n",
       "      <td>355377.853470</td>\n",
       "    </tr>\n",
       "    <tr>\n",
       "      <th>24</th>\n",
       "      <td>455052.484381</td>\n",
       "    </tr>\n",
       "    <tr>\n",
       "      <th>25</th>\n",
       "      <td>213645.721862</td>\n",
       "    </tr>\n",
       "    <tr>\n",
       "      <th>26</th>\n",
       "      <td>344933.384799</td>\n",
       "    </tr>\n",
       "    <tr>\n",
       "      <th>27</th>\n",
       "      <td>357848.114554</td>\n",
       "    </tr>\n",
       "    <tr>\n",
       "      <th>28</th>\n",
       "      <td>329679.804988</td>\n",
       "    </tr>\n",
       "    <tr>\n",
       "      <th>29</th>\n",
       "      <td>438163.843459</td>\n",
       "    </tr>\n",
       "  </tbody>\n",
       "</table>\n",
       "</div>"
      ],
      "text/plain": [
       "                0\n",
       "0   385278.702767\n",
       "1   399381.050783\n",
       "2   374325.535715\n",
       "3   550665.295216\n",
       "4    81771.331067\n",
       "5   483563.927596\n",
       "6   307056.299317\n",
       "7   494140.761766\n",
       "8   293669.659288\n",
       "9   472529.173453\n",
       "10  137314.621854\n",
       "11  447372.402880\n",
       "12  430152.287637\n",
       "13  341590.735193\n",
       "14  381275.894510\n",
       "15  286610.381250\n",
       "16  327729.233287\n",
       "17  342672.564415\n",
       "18  534458.980993\n",
       "19  193775.300669\n",
       "20  423790.450008\n",
       "21  239001.750363\n",
       "22  399302.930341\n",
       "23  355377.853470\n",
       "24  455052.484381\n",
       "25  213645.721862\n",
       "26  344933.384799\n",
       "27  357848.114554\n",
       "28  329679.804988\n",
       "29  438163.843459"
      ]
     },
     "execution_count": 549,
     "metadata": {},
     "output_type": "execute_result"
    }
   ],
   "source": [
    "forecast"
   ]
  },
  {
   "cell_type": "code",
   "execution_count": 551,
   "metadata": {},
   "outputs": [
    {
     "data": {
      "text/plain": [
       "[<matplotlib.lines.Line2D at 0x1a3b58c650>]"
      ]
     },
     "execution_count": 551,
     "metadata": {},
     "output_type": "execute_result"
    },
    {
     "data": {
      "image/png": "[encoded data removed]",
      "text/plain": [
       "<Figure size 1080x360 with 1 Axes>"
      ]
     },
     "metadata": {
      "needs_background": "light"
     },
     "output_type": "display_data"
    }
   ],
   "source": [
    "test.plot(figsize=(15,5))\n",
    "plt.plot(predicitions)"
   ]
  },
  {
   "cell_type": "code",
   "execution_count": 552,
   "metadata": {},
   "outputs": [],
   "source": [
    "forecast = model_arima_fit.forecast(steps=100)[0]"
   ]
  },
  {
   "cell_type": "code",
   "execution_count": 553,
   "metadata": {},
   "outputs": [
    {
     "data": {
      "text/plain": [
       "array([385278.70276668, 399381.05078285, 374325.53571475, 550665.29521649,\n",
       "        81771.33106667, 483563.92759571, 307056.29931732, 494140.76176634,\n",
       "       293669.65928807, 472529.17345312, 137314.62185449, 447372.40287974,\n",
       "       430152.28763721, 341590.73519254, 381275.89450978, 286610.38125026,\n",
       "       327729.23328723, 342672.56441522, 534458.98099311, 193775.30066853,\n",
       "       423790.45000791, 239001.75036333, 399302.93034092, 355377.85346961,\n",
       "       455052.48438105, 213645.72186229, 344933.38479858, 357848.11455433,\n",
       "       329679.80498777, 438163.84345879, 299672.79634216, 303663.41292727,\n",
       "       282359.16725278, 458293.34058227, 276960.11956927, 437217.72182545,\n",
       "       251359.00030124, 322653.32838391, 338581.56432454, 427827.57406111,\n",
       "       310983.40753274, 342330.72990226, 320188.64204241, 288525.76474332,\n",
       "       434958.76194103, 344585.30910655, 349202.01736875, 280894.9043845 ,\n",
       "       382703.32624166, 299483.36976967, 449048.09152559, 319825.54417924,\n",
       "       323433.88520282, 321608.72209911, 377254.26814915, 363288.38139003,\n",
       "       383610.36499637, 348656.73370708, 281897.34491009, 397548.17113101,\n",
       "       355764.50119115, 398638.30785822, 333403.71193531, 360757.9183657 ,\n",
       "       298675.59446634, 422128.87967488, 369033.73319961, 366381.39769372,\n",
       "       344077.28942806, 341448.09416739, 361977.9452461 , 397134.25469018,\n",
       "       391535.91448728, 318294.72819178, 374648.49108874, 336735.25095068,\n",
       "       401415.92134903, 376907.07468029, 378642.20112149, 313986.43791236,\n",
       "       380522.08597043, 367374.93379989, 387404.76079357, 379546.55880414,\n",
       "       340737.1178205 , 346443.18435516, 371392.82008174, 397076.56809388,\n",
       "       355186.34876026, 378250.8309437 , 323930.87400183, 370449.4321188 ,\n",
       "       375538.06845323, 389210.26451257, 342809.79887768, 358702.79141862,\n",
       "       343141.15012556, 368708.4553153 , 388721.27934597, 355479.89057905])"
      ]
     },
     "execution_count": 553,
     "metadata": {},
     "output_type": "execute_result"
    }
   ],
   "source": [
    "forecast"
   ]
  },
  {
   "cell_type": "code",
   "execution_count": 557,
   "metadata": {},
   "outputs": [
    {
     "data": {
      "text/plain": [
       "[<matplotlib.lines.Line2D at 0x1a3b81da90>]"
      ]
     },
     "execution_count": 557,
     "metadata": {},
     "output_type": "execute_result"
    },
    {
     "data": {
      "image/png": "[encoded data removed]",
      "text/plain": [
       "<Figure size 432x288 with 1 Axes>"
      ]
     },
     "metadata": {
      "needs_background": "light"
     },
     "output_type": "display_data"
    }
   ],
   "source": [
    "plt.plot(forecast)"
   ]
  },
  {
   "cell_type": "code",
   "execution_count": 500,
   "metadata": {},
   "outputs": [],
   "source": [
    "import itertools\n",
    "\n",
    "p=d=q =range(0,9)\n",
    "\n",
    "pdq_ran = list(itertools.product(p,d,q))"
   ]
  },
  {
   "cell_type": "code",
   "execution_count": 501,
   "metadata": {},
   "outputs": [
    {
     "name": "stdout",
     "output_type": "stream",
     "text": [
      "8937.655657393374 (0, 0, 0)\n",
      "8939.655403745322 (0, 0, 1)\n",
      "8941.65070306887 (0, 0, 2)\n",
      "8943.650632573237 (0, 0, 3)\n",
      "8945.542848993962 (0, 0, 4)\n",
      "8947.540558111363 (0, 0, 5)\n",
      "8949.44238450144 (0, 0, 6)\n",
      "8951.408634576646 (0, 0, 7)\n",
      "8951.112922692024 (0, 0, 8)\n",
      "9115.913537932687 (0, 1, 0)\n",
      "8912.930309448013 (0, 1, 1)\n",
      "8914.90484972563 (0, 1, 2)\n",
      "8916.856723194458 (0, 1, 3)\n",
      "8918.827004635039 (0, 1, 4)\n",
      "8920.58971530918 (0, 1, 5)\n",
      "8922.574782368036 (0, 1, 6)\n",
      "8924.335209093755 (0, 1, 7)\n",
      "8926.207261139427 (0, 1, 8)\n",
      "9413.373464501505 (0, 2, 0)\n",
      "9094.136958965275 (0, 2, 1)\n",
      "8899.903971113627 (0, 2, 2)\n",
      "8901.852492420123 (0, 2, 3)\n",
      "8903.917589132456 (0, 2, 4)\n",
      "8905.840930386023 (0, 2, 5)\n",
      "8907.6827614754 (0, 2, 6)\n",
      "8909.736530149159 (0, 2, 7)\n",
      "8911.55747392886 (0, 2, 8)\n",
      "8939.655405714762 (1, 0, 0)\n",
      "8941.652661650893 (1, 0, 1)\n",
      "8943.639623406223 (1, 0, 2)\n",
      "8945.633429263 (1, 0, 3)\n",
      "8947.535336082485 (1, 0, 4)\n",
      "8949.534907875212 (1, 0, 5)\n",
      "8951.438478283268 (1, 0, 6)\n",
      "8950.656489612817 (1, 0, 7)\n",
      "8951.378738187135 (1, 0, 8)\n",
      "9032.798975311029 (1, 1, 0)\n",
      "8914.90566134223 (1, 1, 1)\n",
      "8916.497012271024 (1, 1, 2)\n",
      "8918.491960073188 (1, 1, 3)\n",
      "8920.24706439407 (1, 1, 4)\n",
      "8922.216337079371 (1, 1, 5)\n",
      "8923.340674171779 (1, 1, 6)\n",
      "9241.488623418725 (1, 2, 0)\n",
      "8941.650895979308 (2, 0, 0)\n",
      "8943.639376836725 (2, 0, 1)\n",
      "8944.896974108206 (2, 0, 2)\n",
      "8946.830242425545 (2, 0, 3)\n",
      "8948.74102609513 (2, 0, 4)\n",
      "8950.593042889812 (2, 0, 5)\n",
      "8950.73413772231 (2, 0, 6)\n",
      "8951.965178749253 (2, 0, 7)\n",
      "8953.350661632545 (2, 0, 8)\n",
      "8999.590681533818 (2, 1, 0)\n",
      "8916.860574100392 (2, 1, 1)\n",
      "8918.86291573138 (2, 1, 2)\n",
      "8921.606152636701 (2, 1, 4)\n",
      "8915.731300981752 (2, 1, 5)\n",
      "8924.225685046442 (2, 1, 6)\n",
      "8927.756305466233 (2, 1, 8)\n",
      "9156.047009739365 (2, 2, 0)\n",
      "8943.650825656712 (3, 0, 0)\n",
      "8945.574435459383 (3, 0, 1)\n",
      "8946.219214179497 (3, 0, 2)\n",
      "8947.242689330471 (3, 0, 3)\n",
      "8949.048220562474 (3, 0, 4)\n",
      "8951.031152788679 (3, 0, 5)\n",
      "8952.957652487019 (3, 0, 6)\n",
      "8948.17687334759 (3, 0, 7)\n",
      "8954.299063728007 (3, 0, 8)\n",
      "8984.652424989985 (3, 1, 0)\n",
      "8918.884996622739 (3, 1, 1)\n",
      "8920.860205377863 (3, 1, 2)\n",
      "8922.13509056696 (3, 1, 8)\n",
      "9110.627280091527 (3, 2, 0)\n",
      "8945.528291176077 (4, 0, 0)\n",
      "8947.513137536127 (4, 0, 1)\n",
      "8949.058452801535 (4, 0, 2)\n",
      "8947.789450759832 (4, 0, 3)\n",
      "8944.430469842451 (4, 0, 4)\n",
      "8946.23553265128 (4, 0, 5)\n",
      "8947.266342185609 (4, 0, 6)\n",
      "8957.612016631783 (4, 0, 7)\n",
      "8950.752571591227 (4, 0, 8)\n",
      "8973.21263391767 (4, 1, 0)\n",
      "8920.581720935745 (4, 1, 1)\n",
      "8922.259425825223 (4, 1, 2)\n",
      "8915.69461022816 (4, 1, 3)\n",
      "8927.867395023088 (4, 1, 5)\n",
      "8928.928506317867 (4, 1, 6)\n",
      "8932.98542745695 (4, 1, 7)\n",
      "8935.066784600234 (4, 1, 8)\n",
      "9075.952873928722 (4, 2, 0)\n",
      "8947.52115669717 (5, 0, 0)\n",
      "8949.511455909531 (5, 0, 1)\n",
      "8950.015548757405 (5, 0, 2)\n",
      "8951.65467299513 (5, 0, 3)\n",
      "8949.94784683562 (5, 0, 5)\n",
      "8945.271427663489 (5, 0, 6)\n",
      "8958.276688689033 (5, 0, 7)\n",
      "8948.941899243438 (5, 0, 8)\n",
      "8968.121780577085 (5, 1, 0)\n",
      "8922.594463823663 (5, 1, 1)\n",
      "8923.511696783538 (5, 1, 2)\n",
      "8917.694209085143 (5, 1, 3)\n",
      "8929.803340050272 (5, 1, 5)\n",
      "9054.138108120873 (5, 2, 0)\n",
      "8949.3077730988 (5, 2, 1)\n",
      "8949.412935132974 (6, 0, 0)\n",
      "8951.47028097526 (6, 0, 1)\n",
      "8950.594609231775 (6, 0, 2)\n",
      "8954.003985763493 (6, 0, 3)\n",
      "8945.33537694036 (6, 0, 5)\n",
      "8949.239768480626 (6, 0, 6)\n",
      "8958.018947488223 (6, 0, 7)\n",
      "8951.984536845634 (6, 0, 8)\n",
      "8964.019198598473 (6, 1, 0)\n",
      "8924.33251337366 (6, 1, 1)\n",
      "8925.34827742938 (6, 1, 2)\n",
      "8927.16032905329 (6, 1, 3)\n",
      "8920.643011780267 (6, 1, 4)\n",
      "8924.067696964321 (6, 1, 5)\n",
      "9044.680239150517 (6, 2, 0)\n",
      "8945.481499693828 (6, 2, 1)\n",
      "8951.390363190938 (7, 0, 0)\n",
      "8951.106493379115 (7, 0, 1)\n",
      "8954.078682081077 (7, 0, 2)\n",
      "8948.16718845605 (7, 0, 3)\n",
      "8955.379420967627 (7, 0, 4)\n",
      "8961.547814411608 (7, 0, 5)\n",
      "8957.266375988032 (7, 0, 6)\n",
      "8955.760303712264 (7, 0, 7)\n",
      "8950.624309647003 (7, 0, 8)\n",
      "8953.972706512388 (7, 1, 0)\n",
      "8926.235466090206 (7, 1, 1)\n",
      "8925.878627136033 (7, 1, 2)\n",
      "8927.335312388961 (7, 1, 3)\n",
      "8928.809999568748 (7, 1, 5)\n",
      "9019.319040851697 (7, 2, 0)\n",
      "8935.824363048567 (7, 2, 1)\n",
      "8951.6448837925 (8, 0, 0)\n",
      "8952.095665749473 (8, 0, 1)\n",
      "8954.089894678573 (8, 0, 2)\n",
      "8956.40142807736 (8, 0, 3)\n",
      "8956.798921830685 (8, 0, 4)\n",
      "8956.71490669156 (8, 0, 5)\n",
      "8952.587657138132 (8, 0, 6)\n",
      "8950.084851865719 (8, 0, 7)\n",
      "8949.824091701515 (8, 0, 8)\n",
      "8955.261784802393 (8, 1, 0)\n",
      "8926.834074915234 (8, 1, 1)\n",
      "8927.162873994506 (8, 1, 2)\n",
      "9011.086098070848 (8, 2, 0)\n",
      "8937.20536359308 (8, 2, 1)\n",
      "8940.849229185704 (8, 2, 2)\n"
     ]
    }
   ],
   "source": [
    "\n",
    "#Check for the min aic\n",
    "for para in pdq_ran:\n",
    "    try:\n",
    "        model_arima = ARIMA(train,order=para)\n",
    "        model_arima_fit = model_arima.fit()\n",
    "        print (model_arima_fit.aic, para)\n",
    "    except:\n",
    "        continue"
   ]
  },
  {
   "cell_type": "code",
   "execution_count": null,
   "metadata": {},
   "outputs": [],
   "source": []
  }
 ],
 "metadata": {
  "kernelspec": {
   "display_name": "Python 3",
   "language": "python",
   "name": "python3"
  },
  "language_info": {
   "codemirror_mode": {
    "name": "ipython",
    "version": 3
   },
   "file_extension": ".py",
   "mimetype": "text/x-python",
   "name": "python",
   "nbconvert_exporter": "python",
   "pygments_lexer": "ipython3",
   "version": "3.7.6"
  }
 },
 "nbformat": 4,
 "nbformat_minor": 2
}
