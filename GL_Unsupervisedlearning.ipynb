{
 "cells": [
  {
   "cell_type": "code",
   "execution_count": 31,
   "metadata": {},
   "outputs": [],
   "source": [
    "import pandas as pd\n",
    "import numpy as np\n",
    "\n",
    "import matplotlib.pyplot as plt\n",
    "import seaborn as sb\n",
    "\n",
    "from sklearn.preprocessing import LabelEncoder\n",
    "from sklearn.decomposition import PCA\n",
    "from sklearn.preprocessing import StandardScaler\n",
    "from sklearn.model_selection import train_test_split\n",
    "from sklearn.svm import LinearSVR\n",
    "from sklearn.linear_model import LogisticRegression\n",
    "from sklearn.model_selection import KFold\n",
    "from sklearn.model_selection import cross_val_score\n",
    "\n",
    "from sklearn.metrics import classification_report,accuracy_score,confusion_matrix"
   ]
  },
  {
   "cell_type": "code",
   "execution_count": 4,
   "metadata": {},
   "outputs": [],
   "source": [
    "data = pd.read_csv('/Users/shiva/Downloads/vehicle.csv')"
   ]
  },
  {
   "cell_type": "code",
   "execution_count": 5,
   "metadata": {
    "scrolled": true
   },
   "outputs": [
    {
     "data": {
      "text/html": [
       "<div>\n",
       "<style scoped>\n",
       "    .dataframe tbody tr th:only-of-type {\n",
       "        vertical-align: middle;\n",
       "    }\n",
       "\n",
       "    .dataframe tbody tr th {\n",
       "        vertical-align: top;\n",
       "    }\n",
       "\n",
       "    .dataframe thead th {\n",
       "        text-align: right;\n",
       "    }\n",
       "</style>\n",
       "<table border=\"1\" class=\"dataframe\">\n",
       "  <thead>\n",
       "    <tr style=\"text-align: right;\">\n",
       "      <th></th>\n",
       "      <th>compactness</th>\n",
       "      <th>circularity</th>\n",
       "      <th>distance_circularity</th>\n",
       "      <th>radius_ratio</th>\n",
       "      <th>pr.axis_aspect_ratio</th>\n",
       "      <th>max.length_aspect_ratio</th>\n",
       "      <th>scatter_ratio</th>\n",
       "      <th>elongatedness</th>\n",
       "      <th>pr.axis_rectangularity</th>\n",
       "      <th>max.length_rectangularity</th>\n",
       "      <th>scaled_variance</th>\n",
       "      <th>scaled_variance.1</th>\n",
       "      <th>scaled_radius_of_gyration</th>\n",
       "      <th>scaled_radius_of_gyration.1</th>\n",
       "      <th>skewness_about</th>\n",
       "      <th>skewness_about.1</th>\n",
       "      <th>skewness_about.2</th>\n",
       "      <th>hollows_ratio</th>\n",
       "      <th>class</th>\n",
       "    </tr>\n",
       "  </thead>\n",
       "  <tbody>\n",
       "    <tr>\n",
       "      <td>1</td>\n",
       "      <td>91</td>\n",
       "      <td>41.0</td>\n",
       "      <td>84.0</td>\n",
       "      <td>141.0</td>\n",
       "      <td>57.0</td>\n",
       "      <td>9</td>\n",
       "      <td>149.0</td>\n",
       "      <td>45.0</td>\n",
       "      <td>19.0</td>\n",
       "      <td>143</td>\n",
       "      <td>170.0</td>\n",
       "      <td>330.0</td>\n",
       "      <td>158.0</td>\n",
       "      <td>72.0</td>\n",
       "      <td>9.0</td>\n",
       "      <td>14.0</td>\n",
       "      <td>189.0</td>\n",
       "      <td>199</td>\n",
       "      <td>van</td>\n",
       "    </tr>\n",
       "    <tr>\n",
       "      <td>2</td>\n",
       "      <td>104</td>\n",
       "      <td>50.0</td>\n",
       "      <td>106.0</td>\n",
       "      <td>209.0</td>\n",
       "      <td>66.0</td>\n",
       "      <td>10</td>\n",
       "      <td>207.0</td>\n",
       "      <td>32.0</td>\n",
       "      <td>23.0</td>\n",
       "      <td>158</td>\n",
       "      <td>223.0</td>\n",
       "      <td>635.0</td>\n",
       "      <td>220.0</td>\n",
       "      <td>73.0</td>\n",
       "      <td>14.0</td>\n",
       "      <td>9.0</td>\n",
       "      <td>188.0</td>\n",
       "      <td>196</td>\n",
       "      <td>car</td>\n",
       "    </tr>\n",
       "    <tr>\n",
       "      <td>3</td>\n",
       "      <td>93</td>\n",
       "      <td>41.0</td>\n",
       "      <td>82.0</td>\n",
       "      <td>159.0</td>\n",
       "      <td>63.0</td>\n",
       "      <td>9</td>\n",
       "      <td>144.0</td>\n",
       "      <td>46.0</td>\n",
       "      <td>19.0</td>\n",
       "      <td>143</td>\n",
       "      <td>160.0</td>\n",
       "      <td>309.0</td>\n",
       "      <td>127.0</td>\n",
       "      <td>63.0</td>\n",
       "      <td>6.0</td>\n",
       "      <td>10.0</td>\n",
       "      <td>199.0</td>\n",
       "      <td>207</td>\n",
       "      <td>van</td>\n",
       "    </tr>\n",
       "    <tr>\n",
       "      <td>4</td>\n",
       "      <td>85</td>\n",
       "      <td>44.0</td>\n",
       "      <td>70.0</td>\n",
       "      <td>205.0</td>\n",
       "      <td>103.0</td>\n",
       "      <td>52</td>\n",
       "      <td>149.0</td>\n",
       "      <td>45.0</td>\n",
       "      <td>19.0</td>\n",
       "      <td>144</td>\n",
       "      <td>241.0</td>\n",
       "      <td>325.0</td>\n",
       "      <td>188.0</td>\n",
       "      <td>127.0</td>\n",
       "      <td>9.0</td>\n",
       "      <td>11.0</td>\n",
       "      <td>180.0</td>\n",
       "      <td>183</td>\n",
       "      <td>bus</td>\n",
       "    </tr>\n",
       "    <tr>\n",
       "      <td>5</td>\n",
       "      <td>107</td>\n",
       "      <td>NaN</td>\n",
       "      <td>106.0</td>\n",
       "      <td>172.0</td>\n",
       "      <td>50.0</td>\n",
       "      <td>6</td>\n",
       "      <td>255.0</td>\n",
       "      <td>26.0</td>\n",
       "      <td>28.0</td>\n",
       "      <td>169</td>\n",
       "      <td>280.0</td>\n",
       "      <td>957.0</td>\n",
       "      <td>264.0</td>\n",
       "      <td>85.0</td>\n",
       "      <td>5.0</td>\n",
       "      <td>9.0</td>\n",
       "      <td>181.0</td>\n",
       "      <td>183</td>\n",
       "      <td>bus</td>\n",
       "    </tr>\n",
       "  </tbody>\n",
       "</table>\n",
       "</div>"
      ],
      "text/plain": [
       "   compactness  circularity  distance_circularity  radius_ratio  \\\n",
       "1           91         41.0                  84.0         141.0   \n",
       "2          104         50.0                 106.0         209.0   \n",
       "3           93         41.0                  82.0         159.0   \n",
       "4           85         44.0                  70.0         205.0   \n",
       "5          107          NaN                 106.0         172.0   \n",
       "\n",
       "   pr.axis_aspect_ratio  max.length_aspect_ratio  scatter_ratio  \\\n",
       "1                  57.0                        9          149.0   \n",
       "2                  66.0                       10          207.0   \n",
       "3                  63.0                        9          144.0   \n",
       "4                 103.0                       52          149.0   \n",
       "5                  50.0                        6          255.0   \n",
       "\n",
       "   elongatedness  pr.axis_rectangularity  max.length_rectangularity  \\\n",
       "1           45.0                    19.0                        143   \n",
       "2           32.0                    23.0                        158   \n",
       "3           46.0                    19.0                        143   \n",
       "4           45.0                    19.0                        144   \n",
       "5           26.0                    28.0                        169   \n",
       "\n",
       "   scaled_variance  scaled_variance.1  scaled_radius_of_gyration  \\\n",
       "1            170.0              330.0                      158.0   \n",
       "2            223.0              635.0                      220.0   \n",
       "3            160.0              309.0                      127.0   \n",
       "4            241.0              325.0                      188.0   \n",
       "5            280.0              957.0                      264.0   \n",
       "\n",
       "   scaled_radius_of_gyration.1  skewness_about  skewness_about.1  \\\n",
       "1                         72.0             9.0              14.0   \n",
       "2                         73.0            14.0               9.0   \n",
       "3                         63.0             6.0              10.0   \n",
       "4                        127.0             9.0              11.0   \n",
       "5                         85.0             5.0               9.0   \n",
       "\n",
       "   skewness_about.2  hollows_ratio class  \n",
       "1             189.0            199   van  \n",
       "2             188.0            196   car  \n",
       "3             199.0            207   van  \n",
       "4             180.0            183   bus  \n",
       "5             181.0            183   bus  "
      ]
     },
     "execution_count": 5,
     "metadata": {},
     "output_type": "execute_result"
    }
   ],
   "source": [
    "data[1:6]"
   ]
  },
  {
   "cell_type": "code",
   "execution_count": 6,
   "metadata": {},
   "outputs": [
    {
     "data": {
      "text/plain": [
       "(846, 19)"
      ]
     },
     "execution_count": 6,
     "metadata": {},
     "output_type": "execute_result"
    }
   ],
   "source": [
    "data.shape"
   ]
  },
  {
   "cell_type": "markdown",
   "metadata": {},
   "source": [
    "Rename the columns"
   ]
  },
  {
   "cell_type": "code",
   "execution_count": 7,
   "metadata": {},
   "outputs": [
    {
     "data": {
      "text/plain": [
       "Index(['compactness', 'circularity', 'distance_circularity', 'radius_ratio',\n",
       "       'pr.axis_aspect_ratio', 'max.length_aspect_ratio', 'scatter_ratio',\n",
       "       'elongatedness', 'pr.axis_rectangularity', 'max.length_rectangularity',\n",
       "       'scaled_variance', 'scaled_variance.1', 'scaled_radius_of_gyration',\n",
       "       'scaled_radius_of_gyration.1', 'skewness_about', 'skewness_about.1',\n",
       "       'skewness_about.2', 'hollows_ratio', 'class'],\n",
       "      dtype='object')"
      ]
     },
     "execution_count": 7,
     "metadata": {},
     "output_type": "execute_result"
    }
   ],
   "source": [
    "data.columns"
   ]
  },
  {
   "cell_type": "code",
   "execution_count": 8,
   "metadata": {},
   "outputs": [],
   "source": [
    "data['pr_axis_aspect_ratio'] = data['pr.axis_aspect_ratio'] \n",
    "data['max_length_aspect_ratio'] = data['max.length_aspect_ratio']\n",
    "data['pr_axis_rectangularity'] = data['pr.axis_rectangularity'] \n",
    "data['max_length_rectangularity'] = data['max.length_rectangularity'] \n",
    "data['scaled_variance_1'] = data['scaled_variance.1']\n",
    "data['scaled_radius_of_gyration_1'] = data['scaled_radius_of_gyration.1'] \n",
    "data['skewness_about_1'] = data['skewness_about.1']\n",
    "data['skewness_about_2'] = data['skewness_about.2'] \n",
    "data['tclass'] = data['class'] "
   ]
  },
  {
   "cell_type": "code",
   "execution_count": 9,
   "metadata": {},
   "outputs": [],
   "source": [
    "data.drop(columns=['pr.axis_aspect_ratio','max.length_aspect_ratio','pr.axis_rectangularity','max.length_rectangularity','scaled_variance.1','scaled_radius_of_gyration.1','skewness_about.1','skewness_about.2','class'],inplace=True)"
   ]
  },
  {
   "cell_type": "code",
   "execution_count": 10,
   "metadata": {
    "scrolled": true
   },
   "outputs": [
    {
     "name": "stdout",
     "output_type": "stream",
     "text": [
      "Index(['compactness', 'circularity', 'distance_circularity', 'radius_ratio',\n",
      "       'scatter_ratio', 'elongatedness', 'scaled_variance',\n",
      "       'scaled_radius_of_gyration', 'skewness_about', 'hollows_ratio',\n",
      "       'pr_axis_aspect_ratio', 'max_length_aspect_ratio',\n",
      "       'pr_axis_rectangularity', 'max_length_rectangularity',\n",
      "       'scaled_variance_1', 'scaled_radius_of_gyration_1', 'skewness_about_1',\n",
      "       'skewness_about_2', 'tclass'],\n",
      "      dtype='object')\n",
      "(846, 19)\n"
     ]
    }
   ],
   "source": [
    "print (data.columns)\n",
    "print (data.shape)"
   ]
  },
  {
   "cell_type": "markdown",
   "metadata": {},
   "source": [
    "Check for Outliers"
   ]
  },
  {
   "cell_type": "code",
   "execution_count": 11,
   "metadata": {},
   "outputs": [
    {
     "name": "stderr",
     "output_type": "stream",
     "text": [
      "/Volumes/FastSSD/Anaconda/anaconda3/lib/python3.7/site-packages/matplotlib/cbook/__init__.py:1316: RuntimeWarning: invalid value encountered in less_equal\n",
      "  wiskhi = x[x <= hival]\n",
      "/Volumes/FastSSD/Anaconda/anaconda3/lib/python3.7/site-packages/matplotlib/cbook/__init__.py:1323: RuntimeWarning: invalid value encountered in greater_equal\n",
      "  wisklo = x[x >= loval]\n",
      "/Volumes/FastSSD/Anaconda/anaconda3/lib/python3.7/site-packages/matplotlib/cbook/__init__.py:1331: RuntimeWarning: invalid value encountered in less\n",
      "  x[x < stats['whislo']],\n",
      "/Volumes/FastSSD/Anaconda/anaconda3/lib/python3.7/site-packages/matplotlib/cbook/__init__.py:1332: RuntimeWarning: invalid value encountered in greater\n",
      "  x[x > stats['whishi']],\n",
      "/Volumes/FastSSD/Anaconda/anaconda3/lib/python3.7/site-packages/matplotlib/cbook/__init__.py:1316: RuntimeWarning: invalid value encountered in less_equal\n",
      "  wiskhi = x[x <= hival]\n",
      "/Volumes/FastSSD/Anaconda/anaconda3/lib/python3.7/site-packages/matplotlib/cbook/__init__.py:1323: RuntimeWarning: invalid value encountered in greater_equal\n",
      "  wisklo = x[x >= loval]\n",
      "/Volumes/FastSSD/Anaconda/anaconda3/lib/python3.7/site-packages/matplotlib/cbook/__init__.py:1331: RuntimeWarning: invalid value encountered in less\n",
      "  x[x < stats['whislo']],\n",
      "/Volumes/FastSSD/Anaconda/anaconda3/lib/python3.7/site-packages/matplotlib/cbook/__init__.py:1332: RuntimeWarning: invalid value encountered in greater\n",
      "  x[x > stats['whishi']],\n",
      "/Volumes/FastSSD/Anaconda/anaconda3/lib/python3.7/site-packages/matplotlib/cbook/__init__.py:1316: RuntimeWarning: invalid value encountered in less_equal\n",
      "  wiskhi = x[x <= hival]\n",
      "/Volumes/FastSSD/Anaconda/anaconda3/lib/python3.7/site-packages/matplotlib/cbook/__init__.py:1323: RuntimeWarning: invalid value encountered in greater_equal\n",
      "  wisklo = x[x >= loval]\n",
      "/Volumes/FastSSD/Anaconda/anaconda3/lib/python3.7/site-packages/matplotlib/cbook/__init__.py:1331: RuntimeWarning: invalid value encountered in less\n",
      "  x[x < stats['whislo']],\n",
      "/Volumes/FastSSD/Anaconda/anaconda3/lib/python3.7/site-packages/matplotlib/cbook/__init__.py:1332: RuntimeWarning: invalid value encountered in greater\n",
      "  x[x > stats['whishi']],\n"
     ]
    },
    {
     "data": {
      "image/png": "[encoded data removed]",
      "text/plain": [
       "<Figure size 432x288 with 4 Axes>"
      ]
     },
     "metadata": {
      "needs_background": "light"
     },
     "output_type": "display_data"
    }
   ],
   "source": [
    "#sb.boxplot(data.compactness)\n",
    "\n",
    "plt.subplot(2,2,1)\n",
    "plt.boxplot(data.compactness)\n",
    "plt.title('compactness')\n",
    "\n",
    "\n",
    "plt.subplot(2,2,2)\n",
    "plt.boxplot(data.circularity)\n",
    "plt.title('circularity')\n",
    "\n",
    "\n",
    "plt.subplot(2,2,3)\n",
    "plt.boxplot(data.radius_ratio)\n",
    "plt.title('radius_ratio')\n",
    "\n",
    "plt.subplot(2,2,4)\n",
    "plt.boxplot(data.scatter_ratio)\n",
    "plt.title('scatter_ratio')\n",
    "\n",
    "plt.show()"
   ]
  },
  {
   "cell_type": "code",
   "execution_count": 12,
   "metadata": {},
   "outputs": [
    {
     "name": "stderr",
     "output_type": "stream",
     "text": [
      "/Volumes/FastSSD/Anaconda/anaconda3/lib/python3.7/site-packages/matplotlib/cbook/__init__.py:1316: RuntimeWarning: invalid value encountered in less_equal\n",
      "  wiskhi = x[x <= hival]\n",
      "/Volumes/FastSSD/Anaconda/anaconda3/lib/python3.7/site-packages/matplotlib/cbook/__init__.py:1323: RuntimeWarning: invalid value encountered in greater_equal\n",
      "  wisklo = x[x >= loval]\n",
      "/Volumes/FastSSD/Anaconda/anaconda3/lib/python3.7/site-packages/matplotlib/cbook/__init__.py:1331: RuntimeWarning: invalid value encountered in less\n",
      "  x[x < stats['whislo']],\n",
      "/Volumes/FastSSD/Anaconda/anaconda3/lib/python3.7/site-packages/matplotlib/cbook/__init__.py:1332: RuntimeWarning: invalid value encountered in greater\n",
      "  x[x > stats['whishi']],\n",
      "/Volumes/FastSSD/Anaconda/anaconda3/lib/python3.7/site-packages/matplotlib/cbook/__init__.py:1316: RuntimeWarning: invalid value encountered in less_equal\n",
      "  wiskhi = x[x <= hival]\n",
      "/Volumes/FastSSD/Anaconda/anaconda3/lib/python3.7/site-packages/matplotlib/cbook/__init__.py:1323: RuntimeWarning: invalid value encountered in greater_equal\n",
      "  wisklo = x[x >= loval]\n",
      "/Volumes/FastSSD/Anaconda/anaconda3/lib/python3.7/site-packages/matplotlib/cbook/__init__.py:1331: RuntimeWarning: invalid value encountered in less\n",
      "  x[x < stats['whislo']],\n",
      "/Volumes/FastSSD/Anaconda/anaconda3/lib/python3.7/site-packages/matplotlib/cbook/__init__.py:1332: RuntimeWarning: invalid value encountered in greater\n",
      "  x[x > stats['whishi']],\n",
      "/Volumes/FastSSD/Anaconda/anaconda3/lib/python3.7/site-packages/matplotlib/cbook/__init__.py:1316: RuntimeWarning: invalid value encountered in less_equal\n",
      "  wiskhi = x[x <= hival]\n",
      "/Volumes/FastSSD/Anaconda/anaconda3/lib/python3.7/site-packages/matplotlib/cbook/__init__.py:1323: RuntimeWarning: invalid value encountered in greater_equal\n",
      "  wisklo = x[x >= loval]\n",
      "/Volumes/FastSSD/Anaconda/anaconda3/lib/python3.7/site-packages/matplotlib/cbook/__init__.py:1331: RuntimeWarning: invalid value encountered in less\n",
      "  x[x < stats['whislo']],\n",
      "/Volumes/FastSSD/Anaconda/anaconda3/lib/python3.7/site-packages/matplotlib/cbook/__init__.py:1332: RuntimeWarning: invalid value encountered in greater\n",
      "  x[x > stats['whishi']],\n",
      "/Volumes/FastSSD/Anaconda/anaconda3/lib/python3.7/site-packages/matplotlib/cbook/__init__.py:1316: RuntimeWarning: invalid value encountered in less_equal\n",
      "  wiskhi = x[x <= hival]\n",
      "/Volumes/FastSSD/Anaconda/anaconda3/lib/python3.7/site-packages/matplotlib/cbook/__init__.py:1323: RuntimeWarning: invalid value encountered in greater_equal\n",
      "  wisklo = x[x >= loval]\n",
      "/Volumes/FastSSD/Anaconda/anaconda3/lib/python3.7/site-packages/matplotlib/cbook/__init__.py:1331: RuntimeWarning: invalid value encountered in less\n",
      "  x[x < stats['whislo']],\n",
      "/Volumes/FastSSD/Anaconda/anaconda3/lib/python3.7/site-packages/matplotlib/cbook/__init__.py:1332: RuntimeWarning: invalid value encountered in greater\n",
      "  x[x > stats['whishi']],\n"
     ]
    },
    {
     "data": {
      "image/png": "[encoded data removed]",
      "text/plain": [
       "<Figure size 432x288 with 4 Axes>"
      ]
     },
     "metadata": {
      "needs_background": "light"
     },
     "output_type": "display_data"
    }
   ],
   "source": [
    "plt.subplot(2,2,1)\n",
    "plt.boxplot(data.elongatedness)\n",
    "plt.title('elongatedness')\n",
    "\n",
    "\n",
    "plt.subplot(2,2,2)\n",
    "plt.boxplot(data.scaled_variance_1)\n",
    "plt.title('scaled_variance')\n",
    "\n",
    "\n",
    "plt.subplot(2,2,3)\n",
    "plt.boxplot(data.scaled_radius_of_gyration_1)\n",
    "plt.title('scaled_radius_of_gyration')\n",
    "\n",
    "plt.subplot(2,2,4)\n",
    "plt.boxplot(data.skewness_about_1)\n",
    "plt.title('skewness_about')\n",
    "\n",
    "plt.show()"
   ]
  },
  {
   "cell_type": "code",
   "execution_count": 13,
   "metadata": {},
   "outputs": [
    {
     "name": "stderr",
     "output_type": "stream",
     "text": [
      "/Volumes/FastSSD/Anaconda/anaconda3/lib/python3.7/site-packages/matplotlib/cbook/__init__.py:1316: RuntimeWarning: invalid value encountered in less_equal\n",
      "  wiskhi = x[x <= hival]\n",
      "/Volumes/FastSSD/Anaconda/anaconda3/lib/python3.7/site-packages/matplotlib/cbook/__init__.py:1323: RuntimeWarning: invalid value encountered in greater_equal\n",
      "  wisklo = x[x >= loval]\n",
      "/Volumes/FastSSD/Anaconda/anaconda3/lib/python3.7/site-packages/matplotlib/cbook/__init__.py:1331: RuntimeWarning: invalid value encountered in less\n",
      "  x[x < stats['whislo']],\n",
      "/Volumes/FastSSD/Anaconda/anaconda3/lib/python3.7/site-packages/matplotlib/cbook/__init__.py:1332: RuntimeWarning: invalid value encountered in greater\n",
      "  x[x > stats['whishi']],\n",
      "/Volumes/FastSSD/Anaconda/anaconda3/lib/python3.7/site-packages/matplotlib/cbook/__init__.py:1316: RuntimeWarning: invalid value encountered in less_equal\n",
      "  wiskhi = x[x <= hival]\n",
      "/Volumes/FastSSD/Anaconda/anaconda3/lib/python3.7/site-packages/matplotlib/cbook/__init__.py:1323: RuntimeWarning: invalid value encountered in greater_equal\n",
      "  wisklo = x[x >= loval]\n",
      "/Volumes/FastSSD/Anaconda/anaconda3/lib/python3.7/site-packages/matplotlib/cbook/__init__.py:1331: RuntimeWarning: invalid value encountered in less\n",
      "  x[x < stats['whislo']],\n",
      "/Volumes/FastSSD/Anaconda/anaconda3/lib/python3.7/site-packages/matplotlib/cbook/__init__.py:1332: RuntimeWarning: invalid value encountered in greater\n",
      "  x[x > stats['whishi']],\n"
     ]
    },
    {
     "data": {
      "image/png": "[encoded data removed]",
      "text/plain": [
       "<Figure size 432x288 with 4 Axes>"
      ]
     },
     "metadata": {
      "needs_background": "light"
     },
     "output_type": "display_data"
    }
   ],
   "source": [
    "\n",
    "plt.subplot(2,2,1)\n",
    "plt.boxplot(data.hollows_ratio)\n",
    "plt.title('hollows_ratio')\n",
    "\n",
    "\n",
    "plt.subplot(2,2,2)\n",
    "plt.boxplot(data.pr_axis_rectangularity)\n",
    "plt.title('pr_axis_rectangularity')\n",
    "\n",
    "\n",
    "plt.subplot(2,2,3)\n",
    "plt.boxplot(data.pr_axis_aspect_ratio)\n",
    "plt.title('pr_axis_aspect_ratio')\n",
    "\n",
    "plt.subplot(2,2,4)\n",
    "plt.boxplot(data.max_length_aspect_ratio)\n",
    "plt.title('max_length_aspect_ratio')\n",
    "\n",
    "plt.show()"
   ]
  },
  {
   "cell_type": "code",
   "execution_count": 14,
   "metadata": {},
   "outputs": [
    {
     "name": "stderr",
     "output_type": "stream",
     "text": [
      "/Volumes/FastSSD/Anaconda/anaconda3/lib/python3.7/site-packages/matplotlib/cbook/__init__.py:1316: RuntimeWarning: invalid value encountered in less_equal\n",
      "  wiskhi = x[x <= hival]\n",
      "/Volumes/FastSSD/Anaconda/anaconda3/lib/python3.7/site-packages/matplotlib/cbook/__init__.py:1323: RuntimeWarning: invalid value encountered in greater_equal\n",
      "  wisklo = x[x >= loval]\n",
      "/Volumes/FastSSD/Anaconda/anaconda3/lib/python3.7/site-packages/matplotlib/cbook/__init__.py:1331: RuntimeWarning: invalid value encountered in less\n",
      "  x[x < stats['whislo']],\n",
      "/Volumes/FastSSD/Anaconda/anaconda3/lib/python3.7/site-packages/matplotlib/cbook/__init__.py:1332: RuntimeWarning: invalid value encountered in greater\n",
      "  x[x > stats['whishi']],\n",
      "/Volumes/FastSSD/Anaconda/anaconda3/lib/python3.7/site-packages/matplotlib/cbook/__init__.py:1316: RuntimeWarning: invalid value encountered in less_equal\n",
      "  wiskhi = x[x <= hival]\n",
      "/Volumes/FastSSD/Anaconda/anaconda3/lib/python3.7/site-packages/matplotlib/cbook/__init__.py:1323: RuntimeWarning: invalid value encountered in greater_equal\n",
      "  wisklo = x[x >= loval]\n",
      "/Volumes/FastSSD/Anaconda/anaconda3/lib/python3.7/site-packages/matplotlib/cbook/__init__.py:1331: RuntimeWarning: invalid value encountered in less\n",
      "  x[x < stats['whislo']],\n",
      "/Volumes/FastSSD/Anaconda/anaconda3/lib/python3.7/site-packages/matplotlib/cbook/__init__.py:1332: RuntimeWarning: invalid value encountered in greater\n",
      "  x[x > stats['whishi']],\n",
      "/Volumes/FastSSD/Anaconda/anaconda3/lib/python3.7/site-packages/matplotlib/cbook/__init__.py:1316: RuntimeWarning: invalid value encountered in less_equal\n",
      "  wiskhi = x[x <= hival]\n",
      "/Volumes/FastSSD/Anaconda/anaconda3/lib/python3.7/site-packages/matplotlib/cbook/__init__.py:1323: RuntimeWarning: invalid value encountered in greater_equal\n",
      "  wisklo = x[x >= loval]\n",
      "/Volumes/FastSSD/Anaconda/anaconda3/lib/python3.7/site-packages/matplotlib/cbook/__init__.py:1331: RuntimeWarning: invalid value encountered in less\n",
      "  x[x < stats['whislo']],\n",
      "/Volumes/FastSSD/Anaconda/anaconda3/lib/python3.7/site-packages/matplotlib/cbook/__init__.py:1332: RuntimeWarning: invalid value encountered in greater\n",
      "  x[x > stats['whishi']],\n"
     ]
    },
    {
     "data": {
      "image/png": "[encoded data removed]",
      "text/plain": [
       "<Figure size 432x288 with 4 Axes>"
      ]
     },
     "metadata": {
      "needs_background": "light"
     },
     "output_type": "display_data"
    }
   ],
   "source": [
    "plt.subplot(2,2,1)\n",
    "plt.boxplot(data.max_length_rectangularity)\n",
    "plt.title('max_length_rectangularity')\n",
    "\n",
    "\n",
    "plt.subplot(2,2,2)\n",
    "plt.boxplot(data.scaled_variance_1)\n",
    "plt.title('scaled_variance_1')\n",
    "\n",
    "\n",
    "plt.subplot(2,2,3)\n",
    "plt.boxplot(data.scaled_radius_of_gyration_1)\n",
    "plt.title('scaled_radius_of_gyration_1')\n",
    "\n",
    "plt.subplot(2,2,4)\n",
    "plt.boxplot(data.skewness_about_1)\n",
    "plt.title('skewness_about_1')\n",
    "\n",
    "\n",
    "plt.show()"
   ]
  },
  {
   "cell_type": "code",
   "execution_count": 15,
   "metadata": {},
   "outputs": [
    {
     "name": "stderr",
     "output_type": "stream",
     "text": [
      "/Volumes/FastSSD/Anaconda/anaconda3/lib/python3.7/site-packages/matplotlib/cbook/__init__.py:1316: RuntimeWarning: invalid value encountered in less_equal\n",
      "  wiskhi = x[x <= hival]\n",
      "/Volumes/FastSSD/Anaconda/anaconda3/lib/python3.7/site-packages/matplotlib/cbook/__init__.py:1323: RuntimeWarning: invalid value encountered in greater_equal\n",
      "  wisklo = x[x >= loval]\n",
      "/Volumes/FastSSD/Anaconda/anaconda3/lib/python3.7/site-packages/matplotlib/cbook/__init__.py:1331: RuntimeWarning: invalid value encountered in less\n",
      "  x[x < stats['whislo']],\n",
      "/Volumes/FastSSD/Anaconda/anaconda3/lib/python3.7/site-packages/matplotlib/cbook/__init__.py:1332: RuntimeWarning: invalid value encountered in greater\n",
      "  x[x > stats['whishi']],\n"
     ]
    },
    {
     "data": {
      "text/plain": [
       "Text(0.5, 1.0, 'skewness_about_2')"
      ]
     },
     "execution_count": 15,
     "metadata": {},
     "output_type": "execute_result"
    },
    {
     "data": {
      "image/png": "[encoded data removed]",
      "text/plain": [
       "<Figure size 432x288 with 1 Axes>"
      ]
     },
     "metadata": {
      "needs_background": "light"
     },
     "output_type": "display_data"
    }
   ],
   "source": [
    "plt.boxplot(data.skewness_about_2)\n",
    "plt.title('skewness_about_2')"
   ]
  },
  {
   "cell_type": "code",
   "execution_count": 16,
   "metadata": {},
   "outputs": [
    {
     "name": "stdout",
     "output_type": "stream",
     "text": [
      "AxesSubplot(0.125,0.125;0.775x0.755)\n",
      "AxesSubplot(0.125,0.125;0.775x0.755)\n",
      "AxesSubplot(0.125,0.125;0.775x0.755)\n",
      "AxesSubplot(0.125,0.125;0.775x0.755)\n",
      "AxesSubplot(0.125,0.125;0.775x0.755)\n"
     ]
    },
    {
     "data": {
      "image/png": "[encoded data removed]",
      "text/plain": [
       "<Figure size 432x288 with 1 Axes>"
      ]
     },
     "metadata": {
      "needs_background": "light"
     },
     "output_type": "display_data"
    }
   ],
   "source": [
    "print (sb.scatterplot(data.circularity,data.compactness))\n",
    "print (sb.scatterplot(data.circularity,data.scatter_ratio))\n",
    "print (sb.scatterplot(data.circularity,data.radius_ratio))\n",
    "print (sb.scatterplot(data.scatter_ratio,data.radius_ratio))\n",
    "print (sb.scatterplot(data.compactness,data.scatter_ratio))"
   ]
  },
  {
   "cell_type": "markdown",
   "metadata": {},
   "source": [
    "Circularity and Scatter_ratio are positively correlated\\\n",
    "Circularity and Compactness are mildly correlated\\\n",
    "Circularity and radius_ratio are mildly correlated\\\n",
    "Scatter_ratio and radius_ratio are positively correlated\\\n",
    "Compactness and scatter_ratio are positively correlated"
   ]
  },
  {
   "cell_type": "code",
   "execution_count": 17,
   "metadata": {},
   "outputs": [
    {
     "name": "stdout",
     "output_type": "stream",
     "text": [
      "AxesSubplot(0.125,0.125;0.775x0.755)\n",
      "AxesSubplot(0.125,0.125;0.775x0.755)\n",
      "AxesSubplot(0.125,0.125;0.775x0.755)\n",
      "AxesSubplot(0.125,0.125;0.775x0.755)\n",
      "AxesSubplot(0.125,0.125;0.775x0.755)\n"
     ]
    },
    {
     "data": {
      "image/png": "[encoded data removed]",
      "text/plain": [
       "<Figure size 432x288 with 1 Axes>"
      ]
     },
     "metadata": {
      "needs_background": "light"
     },
     "output_type": "display_data"
    }
   ],
   "source": [
    "print (sb.scatterplot(data.elongatedness,data.scaled_variance))\n",
    "print (sb.scatterplot(data.elongatedness,data.scaled_radius_of_gyration))\n",
    "print (sb.scatterplot(data.elongatedness,data.skewness_about))\n",
    "print (sb.scatterplot(data.scaled_radius_of_gyration,data.skewness_about))\n",
    "print (sb.scatterplot(data.scaled_variance,data.skewness_about))"
   ]
  },
  {
   "cell_type": "markdown",
   "metadata": {},
   "source": [
    "Elongatedness and scaled_variance are negatively correlated\\\n",
    "Elongatedness and scaled_radius_of_gyration are negatively correlated\\\n",
    "Elongatedness and skewness_about are not linearly correlated\\\n",
    "scaled_radius_of_gyration and skewness_about are not linearly correlated\\\n",
    "scaled_variance and skewness_about are not linearlycorrelated"
   ]
  },
  {
   "cell_type": "code",
   "execution_count": 18,
   "metadata": {
    "scrolled": false
   },
   "outputs": [
    {
     "data": {
      "text/html": [
       "<div>\n",
       "<style scoped>\n",
       "    .dataframe tbody tr th:only-of-type {\n",
       "        vertical-align: middle;\n",
       "    }\n",
       "\n",
       "    .dataframe tbody tr th {\n",
       "        vertical-align: top;\n",
       "    }\n",
       "\n",
       "    .dataframe thead th {\n",
       "        text-align: right;\n",
       "    }\n",
       "</style>\n",
       "<table border=\"1\" class=\"dataframe\">\n",
       "  <thead>\n",
       "    <tr style=\"text-align: right;\">\n",
       "      <th></th>\n",
       "      <th>compactness</th>\n",
       "      <th>circularity</th>\n",
       "      <th>distance_circularity</th>\n",
       "      <th>radius_ratio</th>\n",
       "      <th>scatter_ratio</th>\n",
       "      <th>elongatedness</th>\n",
       "      <th>scaled_variance</th>\n",
       "      <th>scaled_radius_of_gyration</th>\n",
       "      <th>skewness_about</th>\n",
       "      <th>hollows_ratio</th>\n",
       "      <th>pr_axis_aspect_ratio</th>\n",
       "      <th>max_length_aspect_ratio</th>\n",
       "      <th>pr_axis_rectangularity</th>\n",
       "      <th>max_length_rectangularity</th>\n",
       "      <th>scaled_variance_1</th>\n",
       "      <th>scaled_radius_of_gyration_1</th>\n",
       "      <th>skewness_about_1</th>\n",
       "      <th>skewness_about_2</th>\n",
       "    </tr>\n",
       "  </thead>\n",
       "  <tbody>\n",
       "    <tr>\n",
       "      <td>count</td>\n",
       "      <td>846.000000</td>\n",
       "      <td>841.000000</td>\n",
       "      <td>842.000000</td>\n",
       "      <td>840.000000</td>\n",
       "      <td>845.000000</td>\n",
       "      <td>845.000000</td>\n",
       "      <td>843.000000</td>\n",
       "      <td>844.000000</td>\n",
       "      <td>840.000000</td>\n",
       "      <td>846.000000</td>\n",
       "      <td>844.000000</td>\n",
       "      <td>846.000000</td>\n",
       "      <td>843.000000</td>\n",
       "      <td>846.000000</td>\n",
       "      <td>844.000000</td>\n",
       "      <td>842.000000</td>\n",
       "      <td>845.000000</td>\n",
       "      <td>845.000000</td>\n",
       "    </tr>\n",
       "    <tr>\n",
       "      <td>mean</td>\n",
       "      <td>93.678487</td>\n",
       "      <td>44.828775</td>\n",
       "      <td>82.110451</td>\n",
       "      <td>168.888095</td>\n",
       "      <td>168.901775</td>\n",
       "      <td>40.933728</td>\n",
       "      <td>188.631079</td>\n",
       "      <td>174.709716</td>\n",
       "      <td>6.364286</td>\n",
       "      <td>195.632388</td>\n",
       "      <td>61.678910</td>\n",
       "      <td>8.567376</td>\n",
       "      <td>20.582444</td>\n",
       "      <td>147.998818</td>\n",
       "      <td>439.494076</td>\n",
       "      <td>72.447743</td>\n",
       "      <td>12.602367</td>\n",
       "      <td>188.919527</td>\n",
       "    </tr>\n",
       "    <tr>\n",
       "      <td>std</td>\n",
       "      <td>8.234474</td>\n",
       "      <td>6.152172</td>\n",
       "      <td>15.778292</td>\n",
       "      <td>33.520198</td>\n",
       "      <td>33.214848</td>\n",
       "      <td>7.816186</td>\n",
       "      <td>31.411004</td>\n",
       "      <td>32.584808</td>\n",
       "      <td>4.920649</td>\n",
       "      <td>7.438797</td>\n",
       "      <td>7.891463</td>\n",
       "      <td>4.601217</td>\n",
       "      <td>2.592933</td>\n",
       "      <td>14.515652</td>\n",
       "      <td>176.666903</td>\n",
       "      <td>7.486190</td>\n",
       "      <td>8.936081</td>\n",
       "      <td>6.155809</td>\n",
       "    </tr>\n",
       "    <tr>\n",
       "      <td>min</td>\n",
       "      <td>73.000000</td>\n",
       "      <td>33.000000</td>\n",
       "      <td>40.000000</td>\n",
       "      <td>104.000000</td>\n",
       "      <td>112.000000</td>\n",
       "      <td>26.000000</td>\n",
       "      <td>130.000000</td>\n",
       "      <td>109.000000</td>\n",
       "      <td>0.000000</td>\n",
       "      <td>181.000000</td>\n",
       "      <td>47.000000</td>\n",
       "      <td>2.000000</td>\n",
       "      <td>17.000000</td>\n",
       "      <td>118.000000</td>\n",
       "      <td>184.000000</td>\n",
       "      <td>59.000000</td>\n",
       "      <td>0.000000</td>\n",
       "      <td>176.000000</td>\n",
       "    </tr>\n",
       "    <tr>\n",
       "      <td>25%</td>\n",
       "      <td>87.000000</td>\n",
       "      <td>40.000000</td>\n",
       "      <td>70.000000</td>\n",
       "      <td>141.000000</td>\n",
       "      <td>147.000000</td>\n",
       "      <td>33.000000</td>\n",
       "      <td>167.000000</td>\n",
       "      <td>149.000000</td>\n",
       "      <td>2.000000</td>\n",
       "      <td>190.250000</td>\n",
       "      <td>57.000000</td>\n",
       "      <td>7.000000</td>\n",
       "      <td>19.000000</td>\n",
       "      <td>137.000000</td>\n",
       "      <td>318.000000</td>\n",
       "      <td>67.000000</td>\n",
       "      <td>5.000000</td>\n",
       "      <td>184.000000</td>\n",
       "    </tr>\n",
       "    <tr>\n",
       "      <td>50%</td>\n",
       "      <td>93.000000</td>\n",
       "      <td>44.000000</td>\n",
       "      <td>80.000000</td>\n",
       "      <td>167.000000</td>\n",
       "      <td>157.000000</td>\n",
       "      <td>43.000000</td>\n",
       "      <td>179.000000</td>\n",
       "      <td>173.500000</td>\n",
       "      <td>6.000000</td>\n",
       "      <td>197.000000</td>\n",
       "      <td>61.000000</td>\n",
       "      <td>8.000000</td>\n",
       "      <td>20.000000</td>\n",
       "      <td>146.000000</td>\n",
       "      <td>363.500000</td>\n",
       "      <td>71.500000</td>\n",
       "      <td>11.000000</td>\n",
       "      <td>188.000000</td>\n",
       "    </tr>\n",
       "    <tr>\n",
       "      <td>75%</td>\n",
       "      <td>100.000000</td>\n",
       "      <td>49.000000</td>\n",
       "      <td>98.000000</td>\n",
       "      <td>195.000000</td>\n",
       "      <td>198.000000</td>\n",
       "      <td>46.000000</td>\n",
       "      <td>217.000000</td>\n",
       "      <td>198.000000</td>\n",
       "      <td>9.000000</td>\n",
       "      <td>201.000000</td>\n",
       "      <td>65.000000</td>\n",
       "      <td>10.000000</td>\n",
       "      <td>23.000000</td>\n",
       "      <td>159.000000</td>\n",
       "      <td>587.000000</td>\n",
       "      <td>75.000000</td>\n",
       "      <td>19.000000</td>\n",
       "      <td>193.000000</td>\n",
       "    </tr>\n",
       "    <tr>\n",
       "      <td>max</td>\n",
       "      <td>119.000000</td>\n",
       "      <td>59.000000</td>\n",
       "      <td>112.000000</td>\n",
       "      <td>333.000000</td>\n",
       "      <td>265.000000</td>\n",
       "      <td>61.000000</td>\n",
       "      <td>320.000000</td>\n",
       "      <td>268.000000</td>\n",
       "      <td>22.000000</td>\n",
       "      <td>211.000000</td>\n",
       "      <td>138.000000</td>\n",
       "      <td>55.000000</td>\n",
       "      <td>29.000000</td>\n",
       "      <td>188.000000</td>\n",
       "      <td>1018.000000</td>\n",
       "      <td>135.000000</td>\n",
       "      <td>41.000000</td>\n",
       "      <td>206.000000</td>\n",
       "    </tr>\n",
       "  </tbody>\n",
       "</table>\n",
       "</div>"
      ],
      "text/plain": [
       "       compactness  circularity  distance_circularity  radius_ratio  \\\n",
       "count   846.000000   841.000000            842.000000    840.000000   \n",
       "mean     93.678487    44.828775             82.110451    168.888095   \n",
       "std       8.234474     6.152172             15.778292     33.520198   \n",
       "min      73.000000    33.000000             40.000000    104.000000   \n",
       "25%      87.000000    40.000000             70.000000    141.000000   \n",
       "50%      93.000000    44.000000             80.000000    167.000000   \n",
       "75%     100.000000    49.000000             98.000000    195.000000   \n",
       "max     119.000000    59.000000            112.000000    333.000000   \n",
       "\n",
       "       scatter_ratio  elongatedness  scaled_variance  \\\n",
       "count     845.000000     845.000000       843.000000   \n",
       "mean      168.901775      40.933728       188.631079   \n",
       "std        33.214848       7.816186        31.411004   \n",
       "min       112.000000      26.000000       130.000000   \n",
       "25%       147.000000      33.000000       167.000000   \n",
       "50%       157.000000      43.000000       179.000000   \n",
       "75%       198.000000      46.000000       217.000000   \n",
       "max       265.000000      61.000000       320.000000   \n",
       "\n",
       "       scaled_radius_of_gyration  skewness_about  hollows_ratio  \\\n",
       "count                 844.000000      840.000000     846.000000   \n",
       "mean                  174.709716        6.364286     195.632388   \n",
       "std                    32.584808        4.920649       7.438797   \n",
       "min                   109.000000        0.000000     181.000000   \n",
       "25%                   149.000000        2.000000     190.250000   \n",
       "50%                   173.500000        6.000000     197.000000   \n",
       "75%                   198.000000        9.000000     201.000000   \n",
       "max                   268.000000       22.000000     211.000000   \n",
       "\n",
       "       pr_axis_aspect_ratio  max_length_aspect_ratio  pr_axis_rectangularity  \\\n",
       "count            844.000000               846.000000              843.000000   \n",
       "mean              61.678910                 8.567376               20.582444   \n",
       "std                7.891463                 4.601217                2.592933   \n",
       "min               47.000000                 2.000000               17.000000   \n",
       "25%               57.000000                 7.000000               19.000000   \n",
       "50%               61.000000                 8.000000               20.000000   \n",
       "75%               65.000000                10.000000               23.000000   \n",
       "max              138.000000                55.000000               29.000000   \n",
       "\n",
       "       max_length_rectangularity  scaled_variance_1  \\\n",
       "count                 846.000000         844.000000   \n",
       "mean                  147.998818         439.494076   \n",
       "std                    14.515652         176.666903   \n",
       "min                   118.000000         184.000000   \n",
       "25%                   137.000000         318.000000   \n",
       "50%                   146.000000         363.500000   \n",
       "75%                   159.000000         587.000000   \n",
       "max                   188.000000        1018.000000   \n",
       "\n",
       "       scaled_radius_of_gyration_1  skewness_about_1  skewness_about_2  \n",
       "count                   842.000000        845.000000        845.000000  \n",
       "mean                     72.447743         12.602367        188.919527  \n",
       "std                       7.486190          8.936081          6.155809  \n",
       "min                      59.000000          0.000000        176.000000  \n",
       "25%                      67.000000          5.000000        184.000000  \n",
       "50%                      71.500000         11.000000        188.000000  \n",
       "75%                      75.000000         19.000000        193.000000  \n",
       "max                     135.000000         41.000000        206.000000  "
      ]
     },
     "execution_count": 18,
     "metadata": {},
     "output_type": "execute_result"
    }
   ],
   "source": [
    "data.describe()"
   ]
  },
  {
   "cell_type": "code",
   "execution_count": 19,
   "metadata": {},
   "outputs": [
    {
     "name": "stdout",
     "output_type": "stream",
     "text": [
      "<class 'pandas.core.frame.DataFrame'>\n",
      "RangeIndex: 846 entries, 0 to 845\n",
      "Data columns (total 19 columns):\n",
      "compactness                    846 non-null int64\n",
      "circularity                    841 non-null float64\n",
      "distance_circularity           842 non-null float64\n",
      "radius_ratio                   840 non-null float64\n",
      "scatter_ratio                  845 non-null float64\n",
      "elongatedness                  845 non-null float64\n",
      "scaled_variance                843 non-null float64\n",
      "scaled_radius_of_gyration      844 non-null float64\n",
      "skewness_about                 840 non-null float64\n",
      "hollows_ratio                  846 non-null int64\n",
      "pr_axis_aspect_ratio           844 non-null float64\n",
      "max_length_aspect_ratio        846 non-null int64\n",
      "pr_axis_rectangularity         843 non-null float64\n",
      "max_length_rectangularity      846 non-null int64\n",
      "scaled_variance_1              844 non-null float64\n",
      "scaled_radius_of_gyration_1    842 non-null float64\n",
      "skewness_about_1               845 non-null float64\n",
      "skewness_about_2               845 non-null float64\n",
      "tclass                         846 non-null object\n",
      "dtypes: float64(14), int64(4), object(1)\n",
      "memory usage: 125.7+ KB\n"
     ]
    }
   ],
   "source": [
    "data.info()"
   ]
  },
  {
   "cell_type": "markdown",
   "metadata": {},
   "source": [
    "Checking for Missing data"
   ]
  },
  {
   "cell_type": "code",
   "execution_count": 20,
   "metadata": {
    "scrolled": true
   },
   "outputs": [
    {
     "data": {
      "text/plain": [
       "compactness                    0\n",
       "circularity                    5\n",
       "distance_circularity           4\n",
       "radius_ratio                   6\n",
       "scatter_ratio                  1\n",
       "elongatedness                  1\n",
       "scaled_variance                3\n",
       "scaled_radius_of_gyration      2\n",
       "skewness_about                 6\n",
       "hollows_ratio                  0\n",
       "pr_axis_aspect_ratio           2\n",
       "max_length_aspect_ratio        0\n",
       "pr_axis_rectangularity         3\n",
       "max_length_rectangularity      0\n",
       "scaled_variance_1              2\n",
       "scaled_radius_of_gyration_1    4\n",
       "skewness_about_1               1\n",
       "skewness_about_2               1\n",
       "tclass                         0\n",
       "dtype: int64"
      ]
     },
     "execution_count": 20,
     "metadata": {},
     "output_type": "execute_result"
    }
   ],
   "source": [
    "data.isna().sum()"
   ]
  },
  {
   "cell_type": "code",
   "execution_count": 21,
   "metadata": {},
   "outputs": [
    {
     "data": {
      "text/plain": [
       "compactness                    0\n",
       "circularity                    5\n",
       "distance_circularity           4\n",
       "radius_ratio                   6\n",
       "scatter_ratio                  1\n",
       "elongatedness                  1\n",
       "scaled_variance                3\n",
       "scaled_radius_of_gyration      2\n",
       "skewness_about                 6\n",
       "hollows_ratio                  0\n",
       "pr_axis_aspect_ratio           2\n",
       "max_length_aspect_ratio        0\n",
       "pr_axis_rectangularity         3\n",
       "max_length_rectangularity      0\n",
       "scaled_variance_1              2\n",
       "scaled_radius_of_gyration_1    4\n",
       "skewness_about_1               1\n",
       "skewness_about_2               1\n",
       "tclass                         0\n",
       "dtype: int64"
      ]
     },
     "execution_count": 21,
     "metadata": {},
     "output_type": "execute_result"
    }
   ],
   "source": [
    "data.isnull().sum()"
   ]
  },
  {
   "cell_type": "markdown",
   "metadata": {},
   "source": [
    "Clean up the data"
   ]
  },
  {
   "cell_type": "code",
   "execution_count": 22,
   "metadata": {},
   "outputs": [],
   "source": [
    "cols_list = ['circularity','distance_circularity','radius_ratio','pr_axis_aspect_ratio','scatter_ratio','elongatedness','pr_axis_rectangularity',\n",
    "            'max_length_rectangularity','pr_axis_rectangularity','scaled_variance','scaled_variance_1','scaled_radius_of_gyration',\n",
    "            'scaled_radius_of_gyration_1','skewness_about','skewness_about_1','skewness_about_2']\n",
    "\n",
    "for i in cols_list:\n",
    "    data[i].fillna(data[i].median(),inplace=True)"
   ]
  },
  {
   "cell_type": "markdown",
   "metadata": {},
   "source": [
    "Label encoding for the 'Class' feature"
   ]
  },
  {
   "cell_type": "code",
   "execution_count": 23,
   "metadata": {},
   "outputs": [],
   "source": [
    "le = LabelEncoder()\n",
    "data['tclass'] = le.fit_transform(data['tclass'])"
   ]
  },
  {
   "cell_type": "code",
   "execution_count": 24,
   "metadata": {},
   "outputs": [
    {
     "data": {
      "text/plain": [
       "1    429\n",
       "0    218\n",
       "2    199\n",
       "Name: tclass, dtype: int64"
      ]
     },
     "execution_count": 24,
     "metadata": {},
     "output_type": "execute_result"
    }
   ],
   "source": [
    "data['tclass'].value_counts()"
   ]
  },
  {
   "cell_type": "markdown",
   "metadata": {},
   "source": [
    "Train and Test data split"
   ]
  },
  {
   "cell_type": "code",
   "execution_count": 25,
   "metadata": {},
   "outputs": [],
   "source": [
    "X = data.drop(columns=['scaled_radius_of_gyration_1','skewness_about_1','scaled_variance_1'])\n",
    "y = data.tclass"
   ]
  },
  {
   "cell_type": "code",
   "execution_count": 26,
   "metadata": {},
   "outputs": [
    {
     "data": {
      "text/html": [
       "<div>\n",
       "<style scoped>\n",
       "    .dataframe tbody tr th:only-of-type {\n",
       "        vertical-align: middle;\n",
       "    }\n",
       "\n",
       "    .dataframe tbody tr th {\n",
       "        vertical-align: top;\n",
       "    }\n",
       "\n",
       "    .dataframe thead th {\n",
       "        text-align: right;\n",
       "    }\n",
       "</style>\n",
       "<table border=\"1\" class=\"dataframe\">\n",
       "  <thead>\n",
       "    <tr style=\"text-align: right;\">\n",
       "      <th></th>\n",
       "      <th>compactness</th>\n",
       "      <th>circularity</th>\n",
       "      <th>distance_circularity</th>\n",
       "      <th>radius_ratio</th>\n",
       "      <th>scatter_ratio</th>\n",
       "      <th>elongatedness</th>\n",
       "      <th>scaled_variance</th>\n",
       "      <th>scaled_radius_of_gyration</th>\n",
       "      <th>skewness_about</th>\n",
       "      <th>hollows_ratio</th>\n",
       "      <th>pr_axis_aspect_ratio</th>\n",
       "      <th>max_length_aspect_ratio</th>\n",
       "      <th>pr_axis_rectangularity</th>\n",
       "      <th>max_length_rectangularity</th>\n",
       "      <th>skewness_about_2</th>\n",
       "      <th>tclass</th>\n",
       "    </tr>\n",
       "  </thead>\n",
       "  <tbody>\n",
       "    <tr>\n",
       "      <td>0</td>\n",
       "      <td>95</td>\n",
       "      <td>48.0</td>\n",
       "      <td>83.0</td>\n",
       "      <td>178.0</td>\n",
       "      <td>162.0</td>\n",
       "      <td>42.0</td>\n",
       "      <td>176.0</td>\n",
       "      <td>184.0</td>\n",
       "      <td>6.0</td>\n",
       "      <td>197</td>\n",
       "      <td>72.0</td>\n",
       "      <td>10</td>\n",
       "      <td>20.0</td>\n",
       "      <td>159</td>\n",
       "      <td>187.0</td>\n",
       "      <td>2</td>\n",
       "    </tr>\n",
       "    <tr>\n",
       "      <td>1</td>\n",
       "      <td>91</td>\n",
       "      <td>41.0</td>\n",
       "      <td>84.0</td>\n",
       "      <td>141.0</td>\n",
       "      <td>149.0</td>\n",
       "      <td>45.0</td>\n",
       "      <td>170.0</td>\n",
       "      <td>158.0</td>\n",
       "      <td>9.0</td>\n",
       "      <td>199</td>\n",
       "      <td>57.0</td>\n",
       "      <td>9</td>\n",
       "      <td>19.0</td>\n",
       "      <td>143</td>\n",
       "      <td>189.0</td>\n",
       "      <td>2</td>\n",
       "    </tr>\n",
       "    <tr>\n",
       "      <td>2</td>\n",
       "      <td>104</td>\n",
       "      <td>50.0</td>\n",
       "      <td>106.0</td>\n",
       "      <td>209.0</td>\n",
       "      <td>207.0</td>\n",
       "      <td>32.0</td>\n",
       "      <td>223.0</td>\n",
       "      <td>220.0</td>\n",
       "      <td>14.0</td>\n",
       "      <td>196</td>\n",
       "      <td>66.0</td>\n",
       "      <td>10</td>\n",
       "      <td>23.0</td>\n",
       "      <td>158</td>\n",
       "      <td>188.0</td>\n",
       "      <td>1</td>\n",
       "    </tr>\n",
       "    <tr>\n",
       "      <td>3</td>\n",
       "      <td>93</td>\n",
       "      <td>41.0</td>\n",
       "      <td>82.0</td>\n",
       "      <td>159.0</td>\n",
       "      <td>144.0</td>\n",
       "      <td>46.0</td>\n",
       "      <td>160.0</td>\n",
       "      <td>127.0</td>\n",
       "      <td>6.0</td>\n",
       "      <td>207</td>\n",
       "      <td>63.0</td>\n",
       "      <td>9</td>\n",
       "      <td>19.0</td>\n",
       "      <td>143</td>\n",
       "      <td>199.0</td>\n",
       "      <td>2</td>\n",
       "    </tr>\n",
       "    <tr>\n",
       "      <td>4</td>\n",
       "      <td>85</td>\n",
       "      <td>44.0</td>\n",
       "      <td>70.0</td>\n",
       "      <td>205.0</td>\n",
       "      <td>149.0</td>\n",
       "      <td>45.0</td>\n",
       "      <td>241.0</td>\n",
       "      <td>188.0</td>\n",
       "      <td>9.0</td>\n",
       "      <td>183</td>\n",
       "      <td>103.0</td>\n",
       "      <td>52</td>\n",
       "      <td>19.0</td>\n",
       "      <td>144</td>\n",
       "      <td>180.0</td>\n",
       "      <td>0</td>\n",
       "    </tr>\n",
       "    <tr>\n",
       "      <td>...</td>\n",
       "      <td>...</td>\n",
       "      <td>...</td>\n",
       "      <td>...</td>\n",
       "      <td>...</td>\n",
       "      <td>...</td>\n",
       "      <td>...</td>\n",
       "      <td>...</td>\n",
       "      <td>...</td>\n",
       "      <td>...</td>\n",
       "      <td>...</td>\n",
       "      <td>...</td>\n",
       "      <td>...</td>\n",
       "      <td>...</td>\n",
       "      <td>...</td>\n",
       "      <td>...</td>\n",
       "      <td>...</td>\n",
       "    </tr>\n",
       "    <tr>\n",
       "      <td>841</td>\n",
       "      <td>93</td>\n",
       "      <td>39.0</td>\n",
       "      <td>87.0</td>\n",
       "      <td>183.0</td>\n",
       "      <td>169.0</td>\n",
       "      <td>40.0</td>\n",
       "      <td>200.0</td>\n",
       "      <td>149.0</td>\n",
       "      <td>7.0</td>\n",
       "      <td>195</td>\n",
       "      <td>64.0</td>\n",
       "      <td>8</td>\n",
       "      <td>20.0</td>\n",
       "      <td>134</td>\n",
       "      <td>188.0</td>\n",
       "      <td>1</td>\n",
       "    </tr>\n",
       "    <tr>\n",
       "      <td>842</td>\n",
       "      <td>89</td>\n",
       "      <td>46.0</td>\n",
       "      <td>84.0</td>\n",
       "      <td>163.0</td>\n",
       "      <td>159.0</td>\n",
       "      <td>43.0</td>\n",
       "      <td>173.0</td>\n",
       "      <td>176.0</td>\n",
       "      <td>1.0</td>\n",
       "      <td>197</td>\n",
       "      <td>66.0</td>\n",
       "      <td>11</td>\n",
       "      <td>20.0</td>\n",
       "      <td>159</td>\n",
       "      <td>186.0</td>\n",
       "      <td>2</td>\n",
       "    </tr>\n",
       "    <tr>\n",
       "      <td>843</td>\n",
       "      <td>106</td>\n",
       "      <td>54.0</td>\n",
       "      <td>101.0</td>\n",
       "      <td>222.0</td>\n",
       "      <td>222.0</td>\n",
       "      <td>30.0</td>\n",
       "      <td>228.0</td>\n",
       "      <td>200.0</td>\n",
       "      <td>3.0</td>\n",
       "      <td>201</td>\n",
       "      <td>67.0</td>\n",
       "      <td>12</td>\n",
       "      <td>25.0</td>\n",
       "      <td>173</td>\n",
       "      <td>187.0</td>\n",
       "      <td>1</td>\n",
       "    </tr>\n",
       "    <tr>\n",
       "      <td>844</td>\n",
       "      <td>86</td>\n",
       "      <td>36.0</td>\n",
       "      <td>78.0</td>\n",
       "      <td>146.0</td>\n",
       "      <td>135.0</td>\n",
       "      <td>50.0</td>\n",
       "      <td>155.0</td>\n",
       "      <td>148.0</td>\n",
       "      <td>0.0</td>\n",
       "      <td>195</td>\n",
       "      <td>58.0</td>\n",
       "      <td>7</td>\n",
       "      <td>18.0</td>\n",
       "      <td>124</td>\n",
       "      <td>190.0</td>\n",
       "      <td>1</td>\n",
       "    </tr>\n",
       "    <tr>\n",
       "      <td>845</td>\n",
       "      <td>85</td>\n",
       "      <td>36.0</td>\n",
       "      <td>66.0</td>\n",
       "      <td>123.0</td>\n",
       "      <td>120.0</td>\n",
       "      <td>56.0</td>\n",
       "      <td>140.0</td>\n",
       "      <td>131.0</td>\n",
       "      <td>1.0</td>\n",
       "      <td>190</td>\n",
       "      <td>55.0</td>\n",
       "      <td>5</td>\n",
       "      <td>17.0</td>\n",
       "      <td>128</td>\n",
       "      <td>186.0</td>\n",
       "      <td>2</td>\n",
       "    </tr>\n",
       "  </tbody>\n",
       "</table>\n",
       "<p>846 rows × 16 columns</p>\n",
       "</div>"
      ],
      "text/plain": [
       "     compactness  circularity  distance_circularity  radius_ratio  \\\n",
       "0             95         48.0                  83.0         178.0   \n",
       "1             91         41.0                  84.0         141.0   \n",
       "2            104         50.0                 106.0         209.0   \n",
       "3             93         41.0                  82.0         159.0   \n",
       "4             85         44.0                  70.0         205.0   \n",
       "..           ...          ...                   ...           ...   \n",
       "841           93         39.0                  87.0         183.0   \n",
       "842           89         46.0                  84.0         163.0   \n",
       "843          106         54.0                 101.0         222.0   \n",
       "844           86         36.0                  78.0         146.0   \n",
       "845           85         36.0                  66.0         123.0   \n",
       "\n",
       "     scatter_ratio  elongatedness  scaled_variance  scaled_radius_of_gyration  \\\n",
       "0            162.0           42.0            176.0                      184.0   \n",
       "1            149.0           45.0            170.0                      158.0   \n",
       "2            207.0           32.0            223.0                      220.0   \n",
       "3            144.0           46.0            160.0                      127.0   \n",
       "4            149.0           45.0            241.0                      188.0   \n",
       "..             ...            ...              ...                        ...   \n",
       "841          169.0           40.0            200.0                      149.0   \n",
       "842          159.0           43.0            173.0                      176.0   \n",
       "843          222.0           30.0            228.0                      200.0   \n",
       "844          135.0           50.0            155.0                      148.0   \n",
       "845          120.0           56.0            140.0                      131.0   \n",
       "\n",
       "     skewness_about  hollows_ratio  pr_axis_aspect_ratio  \\\n",
       "0               6.0            197                  72.0   \n",
       "1               9.0            199                  57.0   \n",
       "2              14.0            196                  66.0   \n",
       "3               6.0            207                  63.0   \n",
       "4               9.0            183                 103.0   \n",
       "..              ...            ...                   ...   \n",
       "841             7.0            195                  64.0   \n",
       "842             1.0            197                  66.0   \n",
       "843             3.0            201                  67.0   \n",
       "844             0.0            195                  58.0   \n",
       "845             1.0            190                  55.0   \n",
       "\n",
       "     max_length_aspect_ratio  pr_axis_rectangularity  \\\n",
       "0                         10                    20.0   \n",
       "1                          9                    19.0   \n",
       "2                         10                    23.0   \n",
       "3                          9                    19.0   \n",
       "4                         52                    19.0   \n",
       "..                       ...                     ...   \n",
       "841                        8                    20.0   \n",
       "842                       11                    20.0   \n",
       "843                       12                    25.0   \n",
       "844                        7                    18.0   \n",
       "845                        5                    17.0   \n",
       "\n",
       "     max_length_rectangularity  skewness_about_2  tclass  \n",
       "0                          159             187.0       2  \n",
       "1                          143             189.0       2  \n",
       "2                          158             188.0       1  \n",
       "3                          143             199.0       2  \n",
       "4                          144             180.0       0  \n",
       "..                         ...               ...     ...  \n",
       "841                        134             188.0       1  \n",
       "842                        159             186.0       2  \n",
       "843                        173             187.0       1  \n",
       "844                        124             190.0       1  \n",
       "845                        128             186.0       2  \n",
       "\n",
       "[846 rows x 16 columns]"
      ]
     },
     "execution_count": 26,
     "metadata": {},
     "output_type": "execute_result"
    }
   ],
   "source": [
    "X"
   ]
  },
  {
   "cell_type": "code",
   "execution_count": 27,
   "metadata": {},
   "outputs": [],
   "source": [
    "X_train,X_test,y_train,y_test= train_test_split(X,y,test_size=0.30,random_state=10)"
   ]
  },
  {
   "cell_type": "code",
   "execution_count": 103,
   "metadata": {},
   "outputs": [],
   "source": [
    "mdl_svc = LinearSVR()"
   ]
  },
  {
   "cell_type": "code",
   "execution_count": 107,
   "metadata": {},
   "outputs": [
    {
     "data": {
      "text/plain": [
       "0.522093277962515"
      ]
     },
     "execution_count": 107,
     "metadata": {},
     "output_type": "execute_result"
    }
   ],
   "source": [
    "mdl_svc.score(X_train,y_train)"
   ]
  },
  {
   "cell_type": "code",
   "execution_count": 108,
   "metadata": {},
   "outputs": [],
   "source": [
    "y_pred = mdl_svc.predict(X_test)"
   ]
  },
  {
   "cell_type": "markdown",
   "metadata": {},
   "source": [
    "Scaling for the data"
   ]
  },
  {
   "cell_type": "code",
   "execution_count": 136,
   "metadata": {},
   "outputs": [
    {
     "data": {
      "text/html": [
       "<div>\n",
       "<style scoped>\n",
       "    .dataframe tbody tr th:only-of-type {\n",
       "        vertical-align: middle;\n",
       "    }\n",
       "\n",
       "    .dataframe tbody tr th {\n",
       "        vertical-align: top;\n",
       "    }\n",
       "\n",
       "    .dataframe thead th {\n",
       "        text-align: right;\n",
       "    }\n",
       "</style>\n",
       "<table border=\"1\" class=\"dataframe\">\n",
       "  <thead>\n",
       "    <tr style=\"text-align: right;\">\n",
       "      <th></th>\n",
       "      <th>compactness</th>\n",
       "      <th>circularity</th>\n",
       "      <th>distance_circularity</th>\n",
       "      <th>radius_ratio</th>\n",
       "      <th>scatter_ratio</th>\n",
       "      <th>elongatedness</th>\n",
       "      <th>scaled_variance</th>\n",
       "      <th>scaled_radius_of_gyration</th>\n",
       "      <th>skewness_about</th>\n",
       "      <th>hollows_ratio</th>\n",
       "      <th>pr_axis_aspect_ratio</th>\n",
       "      <th>max_length_aspect_ratio</th>\n",
       "      <th>pr_axis_rectangularity</th>\n",
       "      <th>max_length_rectangularity</th>\n",
       "      <th>skewness_about_2</th>\n",
       "      <th>tclass</th>\n",
       "    </tr>\n",
       "  </thead>\n",
       "  <tbody>\n",
       "    <tr>\n",
       "      <td>285</td>\n",
       "      <td>-0.566684</td>\n",
       "      <td>0.493316</td>\n",
       "      <td>0.171745</td>\n",
       "      <td>0.562915</td>\n",
       "      <td>-0.007735</td>\n",
       "      <td>-0.240476</td>\n",
       "      <td>-0.030537</td>\n",
       "      <td>0.442823</td>\n",
       "      <td>-0.128326</td>\n",
       "      <td>0.708351</td>\n",
       "      <td>0.261990</td>\n",
       "      <td>-0.137587</td>\n",
       "      <td>-0.233562</td>\n",
       "      <td>0.323542</td>\n",
       "      <td>0.981430</td>\n",
       "      <td>0.014532</td>\n",
       "    </tr>\n",
       "    <tr>\n",
       "      <td>379</td>\n",
       "      <td>1.336056</td>\n",
       "      <td>1.793452</td>\n",
       "      <td>0.994752</td>\n",
       "      <td>1.145818</td>\n",
       "      <td>1.428903</td>\n",
       "      <td>-1.260074</td>\n",
       "      <td>1.130709</td>\n",
       "      <td>1.232618</td>\n",
       "      <td>-0.928000</td>\n",
       "      <td>0.439799</td>\n",
       "      <td>0.261990</td>\n",
       "      <td>0.462794</td>\n",
       "      <td>1.302758</td>\n",
       "      <td>1.698043</td>\n",
       "      <td>-0.154934</td>\n",
       "      <td>0.014532</td>\n",
       "    </tr>\n",
       "    <tr>\n",
       "      <td>816</td>\n",
       "      <td>-0.447763</td>\n",
       "      <td>0.493316</td>\n",
       "      <td>0.171745</td>\n",
       "      <td>-0.369730</td>\n",
       "      <td>-0.247175</td>\n",
       "      <td>0.269324</td>\n",
       "      <td>-0.438542</td>\n",
       "      <td>0.321316</td>\n",
       "      <td>-0.728081</td>\n",
       "      <td>-0.097305</td>\n",
       "      <td>0.261990</td>\n",
       "      <td>0.462794</td>\n",
       "      <td>-0.233562</td>\n",
       "      <td>1.285693</td>\n",
       "      <td>-0.641947</td>\n",
       "      <td>1.448405</td>\n",
       "    </tr>\n",
       "    <tr>\n",
       "      <td>33</td>\n",
       "      <td>0.860371</td>\n",
       "      <td>0.493316</td>\n",
       "      <td>1.564526</td>\n",
       "      <td>1.524705</td>\n",
       "      <td>1.159534</td>\n",
       "      <td>-1.132625</td>\n",
       "      <td>1.350404</td>\n",
       "      <td>0.868097</td>\n",
       "      <td>-0.328244</td>\n",
       "      <td>0.842627</td>\n",
       "      <td>0.747051</td>\n",
       "      <td>0.262667</td>\n",
       "      <td>1.302758</td>\n",
       "      <td>0.392267</td>\n",
       "      <td>0.169742</td>\n",
       "      <td>0.014532</td>\n",
       "    </tr>\n",
       "    <tr>\n",
       "      <td>126</td>\n",
       "      <td>-0.566684</td>\n",
       "      <td>-0.481786</td>\n",
       "      <td>-0.777878</td>\n",
       "      <td>-0.632036</td>\n",
       "      <td>-0.666195</td>\n",
       "      <td>0.524224</td>\n",
       "      <td>-0.407157</td>\n",
       "      <td>-0.681116</td>\n",
       "      <td>-0.928000</td>\n",
       "      <td>-0.902960</td>\n",
       "      <td>0.019460</td>\n",
       "      <td>-0.337715</td>\n",
       "      <td>-0.617642</td>\n",
       "      <td>-0.363709</td>\n",
       "      <td>-0.479609</td>\n",
       "      <td>-1.419340</td>\n",
       "    </tr>\n",
       "  </tbody>\n",
       "</table>\n",
       "</div>"
      ],
      "text/plain": [
       "     compactness  circularity  distance_circularity  radius_ratio  \\\n",
       "285    -0.566684     0.493316              0.171745      0.562915   \n",
       "379     1.336056     1.793452              0.994752      1.145818   \n",
       "816    -0.447763     0.493316              0.171745     -0.369730   \n",
       "33      0.860371     0.493316              1.564526      1.524705   \n",
       "126    -0.566684    -0.481786             -0.777878     -0.632036   \n",
       "\n",
       "     scatter_ratio  elongatedness  scaled_variance  scaled_radius_of_gyration  \\\n",
       "285      -0.007735      -0.240476        -0.030537                   0.442823   \n",
       "379       1.428903      -1.260074         1.130709                   1.232618   \n",
       "816      -0.247175       0.269324        -0.438542                   0.321316   \n",
       "33        1.159534      -1.132625         1.350404                   0.868097   \n",
       "126      -0.666195       0.524224        -0.407157                  -0.681116   \n",
       "\n",
       "     skewness_about  hollows_ratio  pr_axis_aspect_ratio  \\\n",
       "285       -0.128326       0.708351              0.261990   \n",
       "379       -0.928000       0.439799              0.261990   \n",
       "816       -0.728081      -0.097305              0.261990   \n",
       "33        -0.328244       0.842627              0.747051   \n",
       "126       -0.928000      -0.902960              0.019460   \n",
       "\n",
       "     max_length_aspect_ratio  pr_axis_rectangularity  \\\n",
       "285                -0.137587               -0.233562   \n",
       "379                 0.462794                1.302758   \n",
       "816                 0.462794               -0.233562   \n",
       "33                  0.262667                1.302758   \n",
       "126                -0.337715               -0.617642   \n",
       "\n",
       "     max_length_rectangularity  skewness_about_2    tclass  \n",
       "285                   0.323542          0.981430  0.014532  \n",
       "379                   1.698043         -0.154934  0.014532  \n",
       "816                   1.285693         -0.641947  1.448405  \n",
       "33                    0.392267          0.169742  0.014532  \n",
       "126                  -0.363709         -0.479609 -1.419340  "
      ]
     },
     "execution_count": 136,
     "metadata": {},
     "output_type": "execute_result"
    }
   ],
   "source": [
    "from scipy.stats import zscore\n",
    "XScaled=X_train.apply(zscore)\n",
    "XScaled.head()"
   ]
  },
  {
   "cell_type": "code",
   "execution_count": 137,
   "metadata": {},
   "outputs": [
    {
     "data": {
      "text/html": [
       "<div>\n",
       "<style scoped>\n",
       "    .dataframe tbody tr th:only-of-type {\n",
       "        vertical-align: middle;\n",
       "    }\n",
       "\n",
       "    .dataframe tbody tr th {\n",
       "        vertical-align: top;\n",
       "    }\n",
       "\n",
       "    .dataframe thead th {\n",
       "        text-align: right;\n",
       "    }\n",
       "</style>\n",
       "<table border=\"1\" class=\"dataframe\">\n",
       "  <thead>\n",
       "    <tr style=\"text-align: right;\">\n",
       "      <th></th>\n",
       "      <th>compactness</th>\n",
       "      <th>circularity</th>\n",
       "      <th>distance_circularity</th>\n",
       "      <th>radius_ratio</th>\n",
       "      <th>scatter_ratio</th>\n",
       "      <th>elongatedness</th>\n",
       "      <th>scaled_variance</th>\n",
       "      <th>scaled_radius_of_gyration</th>\n",
       "      <th>skewness_about</th>\n",
       "      <th>hollows_ratio</th>\n",
       "      <th>pr_axis_aspect_ratio</th>\n",
       "      <th>max_length_aspect_ratio</th>\n",
       "      <th>pr_axis_rectangularity</th>\n",
       "      <th>max_length_rectangularity</th>\n",
       "      <th>skewness_about_2</th>\n",
       "      <th>tclass</th>\n",
       "    </tr>\n",
       "  </thead>\n",
       "  <tbody>\n",
       "    <tr>\n",
       "      <td>565</td>\n",
       "      <td>0.965567</td>\n",
       "      <td>0.577721</td>\n",
       "      <td>0.214108</td>\n",
       "      <td>0.774061</td>\n",
       "      <td>0.213923</td>\n",
       "      <td>-0.395514</td>\n",
       "      <td>0.142292</td>\n",
       "      <td>0.442782</td>\n",
       "      <td>-0.154434</td>\n",
       "      <td>1.970722</td>\n",
       "      <td>-0.187546</td>\n",
       "      <td>0.778979</td>\n",
       "      <td>0.190145</td>\n",
       "      <td>0.395300</td>\n",
       "      <td>1.333953</td>\n",
       "      <td>0.072004</td>\n",
       "    </tr>\n",
       "    <tr>\n",
       "      <td>354</td>\n",
       "      <td>0.580553</td>\n",
       "      <td>0.907477</td>\n",
       "      <td>0.535142</td>\n",
       "      <td>0.806293</td>\n",
       "      <td>0.275251</td>\n",
       "      <td>-0.525140</td>\n",
       "      <td>0.242040</td>\n",
       "      <td>0.759946</td>\n",
       "      <td>0.935182</td>\n",
       "      <td>0.754450</td>\n",
       "      <td>0.245515</td>\n",
       "      <td>0.204637</td>\n",
       "      <td>0.190145</td>\n",
       "      <td>0.534367</td>\n",
       "      <td>0.680483</td>\n",
       "      <td>0.072004</td>\n",
       "    </tr>\n",
       "    <tr>\n",
       "      <td>827</td>\n",
       "      <td>0.708891</td>\n",
       "      <td>2.061621</td>\n",
       "      <td>1.177212</td>\n",
       "      <td>0.322822</td>\n",
       "      <td>1.716454</td>\n",
       "      <td>-1.432525</td>\n",
       "      <td>1.173024</td>\n",
       "      <td>1.267410</td>\n",
       "      <td>-0.372357</td>\n",
       "      <td>0.349026</td>\n",
       "      <td>-1.053669</td>\n",
       "      <td>1.353320</td>\n",
       "      <td>1.760769</td>\n",
       "      <td>2.828968</td>\n",
       "      <td>-0.626456</td>\n",
       "      <td>0.072004</td>\n",
       "    </tr>\n",
       "    <tr>\n",
       "      <td>636</td>\n",
       "      <td>0.323877</td>\n",
       "      <td>-0.576423</td>\n",
       "      <td>-0.813204</td>\n",
       "      <td>-0.450732</td>\n",
       "      <td>-0.828650</td>\n",
       "      <td>0.771124</td>\n",
       "      <td>-0.855191</td>\n",
       "      <td>-0.128115</td>\n",
       "      <td>1.153105</td>\n",
       "      <td>1.835581</td>\n",
       "      <td>-0.764961</td>\n",
       "      <td>-0.369704</td>\n",
       "      <td>-0.987824</td>\n",
       "      <td>-0.439101</td>\n",
       "      <td>2.150791</td>\n",
       "      <td>0.072004</td>\n",
       "    </tr>\n",
       "    <tr>\n",
       "      <td>418</td>\n",
       "      <td>-0.831166</td>\n",
       "      <td>-0.246668</td>\n",
       "      <td>-0.748997</td>\n",
       "      <td>0.064970</td>\n",
       "      <td>-0.491347</td>\n",
       "      <td>0.382245</td>\n",
       "      <td>-0.356450</td>\n",
       "      <td>-0.064682</td>\n",
       "      <td>0.063489</td>\n",
       "      <td>-1.137528</td>\n",
       "      <td>1.544699</td>\n",
       "      <td>-0.369704</td>\n",
       "      <td>-0.595168</td>\n",
       "      <td>-0.160967</td>\n",
       "      <td>-0.789824</td>\n",
       "      <td>-1.334837</td>\n",
       "    </tr>\n",
       "  </tbody>\n",
       "</table>\n",
       "</div>"
      ],
      "text/plain": [
       "     compactness  circularity  distance_circularity  radius_ratio  \\\n",
       "565     0.965567     0.577721              0.214108      0.774061   \n",
       "354     0.580553     0.907477              0.535142      0.806293   \n",
       "827     0.708891     2.061621              1.177212      0.322822   \n",
       "636     0.323877    -0.576423             -0.813204     -0.450732   \n",
       "418    -0.831166    -0.246668             -0.748997      0.064970   \n",
       "\n",
       "     scatter_ratio  elongatedness  scaled_variance  scaled_radius_of_gyration  \\\n",
       "565       0.213923      -0.395514         0.142292                   0.442782   \n",
       "354       0.275251      -0.525140         0.242040                   0.759946   \n",
       "827       1.716454      -1.432525         1.173024                   1.267410   \n",
       "636      -0.828650       0.771124        -0.855191                  -0.128115   \n",
       "418      -0.491347       0.382245        -0.356450                  -0.064682   \n",
       "\n",
       "     skewness_about  hollows_ratio  pr_axis_aspect_ratio  \\\n",
       "565       -0.154434       1.970722             -0.187546   \n",
       "354        0.935182       0.754450              0.245515   \n",
       "827       -0.372357       0.349026             -1.053669   \n",
       "636        1.153105       1.835581             -0.764961   \n",
       "418        0.063489      -1.137528              1.544699   \n",
       "\n",
       "     max_length_aspect_ratio  pr_axis_rectangularity  \\\n",
       "565                 0.778979                0.190145   \n",
       "354                 0.204637                0.190145   \n",
       "827                 1.353320                1.760769   \n",
       "636                -0.369704               -0.987824   \n",
       "418                -0.369704               -0.595168   \n",
       "\n",
       "     max_length_rectangularity  skewness_about_2    tclass  \n",
       "565                   0.395300          1.333953  0.072004  \n",
       "354                   0.534367          0.680483  0.072004  \n",
       "827                   2.828968         -0.626456  0.072004  \n",
       "636                  -0.439101          2.150791  0.072004  \n",
       "418                  -0.160967         -0.789824 -1.334837  "
      ]
     },
     "execution_count": 137,
     "metadata": {},
     "output_type": "execute_result"
    }
   ],
   "source": [
    "XScaled_test=X_test.apply(zscore)\n",
    "XScaled_test.head()"
   ]
  },
  {
   "cell_type": "code",
   "execution_count": 138,
   "metadata": {},
   "outputs": [
    {
     "name": "stdout",
     "output_type": "stream",
     "text": [
      "(592, 16)\n",
      "(254, 16)\n"
     ]
    }
   ],
   "source": [
    "print (XScaled.shape)\n",
    "print (XScaled_test.shape)"
   ]
  },
  {
   "cell_type": "code",
   "execution_count": 85,
   "metadata": {},
   "outputs": [],
   "source": [
    "mdl = PCA(n_components=9)"
   ]
  },
  {
   "cell_type": "code",
   "execution_count": 86,
   "metadata": {},
   "outputs": [],
   "source": [
    "X1 = scaled_data"
   ]
  },
  {
   "cell_type": "code",
   "execution_count": 139,
   "metadata": {},
   "outputs": [
    {
     "data": {
      "text/plain": [
       "PCA(copy=True, iterated_power='auto', n_components=9, random_state=None,\n",
       "    svd_solver='auto', tol=0.0, whiten=False)"
      ]
     },
     "execution_count": 139,
     "metadata": {},
     "output_type": "execute_result"
    }
   ],
   "source": [
    "mdl.fit(XScaled)\n",
    "mdl.fit(XScaled_test)"
   ]
  },
  {
   "cell_type": "code",
   "execution_count": 140,
   "metadata": {},
   "outputs": [
    {
     "name": "stdout",
     "output_type": "stream",
     "text": [
      "[8.47775065 2.5105446  1.57419502 1.33307738 0.89486095 0.43124796\n",
      " 0.3145268  0.21265516 0.10123157]\n"
     ]
    }
   ],
   "source": [
    "print (mdl.explained_variance_)"
   ]
  },
  {
   "cell_type": "code",
   "execution_count": 141,
   "metadata": {},
   "outputs": [
    {
     "name": "stdout",
     "output_type": "stream",
     "text": [
      "[0.52777335 0.15629129 0.09799984 0.08298932 0.05570862 0.02684688\n",
      " 0.01958053 0.01323862 0.00630206]\n"
     ]
    }
   ],
   "source": [
    "print (mdl.explained_variance_ratio_)"
   ]
  },
  {
   "cell_type": "code",
   "execution_count": 142,
   "metadata": {},
   "outputs": [
    {
     "name": "stdout",
     "output_type": "stream",
     "text": [
      "[[ 0.28684011  0.30887316  0.31959639  0.28259367  0.33407014 -0.33178204\n",
      "   0.32825376  0.28234459  0.06214013  0.07770684  0.07655445  0.12453013\n",
      "   0.33059017  0.28860882  0.03760592 -0.07681605]\n",
      " [-0.1284317   0.1830504  -0.07010657 -0.28128273  0.05821085  0.01327394\n",
      "   0.03355484  0.26004789 -0.0691355  -0.5646     -0.28376096 -0.08772122\n",
      "   0.08020543  0.18443884 -0.57977299 -0.07274558]\n",
      " [-0.23829394 -0.04322865 -0.10587163  0.20185634 -0.02551634 -0.03074109\n",
      "   0.0861984   0.01324711 -0.40676602 -0.18428612  0.58813425  0.30077988\n",
      "  -0.04604491 -0.11574774 -0.12911175 -0.46066564]\n",
      " [-0.06373556  0.13342589  0.00428073 -0.02053986 -0.12846611  0.15663297\n",
      "  -0.12581447  0.08357923  0.19852128  0.01609819  0.24274855  0.65038455\n",
      "  -0.11104244  0.22915657 -0.18056497  0.5429542 ]\n",
      " [-0.02149289  0.05579933 -0.15948507  0.02709223 -0.08040954  0.05924236\n",
      "  -0.05892473  0.18142133  0.82813004 -0.12587597  0.23735013 -0.08593656\n",
      "  -0.08382277 -0.02098606  0.05051301 -0.38537165]\n",
      " [ 0.2571718  -0.39963745  0.12834749  0.08751086  0.15879601 -0.07925849\n",
      "   0.24024134 -0.37922141  0.24189678 -0.30138547 -0.0717957   0.25661509\n",
      "   0.176836   -0.44161218 -0.24952594  0.08994346]\n",
      " [-0.11113365 -0.00356788 -0.04676362 -0.33835486  0.03083315 -0.08078526\n",
      "   0.01697942 -0.10351387  0.0329057   0.20261192 -0.46046091  0.58593301\n",
      "   0.01845038  0.09087871  0.17435969 -0.46476725]\n",
      " [-0.77050079 -0.08304473  0.46566941  0.08623147  0.07529465 -0.19218837\n",
      "   0.03678312  0.03518897  0.16889899  0.19991858 -0.0593385  -0.08277508\n",
      "   0.01242208 -0.14244511 -0.15872685  0.07379098]\n",
      " [-0.12063089 -0.10642393 -0.17428724 -0.07329391 -0.00981441  0.02368373\n",
      "   0.34591039  0.61519071 -0.05992052 -0.18575374 -0.10593088  0.12078113\n",
      "  -0.01382004 -0.39862187  0.41067693  0.21898166]]\n"
     ]
    }
   ],
   "source": [
    "print (mdl.components_)"
   ]
  },
  {
   "cell_type": "code",
   "execution_count": 143,
   "metadata": {},
   "outputs": [
    {
     "name": "stdout",
     "output_type": "stream",
     "text": [
      "[0.52777335 0.15629129 0.09799984 0.08298932 0.05570862 0.02684688\n",
      " 0.01958053 0.01323862 0.00630206]\n"
     ]
    }
   ],
   "source": [
    "print(mdl.explained_variance_ratio_)"
   ]
  },
  {
   "cell_type": "code",
   "execution_count": 144,
   "metadata": {},
   "outputs": [
    {
     "data": {
      "image/png": "[encoded data removed]",
      "text/plain": [
       "<Figure size 432x288 with 1 Axes>"
      ]
     },
     "metadata": {
      "needs_background": "light"
     },
     "output_type": "display_data"
    }
   ],
   "source": [
    "plt.bar(list(range(0,9)),mdl.explained_variance_ratio_,alpha=1, align='center')\n",
    "plt.show()"
   ]
  },
  {
   "cell_type": "markdown",
   "metadata": {},
   "source": [
    "Dimensionality Reduction\n"
   ]
  },
  {
   "cell_type": "code",
   "execution_count": 128,
   "metadata": {},
   "outputs": [
    {
     "name": "stdout",
     "output_type": "stream",
     "text": [
      "[[ 0.28696014  0.31123288  0.31742664  0.28441413  0.3300578  -0.32912264\n",
      "   0.32350394  0.29144143  0.03640428  0.07618165  0.0985451   0.10322407\n",
      "   0.32620119  0.30286668  0.02948481 -0.07605304]\n",
      " [ 0.09289969 -0.11691751  0.04230329  0.27373699 -0.10048189  0.03482386\n",
      "  -0.04788286 -0.20891709  0.03982187  0.54509226  0.35918031  0.25358708\n",
      "  -0.11012079 -0.08872268  0.52613697  0.23427193]\n",
      " [-0.2363242   0.02897667 -0.09022938  0.14867209 -0.08184201  0.08387009\n",
      "   0.08013589  0.06343437 -0.21740908 -0.28731505  0.52826517  0.58692547\n",
      "  -0.08697389  0.03971595 -0.35539984  0.00868372]\n",
      " [-0.0953568  -0.14233538 -0.05819191  0.15743549  0.06871866 -0.14572683\n",
      "   0.10420535 -0.11239589 -0.54366678  0.03314195  0.14533251 -0.22897442\n",
      "   0.0376087  -0.2232761   0.1789698  -0.66295229]\n",
      " [-0.02754845 -0.0362993  -0.14554861  0.09726196 -0.04109997  0.00625534\n",
      "   0.02358305  0.07676251  0.78285281 -0.11320168  0.23912716 -0.00608018\n",
      "  -0.0580702  -0.13391495  0.06799639 -0.50028132]\n",
      " [ 0.2808597  -0.45284823  0.16989505  0.06774379  0.18667014 -0.10740469\n",
      "   0.27595542 -0.42213898  0.10717708 -0.19860394 -0.1416615   0.20968823\n",
      "   0.21008415 -0.41820755 -0.18448751  0.11756869]]\n",
      "[0.53235345 0.1562771  0.10074059 0.07758204 0.05419367 0.02836482]\n"
     ]
    }
   ],
   "source": [
    "mdl6 = PCA(n_components=6)\n",
    "mdl6.fit(XScaled)\n",
    "print(mdl6.components_)\n",
    "print(mdl6.explained_variance_ratio_)\n",
    "Xmdl6 = mdl6.transform(XScaled)"
   ]
  },
  {
   "cell_type": "code",
   "execution_count": 148,
   "metadata": {},
   "outputs": [
    {
     "name": "stdout",
     "output_type": "stream",
     "text": [
      "[[ 0.28684011  0.30887316  0.31959639  0.28259367  0.33407014 -0.33178204\n",
      "   0.32825376  0.28234459  0.06214013  0.07770684  0.07655445  0.12453013\n",
      "   0.33059017  0.28860882  0.03760592 -0.07681605]\n",
      " [-0.1284317   0.1830504  -0.07010657 -0.28128273  0.05821085  0.01327394\n",
      "   0.03355484  0.26004789 -0.0691355  -0.5646     -0.28376096 -0.08772122\n",
      "   0.08020543  0.18443884 -0.57977299 -0.07274558]\n",
      " [-0.23829394 -0.04322865 -0.10587163  0.20185634 -0.02551634 -0.03074109\n",
      "   0.0861984   0.01324711 -0.40676602 -0.18428612  0.58813425  0.30077988\n",
      "  -0.04604491 -0.11574774 -0.12911175 -0.46066564]\n",
      " [-0.06373556  0.13342589  0.00428073 -0.02053986 -0.12846611  0.15663297\n",
      "  -0.12581447  0.08357923  0.19852128  0.01609819  0.24274855  0.65038455\n",
      "  -0.11104244  0.22915657 -0.18056497  0.5429542 ]\n",
      " [-0.02149289  0.05579933 -0.15948507  0.02709223 -0.08040954  0.05924236\n",
      "  -0.05892473  0.18142133  0.82813004 -0.12587597  0.23735013 -0.08593656\n",
      "  -0.08382277 -0.02098606  0.05051301 -0.38537165]\n",
      " [ 0.2571718  -0.39963745  0.12834749  0.08751086  0.15879601 -0.07925849\n",
      "   0.24024134 -0.37922141  0.24189678 -0.30138547 -0.0717957   0.25661509\n",
      "   0.176836   -0.44161218 -0.24952594  0.08994346]]\n",
      "[0.52777335 0.15629129 0.09799984 0.08298932 0.05570862 0.02684688]\n"
     ]
    }
   ],
   "source": [
    "mdl6.fit(XScaled_test)\n",
    "print(mdl6.components_)\n",
    "print(mdl6.explained_variance_ratio_)\n",
    "Xmdl6_Test = mdl6.transform(XScaled_test)"
   ]
  },
  {
   "cell_type": "markdown",
   "metadata": {},
   "source": [
    "Support Vector and PCA"
   ]
  },
  {
   "cell_type": "markdown",
   "metadata": {},
   "source": [
    "Train data"
   ]
  },
  {
   "cell_type": "code",
   "execution_count": 132,
   "metadata": {},
   "outputs": [
    {
     "data": {
      "text/plain": [
       "0.9999999987891319"
      ]
     },
     "execution_count": 132,
     "metadata": {},
     "output_type": "execute_result"
    }
   ],
   "source": [
    "mdl_svc.fit(XScaled,y_train)\n",
    "mdl_svc.score(XScaled,y_train)"
   ]
  },
  {
   "cell_type": "code",
   "execution_count": 134,
   "metadata": {},
   "outputs": [
    {
     "name": "stderr",
     "output_type": "stream",
     "text": [
      "/Volumes/FastSSD/Anaconda/anaconda3/lib/python3.7/site-packages/sklearn/svm/base.py:929: ConvergenceWarning: Liblinear failed to converge, increase the number of iterations.\n",
      "  \"the number of iterations.\", ConvergenceWarning)\n"
     ]
    },
    {
     "data": {
      "text/plain": [
       "0.9516368447407538"
      ]
     },
     "execution_count": 134,
     "metadata": {},
     "output_type": "execute_result"
    }
   ],
   "source": [
    "mdl_svc.fit(Xmdl6,y_train)\n",
    "mdl_svc.score(Xmdl6,y_train)"
   ]
  },
  {
   "cell_type": "markdown",
   "metadata": {},
   "source": [
    "Test data"
   ]
  },
  {
   "cell_type": "code",
   "execution_count": 145,
   "metadata": {},
   "outputs": [
    {
     "data": {
      "text/plain": [
       "0.9999999996646355"
      ]
     },
     "execution_count": 145,
     "metadata": {},
     "output_type": "execute_result"
    }
   ],
   "source": [
    "mdl_svc.fit(XScaled_test,y_test)\n",
    "mdl_svc.score(XScaled_test,y_test)"
   ]
  },
  {
   "cell_type": "code",
   "execution_count": 150,
   "metadata": {},
   "outputs": [
    {
     "name": "stderr",
     "output_type": "stream",
     "text": [
      "/Volumes/FastSSD/Anaconda/anaconda3/lib/python3.7/site-packages/sklearn/svm/base.py:929: ConvergenceWarning: Liblinear failed to converge, increase the number of iterations.\n",
      "  \"the number of iterations.\", ConvergenceWarning)\n"
     ]
    },
    {
     "data": {
      "text/plain": [
       "0.8938164925740638"
      ]
     },
     "execution_count": 150,
     "metadata": {},
     "output_type": "execute_result"
    }
   ],
   "source": [
    "mdl_svc.fit(Xmdl6_Test,y_test)\n",
    "mdl_svc.score(Xmdl6_Test,y_test)"
   ]
  },
  {
   "cell_type": "code",
   "execution_count": null,
   "metadata": {},
   "outputs": [],
   "source": []
  }
 ],
 "metadata": {
  "kernelspec": {
   "display_name": "Python 3",
   "language": "python",
   "name": "python3"
  },
  "language_info": {
   "codemirror_mode": {
    "name": "ipython",
    "version": 3
   },
   "file_extension": ".py",
   "mimetype": "text/x-python",
   "name": "python",
   "nbconvert_exporter": "python",
   "pygments_lexer": "ipython3",
   "version": "3.7.4"
  }
 },
 "nbformat": 4,
 "nbformat_minor": 2
}
