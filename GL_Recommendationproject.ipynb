{
 "cells": [
  {
   "cell_type": "code",
   "execution_count": 1,
   "metadata": {},
   "outputs": [],
   "source": [
    "import pandas as pd\n",
    "import numpy as np\n",
    "\n",
    "import matplotlib.pyplot as plt\n",
    "import seaborn as sns\n",
    "from sklearn.preprocessing import LabelEncoder"
   ]
  },
  {
   "cell_type": "code",
   "execution_count": 2,
   "metadata": {},
   "outputs": [],
   "source": [
    "headers = ['userid','productid', 'rating','timestamp']"
   ]
  },
  {
   "cell_type": "code",
   "execution_count": 151,
   "metadata": {},
   "outputs": [],
   "source": [
    "data = pd.read_csv('/Volumes/FastSSD/Anaconda/anaconda3/project/ratings_Electronics.csv',header=None)"
   ]
  },
  {
   "cell_type": "code",
   "execution_count": 152,
   "metadata": {},
   "outputs": [
    {
     "data": {
      "text/plain": [
       "(7824482, 4)"
      ]
     },
     "execution_count": 152,
     "metadata": {},
     "output_type": "execute_result"
    }
   ],
   "source": [
    "data.shape"
   ]
  },
  {
   "cell_type": "code",
   "execution_count": 153,
   "metadata": {},
   "outputs": [],
   "source": [
    "data.columns= headers"
   ]
  },
  {
   "cell_type": "code",
   "execution_count": 155,
   "metadata": {},
   "outputs": [
    {
     "data": {
      "text/html": [
       "<div>\n",
       "<style scoped>\n",
       "    .dataframe tbody tr th:only-of-type {\n",
       "        vertical-align: middle;\n",
       "    }\n",
       "\n",
       "    .dataframe tbody tr th {\n",
       "        vertical-align: top;\n",
       "    }\n",
       "\n",
       "    .dataframe thead th {\n",
       "        text-align: right;\n",
       "    }\n",
       "</style>\n",
       "<table border=\"1\" class=\"dataframe\">\n",
       "  <thead>\n",
       "    <tr style=\"text-align: right;\">\n",
       "      <th></th>\n",
       "      <th>userid</th>\n",
       "      <th>productid</th>\n",
       "      <th>rating</th>\n",
       "      <th>timestamp</th>\n",
       "    </tr>\n",
       "  </thead>\n",
       "  <tbody>\n",
       "    <tr>\n",
       "      <th>0</th>\n",
       "      <td>AKM1MP6P0OYPR</td>\n",
       "      <td>0132793040</td>\n",
       "      <td>5.0</td>\n",
       "      <td>1365811200</td>\n",
       "    </tr>\n",
       "    <tr>\n",
       "      <th>1</th>\n",
       "      <td>A2CX7LUOHB2NDG</td>\n",
       "      <td>0321732944</td>\n",
       "      <td>5.0</td>\n",
       "      <td>1341100800</td>\n",
       "    </tr>\n",
       "    <tr>\n",
       "      <th>2</th>\n",
       "      <td>A2NWSAGRHCP8N5</td>\n",
       "      <td>0439886341</td>\n",
       "      <td>1.0</td>\n",
       "      <td>1367193600</td>\n",
       "    </tr>\n",
       "    <tr>\n",
       "      <th>3</th>\n",
       "      <td>A2WNBOD3WNDNKT</td>\n",
       "      <td>0439886341</td>\n",
       "      <td>3.0</td>\n",
       "      <td>1374451200</td>\n",
       "    </tr>\n",
       "    <tr>\n",
       "      <th>4</th>\n",
       "      <td>A1GI0U4ZRJA8WN</td>\n",
       "      <td>0439886341</td>\n",
       "      <td>1.0</td>\n",
       "      <td>1334707200</td>\n",
       "    </tr>\n",
       "  </tbody>\n",
       "</table>\n",
       "</div>"
      ],
      "text/plain": [
       "           userid   productid  rating   timestamp\n",
       "0   AKM1MP6P0OYPR  0132793040     5.0  1365811200\n",
       "1  A2CX7LUOHB2NDG  0321732944     5.0  1341100800\n",
       "2  A2NWSAGRHCP8N5  0439886341     1.0  1367193600\n",
       "3  A2WNBOD3WNDNKT  0439886341     3.0  1374451200\n",
       "4  A1GI0U4ZRJA8WN  0439886341     1.0  1334707200"
      ]
     },
     "execution_count": 155,
     "metadata": {},
     "output_type": "execute_result"
    }
   ],
   "source": [
    "data.head()"
   ]
  },
  {
   "cell_type": "code",
   "execution_count": 156,
   "metadata": {
    "scrolled": true
   },
   "outputs": [
    {
     "data": {
      "text/plain": [
       "userid       0\n",
       "productid    0\n",
       "rating       0\n",
       "timestamp    0\n",
       "dtype: int64"
      ]
     },
     "execution_count": 156,
     "metadata": {},
     "output_type": "execute_result"
    }
   ],
   "source": [
    "data.isnull().sum()"
   ]
  },
  {
   "cell_type": "code",
   "execution_count": 157,
   "metadata": {},
   "outputs": [
    {
     "data": {
      "text/plain": [
       "userid       0\n",
       "productid    0\n",
       "rating       0\n",
       "timestamp    0\n",
       "dtype: int64"
      ]
     },
     "execution_count": 157,
     "metadata": {},
     "output_type": "execute_result"
    }
   ],
   "source": [
    "data.isna().sum()"
   ]
  },
  {
   "cell_type": "code",
   "execution_count": 158,
   "metadata": {},
   "outputs": [
    {
     "name": "stdout",
     "output_type": "stream",
     "text": [
      "Unique users\n",
      "4201696\n"
     ]
    }
   ],
   "source": [
    "print ('Unique users')\n",
    "print (data['userid'].value_counts().count())"
   ]
  },
  {
   "cell_type": "code",
   "execution_count": 159,
   "metadata": {},
   "outputs": [
    {
     "data": {
      "text/html": [
       "<div>\n",
       "<style scoped>\n",
       "    .dataframe tbody tr th:only-of-type {\n",
       "        vertical-align: middle;\n",
       "    }\n",
       "\n",
       "    .dataframe tbody tr th {\n",
       "        vertical-align: top;\n",
       "    }\n",
       "\n",
       "    .dataframe thead th {\n",
       "        text-align: right;\n",
       "    }\n",
       "</style>\n",
       "<table border=\"1\" class=\"dataframe\">\n",
       "  <thead>\n",
       "    <tr style=\"text-align: right;\">\n",
       "      <th></th>\n",
       "      <th>userid</th>\n",
       "      <th>productid</th>\n",
       "      <th>rating</th>\n",
       "      <th>timestamp</th>\n",
       "    </tr>\n",
       "  </thead>\n",
       "  <tbody>\n",
       "    <tr>\n",
       "      <th>94</th>\n",
       "      <td>A3BY5KCNQZXV5U</td>\n",
       "      <td>0594451647</td>\n",
       "      <td>5.0</td>\n",
       "      <td>1390176000</td>\n",
       "    </tr>\n",
       "    <tr>\n",
       "      <th>118</th>\n",
       "      <td>AT09WGFUM934H</td>\n",
       "      <td>0594481813</td>\n",
       "      <td>3.0</td>\n",
       "      <td>1377907200</td>\n",
       "    </tr>\n",
       "    <tr>\n",
       "      <th>177</th>\n",
       "      <td>A32HSNCNPRUMTR</td>\n",
       "      <td>0970407998</td>\n",
       "      <td>1.0</td>\n",
       "      <td>1319673600</td>\n",
       "    </tr>\n",
       "    <tr>\n",
       "      <th>178</th>\n",
       "      <td>A17HMM1M7T9PJ1</td>\n",
       "      <td>0970407998</td>\n",
       "      <td>4.0</td>\n",
       "      <td>1281744000</td>\n",
       "    </tr>\n",
       "    <tr>\n",
       "      <th>492</th>\n",
       "      <td>A3CLWR1UUZT6TG</td>\n",
       "      <td>0972683275</td>\n",
       "      <td>5.0</td>\n",
       "      <td>1373587200</td>\n",
       "    </tr>\n",
       "    <tr>\n",
       "      <th>...</th>\n",
       "      <td>...</td>\n",
       "      <td>...</td>\n",
       "      <td>...</td>\n",
       "      <td>...</td>\n",
       "    </tr>\n",
       "    <tr>\n",
       "      <th>7824426</th>\n",
       "      <td>A1E1LEVQ9VQNK</td>\n",
       "      <td>B00LGQ6HL8</td>\n",
       "      <td>5.0</td>\n",
       "      <td>1405641600</td>\n",
       "    </tr>\n",
       "    <tr>\n",
       "      <th>7824427</th>\n",
       "      <td>A2NYK9KWFMJV4Y</td>\n",
       "      <td>B00LGQ6HL8</td>\n",
       "      <td>5.0</td>\n",
       "      <td>1405209600</td>\n",
       "    </tr>\n",
       "    <tr>\n",
       "      <th>7824436</th>\n",
       "      <td>A3AYSYSLHU26U9</td>\n",
       "      <td>B00LI4ZZO8</td>\n",
       "      <td>4.0</td>\n",
       "      <td>1405296000</td>\n",
       "    </tr>\n",
       "    <tr>\n",
       "      <th>7824438</th>\n",
       "      <td>A2NYK9KWFMJV4Y</td>\n",
       "      <td>B00LI4ZZO8</td>\n",
       "      <td>5.0</td>\n",
       "      <td>1405209600</td>\n",
       "    </tr>\n",
       "    <tr>\n",
       "      <th>7824444</th>\n",
       "      <td>A2BYV7S1QP2YIG</td>\n",
       "      <td>B00LKG1MC8</td>\n",
       "      <td>5.0</td>\n",
       "      <td>1404950400</td>\n",
       "    </tr>\n",
       "  </tbody>\n",
       "</table>\n",
       "<p>125871 rows × 4 columns</p>\n",
       "</div>"
      ],
      "text/plain": [
       "                 userid   productid  rating   timestamp\n",
       "94       A3BY5KCNQZXV5U  0594451647     5.0  1390176000\n",
       "118       AT09WGFUM934H  0594481813     3.0  1377907200\n",
       "177      A32HSNCNPRUMTR  0970407998     1.0  1319673600\n",
       "178      A17HMM1M7T9PJ1  0970407998     4.0  1281744000\n",
       "492      A3CLWR1UUZT6TG  0972683275     5.0  1373587200\n",
       "...                 ...         ...     ...         ...\n",
       "7824426   A1E1LEVQ9VQNK  B00LGQ6HL8     5.0  1405641600\n",
       "7824427  A2NYK9KWFMJV4Y  B00LGQ6HL8     5.0  1405209600\n",
       "7824436  A3AYSYSLHU26U9  B00LI4ZZO8     4.0  1405296000\n",
       "7824438  A2NYK9KWFMJV4Y  B00LI4ZZO8     5.0  1405209600\n",
       "7824444  A2BYV7S1QP2YIG  B00LKG1MC8     5.0  1404950400\n",
       "\n",
       "[125871 rows x 4 columns]"
      ]
     },
     "execution_count": 159,
     "metadata": {},
     "output_type": "execute_result"
    }
   ],
   "source": [
    "data[data['userid'].isin(counts1[counts1 >= 50].index)]"
   ]
  },
  {
   "cell_type": "code",
   "execution_count": null,
   "metadata": {},
   "outputs": [],
   "source": []
  },
  {
   "cell_type": "code",
   "execution_count": null,
   "metadata": {},
   "outputs": [],
   "source": []
  },
  {
   "cell_type": "code",
   "execution_count": 160,
   "metadata": {},
   "outputs": [
    {
     "name": "stdout",
     "output_type": "stream",
     "text": [
      "Unique products\n",
      "476002\n"
     ]
    }
   ],
   "source": [
    "print ('Unique products')\n",
    "print (data['productid'].value_counts().count())"
   ]
  },
  {
   "cell_type": "code",
   "execution_count": 161,
   "metadata": {},
   "outputs": [],
   "source": [
    "counts1 = data['userid'].value_counts()\n",
    "# print(counts1)\n",
    "data_ratingabove50 = data[data['userid'].isin(counts1[counts1 >= 50].index)]"
   ]
  },
  {
   "cell_type": "code",
   "execution_count": 162,
   "metadata": {},
   "outputs": [
    {
     "data": {
      "text/plain": [
       "(125871, 4)"
      ]
     },
     "execution_count": 162,
     "metadata": {},
     "output_type": "execute_result"
    }
   ],
   "source": [
    "data_ratingabove50.shape"
   ]
  },
  {
   "cell_type": "code",
   "execution_count": 163,
   "metadata": {},
   "outputs": [
    {
     "name": "stdout",
     "output_type": "stream",
     "text": [
      "Unique users\n",
      "1540\n"
     ]
    }
   ],
   "source": [
    "print ('Unique users')\n",
    "print (data_ratingabove50['userid'].value_counts().count())"
   ]
  },
  {
   "cell_type": "code",
   "execution_count": 164,
   "metadata": {},
   "outputs": [
    {
     "name": "stdout",
     "output_type": "stream",
     "text": [
      "Unique products\n",
      "48190\n"
     ]
    }
   ],
   "source": [
    "print ('Unique products')\n",
    "print (data_ratingabove50['productid'].value_counts().count())"
   ]
  },
  {
   "cell_type": "code",
   "execution_count": 165,
   "metadata": {},
   "outputs": [],
   "source": [
    "from sklearn.model_selection import train_test_split"
   ]
  },
  {
   "cell_type": "code",
   "execution_count": 167,
   "metadata": {},
   "outputs": [
    {
     "data": {
      "text/plain": [
       "<matplotlib.axes._subplots.AxesSubplot at 0x1ad6530310>"
      ]
     },
     "execution_count": 167,
     "metadata": {},
     "output_type": "execute_result"
    },
    {
     "data": {
      "image/png": "[encoded data removed]",
      "text/plain": [
       "<Figure size 432x288 with 1 Axes>"
      ]
     },
     "metadata": {
      "needs_background": "light"
     },
     "output_type": "display_data"
    }
   ],
   "source": [
    "sns.countplot(data_ratingabove50.userid.astype(str))"
   ]
  },
  {
   "cell_type": "code",
   "execution_count": 168,
   "metadata": {},
   "outputs": [
    {
     "name": "stdout",
     "output_type": "stream",
     "text": [
      "                 userid   productid  rating   timestamp\n",
      "6595853  A2BYV7S1QP2YIG  B009EAHVTA     5.0  1399161600\n",
      "4738241   AB094YABX21WQ  B0056XCEAA     1.0  1315267200\n",
      "4175596  A3D0UM4ZD2CMAW  B004I763AW     5.0  1355616000\n",
      "3753016   AATWFX0ZZSE6C  B0040NPHMO     3.0  1293753600\n",
      "1734767  A1NNMOD9H36Q8E  B0015VW3BM     4.0  1220313600\n",
      "Train data shape: %d\n",
      "(88109, 4)\n",
      "Test data shape: %d\n",
      "(37762, 4)\n"
     ]
    }
   ],
   "source": [
    "train_data, test_data = train_test_split(data_ratingabove50, test_size = 0.30, random_state=0)\n",
    "print(train_data.head(5))\n",
    "print('Train data shape: %d\\n'+ str(train_data.shape))\n",
    "print('Test data shape: %d\\n' + str(test_data.shape))"
   ]
  },
  {
   "cell_type": "code",
   "execution_count": 169,
   "metadata": {},
   "outputs": [
    {
     "data": {
      "text/html": [
       "<div>\n",
       "<style scoped>\n",
       "    .dataframe tbody tr th:only-of-type {\n",
       "        vertical-align: middle;\n",
       "    }\n",
       "\n",
       "    .dataframe tbody tr th {\n",
       "        vertical-align: top;\n",
       "    }\n",
       "\n",
       "    .dataframe thead th {\n",
       "        text-align: right;\n",
       "    }\n",
       "</style>\n",
       "<table border=\"1\" class=\"dataframe\">\n",
       "  <thead>\n",
       "    <tr style=\"text-align: right;\">\n",
       "      <th></th>\n",
       "      <th>userid</th>\n",
       "      <th>productid</th>\n",
       "      <th>rating</th>\n",
       "      <th>timestamp</th>\n",
       "    </tr>\n",
       "  </thead>\n",
       "  <tbody>\n",
       "    <tr>\n",
       "      <th>6595853</th>\n",
       "      <td>A2BYV7S1QP2YIG</td>\n",
       "      <td>B009EAHVTA</td>\n",
       "      <td>5.0</td>\n",
       "      <td>1399161600</td>\n",
       "    </tr>\n",
       "    <tr>\n",
       "      <th>4738241</th>\n",
       "      <td>AB094YABX21WQ</td>\n",
       "      <td>B0056XCEAA</td>\n",
       "      <td>1.0</td>\n",
       "      <td>1315267200</td>\n",
       "    </tr>\n",
       "    <tr>\n",
       "      <th>4175596</th>\n",
       "      <td>A3D0UM4ZD2CMAW</td>\n",
       "      <td>B004I763AW</td>\n",
       "      <td>5.0</td>\n",
       "      <td>1355616000</td>\n",
       "    </tr>\n",
       "    <tr>\n",
       "      <th>3753016</th>\n",
       "      <td>AATWFX0ZZSE6C</td>\n",
       "      <td>B0040NPHMO</td>\n",
       "      <td>3.0</td>\n",
       "      <td>1293753600</td>\n",
       "    </tr>\n",
       "    <tr>\n",
       "      <th>1734767</th>\n",
       "      <td>A1NNMOD9H36Q8E</td>\n",
       "      <td>B0015VW3BM</td>\n",
       "      <td>4.0</td>\n",
       "      <td>1220313600</td>\n",
       "    </tr>\n",
       "  </tbody>\n",
       "</table>\n",
       "</div>"
      ],
      "text/plain": [
       "                 userid   productid  rating   timestamp\n",
       "6595853  A2BYV7S1QP2YIG  B009EAHVTA     5.0  1399161600\n",
       "4738241   AB094YABX21WQ  B0056XCEAA     1.0  1315267200\n",
       "4175596  A3D0UM4ZD2CMAW  B004I763AW     5.0  1355616000\n",
       "3753016   AATWFX0ZZSE6C  B0040NPHMO     3.0  1293753600\n",
       "1734767  A1NNMOD9H36Q8E  B0015VW3BM     4.0  1220313600"
      ]
     },
     "execution_count": 169,
     "metadata": {},
     "output_type": "execute_result"
    }
   ],
   "source": [
    "train_data.head()"
   ]
  },
  {
   "cell_type": "markdown",
   "metadata": {},
   "source": [
    "### Popularity based model"
   ]
  },
  {
   "cell_type": "code",
   "execution_count": 170,
   "metadata": {
    "scrolled": true
   },
   "outputs": [
    {
     "data": {
      "text/html": [
       "<div>\n",
       "<style scoped>\n",
       "    .dataframe tbody tr th:only-of-type {\n",
       "        vertical-align: middle;\n",
       "    }\n",
       "\n",
       "    .dataframe tbody tr th {\n",
       "        vertical-align: top;\n",
       "    }\n",
       "\n",
       "    .dataframe thead th {\n",
       "        text-align: right;\n",
       "    }\n",
       "</style>\n",
       "<table border=\"1\" class=\"dataframe\">\n",
       "  <thead>\n",
       "    <tr style=\"text-align: right;\">\n",
       "      <th></th>\n",
       "      <th>No.of Values</th>\n",
       "    </tr>\n",
       "    <tr>\n",
       "      <th>rating</th>\n",
       "      <th></th>\n",
       "    </tr>\n",
       "  </thead>\n",
       "  <tbody>\n",
       "    <tr>\n",
       "      <th>1.0</th>\n",
       "      <td>3617</td>\n",
       "    </tr>\n",
       "    <tr>\n",
       "      <th>2.0</th>\n",
       "      <td>3759</td>\n",
       "    </tr>\n",
       "    <tr>\n",
       "      <th>3.0</th>\n",
       "      <td>8445</td>\n",
       "    </tr>\n",
       "    <tr>\n",
       "      <th>4.0</th>\n",
       "      <td>22574</td>\n",
       "    </tr>\n",
       "    <tr>\n",
       "      <th>5.0</th>\n",
       "      <td>49714</td>\n",
       "    </tr>\n",
       "  </tbody>\n",
       "</table>\n",
       "</div>"
      ],
      "text/plain": [
       "        No.of Values\n",
       "rating              \n",
       "1.0             3617\n",
       "2.0             3759\n",
       "3.0             8445\n",
       "4.0            22574\n",
       "5.0            49714"
      ]
     },
     "execution_count": 170,
     "metadata": {},
     "output_type": "execute_result"
    }
   ],
   "source": [
    "data_ratingabove50 = train_data.groupby('rating').agg({'rating':'count'})\n",
    "data_ratingabove50.rename(columns = {'rating': 'No.of Values'},inplace=True)\n",
    "data_ratingabove50"
   ]
  },
  {
   "cell_type": "code",
   "execution_count": 171,
   "metadata": {},
   "outputs": [],
   "source": [
    "data_ratingabove50 = train_data.groupby('productid').agg({'productid':'count'})\n",
    "data_ratingabove50.rename(columns = {'productid': 'score'},inplace=True)"
   ]
  },
  {
   "cell_type": "code",
   "execution_count": 172,
   "metadata": {},
   "outputs": [
    {
     "data": {
      "text/plain": [
       "productid\n",
       "0594451647    False\n",
       "0594481813    False\n",
       "0970407998    False\n",
       "0972683275    False\n",
       "1400501466    False\n",
       "              ...  \n",
       "B00LA6T0LS    False\n",
       "B00LBZ1Z7K    False\n",
       "B00LED02VY    False\n",
       "B00LGQ6HL8    False\n",
       "B00LI4ZZO8    False\n",
       "Name: score, Length: 38226, dtype: bool"
      ]
     },
     "execution_count": 172,
     "metadata": {},
     "output_type": "execute_result"
    }
   ],
   "source": [
    "data_ratingabove50['score']>50"
   ]
  },
  {
   "cell_type": "code",
   "execution_count": 173,
   "metadata": {},
   "outputs": [],
   "source": [
    "data_ratingabove50=data_ratingabove50.sort_values(['score','productid'] ,ascending=False)"
   ]
  },
  {
   "cell_type": "code",
   "execution_count": 174,
   "metadata": {},
   "outputs": [],
   "source": [
    "data_ratingabove50['Rank']= data_ratingabove50.rank(ascending=False,method='first')"
   ]
  },
  {
   "cell_type": "code",
   "execution_count": 175,
   "metadata": {},
   "outputs": [
    {
     "data": {
      "text/html": [
       "<div>\n",
       "<style scoped>\n",
       "    .dataframe tbody tr th:only-of-type {\n",
       "        vertical-align: middle;\n",
       "    }\n",
       "\n",
       "    .dataframe tbody tr th {\n",
       "        vertical-align: top;\n",
       "    }\n",
       "\n",
       "    .dataframe thead th {\n",
       "        text-align: right;\n",
       "    }\n",
       "</style>\n",
       "<table border=\"1\" class=\"dataframe\">\n",
       "  <thead>\n",
       "    <tr style=\"text-align: right;\">\n",
       "      <th></th>\n",
       "      <th>score</th>\n",
       "      <th>Rank</th>\n",
       "    </tr>\n",
       "    <tr>\n",
       "      <th>productid</th>\n",
       "      <th></th>\n",
       "      <th></th>\n",
       "    </tr>\n",
       "  </thead>\n",
       "  <tbody>\n",
       "    <tr>\n",
       "      <th>B0088CJT4U</th>\n",
       "      <td>133</td>\n",
       "      <td>1.0</td>\n",
       "    </tr>\n",
       "    <tr>\n",
       "      <th>B007WTAJTO</th>\n",
       "      <td>124</td>\n",
       "      <td>2.0</td>\n",
       "    </tr>\n",
       "    <tr>\n",
       "      <th>B003ES5ZUU</th>\n",
       "      <td>122</td>\n",
       "      <td>3.0</td>\n",
       "    </tr>\n",
       "    <tr>\n",
       "      <th>B000N99BBC</th>\n",
       "      <td>114</td>\n",
       "      <td>4.0</td>\n",
       "    </tr>\n",
       "    <tr>\n",
       "      <th>B00829TIEK</th>\n",
       "      <td>97</td>\n",
       "      <td>5.0</td>\n",
       "    </tr>\n",
       "  </tbody>\n",
       "</table>\n",
       "</div>"
      ],
      "text/plain": [
       "            score  Rank\n",
       "productid              \n",
       "B0088CJT4U    133   1.0\n",
       "B007WTAJTO    124   2.0\n",
       "B003ES5ZUU    122   3.0\n",
       "B000N99BBC    114   4.0\n",
       "B00829TIEK     97   5.0"
      ]
     },
     "execution_count": 175,
     "metadata": {},
     "output_type": "execute_result"
    }
   ],
   "source": [
    "data_ratingabove50=data_ratingabove50.head(5)\n",
    "data_ratingabove50"
   ]
  },
  {
   "cell_type": "code",
   "execution_count": 176,
   "metadata": {},
   "outputs": [
    {
     "data": {
      "text/html": [
       "<div>\n",
       "<style scoped>\n",
       "    .dataframe tbody tr th:only-of-type {\n",
       "        vertical-align: middle;\n",
       "    }\n",
       "\n",
       "    .dataframe tbody tr th {\n",
       "        vertical-align: top;\n",
       "    }\n",
       "\n",
       "    .dataframe thead th {\n",
       "        text-align: right;\n",
       "    }\n",
       "</style>\n",
       "<table border=\"1\" class=\"dataframe\">\n",
       "  <thead>\n",
       "    <tr style=\"text-align: right;\">\n",
       "      <th></th>\n",
       "      <th>score</th>\n",
       "      <th>Rank</th>\n",
       "    </tr>\n",
       "    <tr>\n",
       "      <th>productid</th>\n",
       "      <th></th>\n",
       "      <th></th>\n",
       "    </tr>\n",
       "  </thead>\n",
       "  <tbody>\n",
       "    <tr>\n",
       "      <th>B0088CJT4U</th>\n",
       "      <td>133</td>\n",
       "      <td>1.0</td>\n",
       "    </tr>\n",
       "    <tr>\n",
       "      <th>B007WTAJTO</th>\n",
       "      <td>124</td>\n",
       "      <td>2.0</td>\n",
       "    </tr>\n",
       "    <tr>\n",
       "      <th>B003ES5ZUU</th>\n",
       "      <td>122</td>\n",
       "      <td>3.0</td>\n",
       "    </tr>\n",
       "    <tr>\n",
       "      <th>B000N99BBC</th>\n",
       "      <td>114</td>\n",
       "      <td>4.0</td>\n",
       "    </tr>\n",
       "    <tr>\n",
       "      <th>B00829TIEK</th>\n",
       "      <td>97</td>\n",
       "      <td>5.0</td>\n",
       "    </tr>\n",
       "  </tbody>\n",
       "</table>\n",
       "</div>"
      ],
      "text/plain": [
       "            score  Rank\n",
       "productid              \n",
       "B0088CJT4U    133   1.0\n",
       "B007WTAJTO    124   2.0\n",
       "B003ES5ZUU    122   3.0\n",
       "B000N99BBC    114   4.0\n",
       "B00829TIEK     97   5.0"
      ]
     },
     "execution_count": 176,
     "metadata": {},
     "output_type": "execute_result"
    }
   ],
   "source": [
    "data_ratingabove50"
   ]
  },
  {
   "cell_type": "code",
   "execution_count": 177,
   "metadata": {},
   "outputs": [],
   "source": [
    "def recommend(userid):\n",
    "    user_recommendations = data_ratingabove50 \n",
    "    cols = user_recommendations.columns.tolist() \n",
    "    cols = cols[-1:] + cols[:-1] \n",
    "    user_recommendations = user_recommendations[cols] \n",
    "\n",
    "    return user_recommendations"
   ]
  },
  {
   "cell_type": "code",
   "execution_count": 178,
   "metadata": {},
   "outputs": [
    {
     "name": "stdout",
     "output_type": "stream",
     "text": [
      "            Rank  score\n",
      "productid              \n",
      "B0088CJT4U   1.0    133\n",
      "B007WTAJTO   2.0    124\n",
      "B003ES5ZUU   3.0    122\n",
      "B000N99BBC   4.0    114\n",
      "B00829TIEK   5.0     97\n",
      "            Rank  score\n",
      "productid              \n",
      "B0088CJT4U   1.0    133\n",
      "B007WTAJTO   2.0    124\n",
      "B003ES5ZUU   3.0    122\n",
      "B000N99BBC   4.0    114\n",
      "B00829TIEK   5.0     97\n",
      "            Rank  score\n",
      "productid              \n",
      "B0088CJT4U   1.0    133\n",
      "B007WTAJTO   2.0    124\n",
      "B003ES5ZUU   3.0    122\n",
      "B000N99BBC   4.0    114\n",
      "B00829TIEK   5.0     97\n",
      "            Rank  score\n",
      "productid              \n",
      "B0088CJT4U   1.0    133\n",
      "B007WTAJTO   2.0    124\n",
      "B003ES5ZUU   3.0    122\n",
      "B000N99BBC   4.0    114\n",
      "B00829TIEK   5.0     97\n"
     ]
    }
   ],
   "source": [
    "for i in test_data.userid[1:5]:\n",
    "    print (recommend(i))"
   ]
  },
  {
   "cell_type": "markdown",
   "metadata": {},
   "source": [
    "### Collaborative Filtering model"
   ]
  },
  {
   "cell_type": "code",
   "execution_count": 179,
   "metadata": {},
   "outputs": [],
   "source": [
    "productrating = train_data.pivot_table(index=['userid'],columns=['productid'],values='rating')"
   ]
  },
  {
   "cell_type": "code",
   "execution_count": 180,
   "metadata": {},
   "outputs": [
    {
     "data": {
      "text/html": [
       "<div>\n",
       "<style scoped>\n",
       "    .dataframe tbody tr th:only-of-type {\n",
       "        vertical-align: middle;\n",
       "    }\n",
       "\n",
       "    .dataframe tbody tr th {\n",
       "        vertical-align: top;\n",
       "    }\n",
       "\n",
       "    .dataframe thead th {\n",
       "        text-align: right;\n",
       "    }\n",
       "</style>\n",
       "<table border=\"1\" class=\"dataframe\">\n",
       "  <thead>\n",
       "    <tr style=\"text-align: right;\">\n",
       "      <th>productid</th>\n",
       "      <th>0594451647</th>\n",
       "      <th>0594481813</th>\n",
       "      <th>0970407998</th>\n",
       "      <th>0972683275</th>\n",
       "      <th>1400501466</th>\n",
       "      <th>1400501776</th>\n",
       "      <th>1400532620</th>\n",
       "      <th>1400532655</th>\n",
       "      <th>1400599997</th>\n",
       "      <th>1400698987</th>\n",
       "      <th>...</th>\n",
       "      <th>B00L26YDA4</th>\n",
       "      <th>B00L3YHF6O</th>\n",
       "      <th>B00L403O94</th>\n",
       "      <th>B00L5YZCCG</th>\n",
       "      <th>B00L8I6SFY</th>\n",
       "      <th>B00LA6T0LS</th>\n",
       "      <th>B00LBZ1Z7K</th>\n",
       "      <th>B00LED02VY</th>\n",
       "      <th>B00LGQ6HL8</th>\n",
       "      <th>B00LI4ZZO8</th>\n",
       "    </tr>\n",
       "    <tr>\n",
       "      <th>userid</th>\n",
       "      <th></th>\n",
       "      <th></th>\n",
       "      <th></th>\n",
       "      <th></th>\n",
       "      <th></th>\n",
       "      <th></th>\n",
       "      <th></th>\n",
       "      <th></th>\n",
       "      <th></th>\n",
       "      <th></th>\n",
       "      <th></th>\n",
       "      <th></th>\n",
       "      <th></th>\n",
       "      <th></th>\n",
       "      <th></th>\n",
       "      <th></th>\n",
       "      <th></th>\n",
       "      <th></th>\n",
       "      <th></th>\n",
       "      <th></th>\n",
       "      <th></th>\n",
       "    </tr>\n",
       "  </thead>\n",
       "  <tbody>\n",
       "    <tr>\n",
       "      <th>AZBXKUH4AIW3X</th>\n",
       "      <td>NaN</td>\n",
       "      <td>NaN</td>\n",
       "      <td>NaN</td>\n",
       "      <td>NaN</td>\n",
       "      <td>NaN</td>\n",
       "      <td>NaN</td>\n",
       "      <td>NaN</td>\n",
       "      <td>NaN</td>\n",
       "      <td>NaN</td>\n",
       "      <td>NaN</td>\n",
       "      <td>...</td>\n",
       "      <td>NaN</td>\n",
       "      <td>NaN</td>\n",
       "      <td>NaN</td>\n",
       "      <td>NaN</td>\n",
       "      <td>NaN</td>\n",
       "      <td>NaN</td>\n",
       "      <td>NaN</td>\n",
       "      <td>NaN</td>\n",
       "      <td>NaN</td>\n",
       "      <td>NaN</td>\n",
       "    </tr>\n",
       "    <tr>\n",
       "      <th>AZCE11PSTCH1L</th>\n",
       "      <td>NaN</td>\n",
       "      <td>NaN</td>\n",
       "      <td>NaN</td>\n",
       "      <td>NaN</td>\n",
       "      <td>NaN</td>\n",
       "      <td>NaN</td>\n",
       "      <td>NaN</td>\n",
       "      <td>NaN</td>\n",
       "      <td>NaN</td>\n",
       "      <td>NaN</td>\n",
       "      <td>...</td>\n",
       "      <td>NaN</td>\n",
       "      <td>NaN</td>\n",
       "      <td>NaN</td>\n",
       "      <td>NaN</td>\n",
       "      <td>NaN</td>\n",
       "      <td>NaN</td>\n",
       "      <td>NaN</td>\n",
       "      <td>NaN</td>\n",
       "      <td>NaN</td>\n",
       "      <td>NaN</td>\n",
       "    </tr>\n",
       "    <tr>\n",
       "      <th>AZMY6E8B52L2T</th>\n",
       "      <td>NaN</td>\n",
       "      <td>NaN</td>\n",
       "      <td>NaN</td>\n",
       "      <td>NaN</td>\n",
       "      <td>NaN</td>\n",
       "      <td>NaN</td>\n",
       "      <td>NaN</td>\n",
       "      <td>NaN</td>\n",
       "      <td>NaN</td>\n",
       "      <td>NaN</td>\n",
       "      <td>...</td>\n",
       "      <td>5.0</td>\n",
       "      <td>NaN</td>\n",
       "      <td>NaN</td>\n",
       "      <td>NaN</td>\n",
       "      <td>NaN</td>\n",
       "      <td>NaN</td>\n",
       "      <td>NaN</td>\n",
       "      <td>NaN</td>\n",
       "      <td>NaN</td>\n",
       "      <td>NaN</td>\n",
       "    </tr>\n",
       "    <tr>\n",
       "      <th>AZNUHQSHZHSUE</th>\n",
       "      <td>NaN</td>\n",
       "      <td>NaN</td>\n",
       "      <td>NaN</td>\n",
       "      <td>NaN</td>\n",
       "      <td>NaN</td>\n",
       "      <td>NaN</td>\n",
       "      <td>NaN</td>\n",
       "      <td>NaN</td>\n",
       "      <td>NaN</td>\n",
       "      <td>NaN</td>\n",
       "      <td>...</td>\n",
       "      <td>NaN</td>\n",
       "      <td>NaN</td>\n",
       "      <td>NaN</td>\n",
       "      <td>NaN</td>\n",
       "      <td>NaN</td>\n",
       "      <td>NaN</td>\n",
       "      <td>NaN</td>\n",
       "      <td>NaN</td>\n",
       "      <td>NaN</td>\n",
       "      <td>NaN</td>\n",
       "    </tr>\n",
       "    <tr>\n",
       "      <th>AZOK5STV85FBJ</th>\n",
       "      <td>NaN</td>\n",
       "      <td>NaN</td>\n",
       "      <td>NaN</td>\n",
       "      <td>NaN</td>\n",
       "      <td>NaN</td>\n",
       "      <td>NaN</td>\n",
       "      <td>NaN</td>\n",
       "      <td>NaN</td>\n",
       "      <td>NaN</td>\n",
       "      <td>NaN</td>\n",
       "      <td>...</td>\n",
       "      <td>NaN</td>\n",
       "      <td>NaN</td>\n",
       "      <td>NaN</td>\n",
       "      <td>NaN</td>\n",
       "      <td>NaN</td>\n",
       "      <td>NaN</td>\n",
       "      <td>NaN</td>\n",
       "      <td>NaN</td>\n",
       "      <td>NaN</td>\n",
       "      <td>NaN</td>\n",
       "    </tr>\n",
       "  </tbody>\n",
       "</table>\n",
       "<p>5 rows × 38226 columns</p>\n",
       "</div>"
      ],
      "text/plain": [
       "productid      0594451647  0594481813  0970407998  0972683275  1400501466  \\\n",
       "userid                                                                      \n",
       "AZBXKUH4AIW3X         NaN         NaN         NaN         NaN         NaN   \n",
       "AZCE11PSTCH1L         NaN         NaN         NaN         NaN         NaN   \n",
       "AZMY6E8B52L2T         NaN         NaN         NaN         NaN         NaN   \n",
       "AZNUHQSHZHSUE         NaN         NaN         NaN         NaN         NaN   \n",
       "AZOK5STV85FBJ         NaN         NaN         NaN         NaN         NaN   \n",
       "\n",
       "productid      1400501776  1400532620  1400532655  1400599997  1400698987  \\\n",
       "userid                                                                      \n",
       "AZBXKUH4AIW3X         NaN         NaN         NaN         NaN         NaN   \n",
       "AZCE11PSTCH1L         NaN         NaN         NaN         NaN         NaN   \n",
       "AZMY6E8B52L2T         NaN         NaN         NaN         NaN         NaN   \n",
       "AZNUHQSHZHSUE         NaN         NaN         NaN         NaN         NaN   \n",
       "AZOK5STV85FBJ         NaN         NaN         NaN         NaN         NaN   \n",
       "\n",
       "productid      ...  B00L26YDA4  B00L3YHF6O  B00L403O94  B00L5YZCCG  \\\n",
       "userid         ...                                                   \n",
       "AZBXKUH4AIW3X  ...         NaN         NaN         NaN         NaN   \n",
       "AZCE11PSTCH1L  ...         NaN         NaN         NaN         NaN   \n",
       "AZMY6E8B52L2T  ...         5.0         NaN         NaN         NaN   \n",
       "AZNUHQSHZHSUE  ...         NaN         NaN         NaN         NaN   \n",
       "AZOK5STV85FBJ  ...         NaN         NaN         NaN         NaN   \n",
       "\n",
       "productid      B00L8I6SFY  B00LA6T0LS  B00LBZ1Z7K  B00LED02VY  B00LGQ6HL8  \\\n",
       "userid                                                                      \n",
       "AZBXKUH4AIW3X         NaN         NaN         NaN         NaN         NaN   \n",
       "AZCE11PSTCH1L         NaN         NaN         NaN         NaN         NaN   \n",
       "AZMY6E8B52L2T         NaN         NaN         NaN         NaN         NaN   \n",
       "AZNUHQSHZHSUE         NaN         NaN         NaN         NaN         NaN   \n",
       "AZOK5STV85FBJ         NaN         NaN         NaN         NaN         NaN   \n",
       "\n",
       "productid      B00LI4ZZO8  \n",
       "userid                     \n",
       "AZBXKUH4AIW3X         NaN  \n",
       "AZCE11PSTCH1L         NaN  \n",
       "AZMY6E8B52L2T         NaN  \n",
       "AZNUHQSHZHSUE         NaN  \n",
       "AZOK5STV85FBJ         NaN  \n",
       "\n",
       "[5 rows x 38226 columns]"
      ]
     },
     "execution_count": 180,
     "metadata": {},
     "output_type": "execute_result"
    }
   ],
   "source": [
    "productrating.tail()"
   ]
  },
  {
   "cell_type": "code",
   "execution_count": 182,
   "metadata": {},
   "outputs": [],
   "source": [
    "le = LabelEncoder()\n",
    "\n",
    "train_data['userid'] = le.fit_transform(train_data.userid)"
   ]
  },
  {
   "cell_type": "code",
   "execution_count": 183,
   "metadata": {},
   "outputs": [
    {
     "data": {
      "text/plain": [
       "userid\n",
       "A100UD67AHFODS    NaN\n",
       "A100WO06OQR8BQ    NaN\n",
       "A105S56ODHGJEK    5.0\n",
       "A105TOJ6LTVMBG    NaN\n",
       "A10AFVU66A79Y1    NaN\n",
       "A10H24TDLK2VDP    5.0\n",
       "A10NMELR4KX0J6    NaN\n",
       "A10O7THJ2O20AG    NaN\n",
       "A10PEXB6XAQ5XF    NaN\n",
       "A10X9ME6R66JDX    NaN\n",
       "Name: B000N99BBC, dtype: float64"
      ]
     },
     "execution_count": 183,
     "metadata": {},
     "output_type": "execute_result"
    }
   ],
   "source": [
    "oldproduct = productrating['B000N99BBC']\n",
    "oldproduct.head(10)"
   ]
  },
  {
   "cell_type": "code",
   "execution_count": 184,
   "metadata": {},
   "outputs": [
    {
     "data": {
      "text/plain": [
       "<matplotlib.axes._subplots.AxesSubplot at 0x1ae1f7e1d0>"
      ]
     },
     "execution_count": 184,
     "metadata": {},
     "output_type": "execute_result"
    },
    {
     "data": {
      "image/png": "[encoded data removed]",
      "text/plain": [
       "<Figure size 432x288 with 1 Axes>"
      ]
     },
     "metadata": {
      "needs_background": "light"
     },
     "output_type": "display_data"
    }
   ],
   "source": [
    "sns.countplot(train_data.userid)"
   ]
  },
  {
   "cell_type": "code",
   "execution_count": 185,
   "metadata": {},
   "outputs": [
    {
     "name": "stdout",
     "output_type": "stream",
     "text": [
      "(1540, 38226)\n"
     ]
    },
    {
     "data": {
      "text/html": [
       "<div>\n",
       "<style scoped>\n",
       "    .dataframe tbody tr th:only-of-type {\n",
       "        vertical-align: middle;\n",
       "    }\n",
       "\n",
       "    .dataframe tbody tr th {\n",
       "        vertical-align: top;\n",
       "    }\n",
       "\n",
       "    .dataframe thead th {\n",
       "        text-align: right;\n",
       "    }\n",
       "</style>\n",
       "<table border=\"1\" class=\"dataframe\">\n",
       "  <thead>\n",
       "    <tr style=\"text-align: right;\">\n",
       "      <th>productid</th>\n",
       "      <th>0594451647</th>\n",
       "      <th>0594481813</th>\n",
       "      <th>0970407998</th>\n",
       "      <th>0972683275</th>\n",
       "      <th>1400501466</th>\n",
       "      <th>1400501776</th>\n",
       "      <th>1400532620</th>\n",
       "      <th>1400532655</th>\n",
       "      <th>1400599997</th>\n",
       "      <th>1400698987</th>\n",
       "      <th>...</th>\n",
       "      <th>B00L26YDA4</th>\n",
       "      <th>B00L3YHF6O</th>\n",
       "      <th>B00L403O94</th>\n",
       "      <th>B00L5YZCCG</th>\n",
       "      <th>B00L8I6SFY</th>\n",
       "      <th>B00LA6T0LS</th>\n",
       "      <th>B00LBZ1Z7K</th>\n",
       "      <th>B00LED02VY</th>\n",
       "      <th>B00LGQ6HL8</th>\n",
       "      <th>B00LI4ZZO8</th>\n",
       "    </tr>\n",
       "    <tr>\n",
       "      <th>userid</th>\n",
       "      <th></th>\n",
       "      <th></th>\n",
       "      <th></th>\n",
       "      <th></th>\n",
       "      <th></th>\n",
       "      <th></th>\n",
       "      <th></th>\n",
       "      <th></th>\n",
       "      <th></th>\n",
       "      <th></th>\n",
       "      <th></th>\n",
       "      <th></th>\n",
       "      <th></th>\n",
       "      <th></th>\n",
       "      <th></th>\n",
       "      <th></th>\n",
       "      <th></th>\n",
       "      <th></th>\n",
       "      <th></th>\n",
       "      <th></th>\n",
       "      <th></th>\n",
       "    </tr>\n",
       "  </thead>\n",
       "  <tbody>\n",
       "    <tr>\n",
       "      <th>0</th>\n",
       "      <td>0.0</td>\n",
       "      <td>0.0</td>\n",
       "      <td>0.0</td>\n",
       "      <td>0.0</td>\n",
       "      <td>0.0</td>\n",
       "      <td>0.0</td>\n",
       "      <td>0.0</td>\n",
       "      <td>0.0</td>\n",
       "      <td>0.0</td>\n",
       "      <td>0.0</td>\n",
       "      <td>...</td>\n",
       "      <td>0.0</td>\n",
       "      <td>0.0</td>\n",
       "      <td>0.0</td>\n",
       "      <td>0.0</td>\n",
       "      <td>0.0</td>\n",
       "      <td>0.0</td>\n",
       "      <td>0.0</td>\n",
       "      <td>0.0</td>\n",
       "      <td>0.0</td>\n",
       "      <td>0.0</td>\n",
       "    </tr>\n",
       "    <tr>\n",
       "      <th>1</th>\n",
       "      <td>0.0</td>\n",
       "      <td>0.0</td>\n",
       "      <td>0.0</td>\n",
       "      <td>0.0</td>\n",
       "      <td>0.0</td>\n",
       "      <td>0.0</td>\n",
       "      <td>0.0</td>\n",
       "      <td>0.0</td>\n",
       "      <td>0.0</td>\n",
       "      <td>0.0</td>\n",
       "      <td>...</td>\n",
       "      <td>0.0</td>\n",
       "      <td>0.0</td>\n",
       "      <td>0.0</td>\n",
       "      <td>0.0</td>\n",
       "      <td>0.0</td>\n",
       "      <td>0.0</td>\n",
       "      <td>0.0</td>\n",
       "      <td>0.0</td>\n",
       "      <td>0.0</td>\n",
       "      <td>0.0</td>\n",
       "    </tr>\n",
       "    <tr>\n",
       "      <th>2</th>\n",
       "      <td>0.0</td>\n",
       "      <td>0.0</td>\n",
       "      <td>0.0</td>\n",
       "      <td>0.0</td>\n",
       "      <td>0.0</td>\n",
       "      <td>0.0</td>\n",
       "      <td>0.0</td>\n",
       "      <td>0.0</td>\n",
       "      <td>0.0</td>\n",
       "      <td>0.0</td>\n",
       "      <td>...</td>\n",
       "      <td>0.0</td>\n",
       "      <td>0.0</td>\n",
       "      <td>0.0</td>\n",
       "      <td>0.0</td>\n",
       "      <td>0.0</td>\n",
       "      <td>0.0</td>\n",
       "      <td>0.0</td>\n",
       "      <td>0.0</td>\n",
       "      <td>0.0</td>\n",
       "      <td>0.0</td>\n",
       "    </tr>\n",
       "    <tr>\n",
       "      <th>3</th>\n",
       "      <td>0.0</td>\n",
       "      <td>0.0</td>\n",
       "      <td>0.0</td>\n",
       "      <td>0.0</td>\n",
       "      <td>0.0</td>\n",
       "      <td>0.0</td>\n",
       "      <td>0.0</td>\n",
       "      <td>0.0</td>\n",
       "      <td>0.0</td>\n",
       "      <td>0.0</td>\n",
       "      <td>...</td>\n",
       "      <td>0.0</td>\n",
       "      <td>0.0</td>\n",
       "      <td>0.0</td>\n",
       "      <td>0.0</td>\n",
       "      <td>0.0</td>\n",
       "      <td>0.0</td>\n",
       "      <td>0.0</td>\n",
       "      <td>0.0</td>\n",
       "      <td>0.0</td>\n",
       "      <td>0.0</td>\n",
       "    </tr>\n",
       "    <tr>\n",
       "      <th>4</th>\n",
       "      <td>0.0</td>\n",
       "      <td>0.0</td>\n",
       "      <td>0.0</td>\n",
       "      <td>0.0</td>\n",
       "      <td>0.0</td>\n",
       "      <td>0.0</td>\n",
       "      <td>0.0</td>\n",
       "      <td>0.0</td>\n",
       "      <td>0.0</td>\n",
       "      <td>0.0</td>\n",
       "      <td>...</td>\n",
       "      <td>0.0</td>\n",
       "      <td>0.0</td>\n",
       "      <td>0.0</td>\n",
       "      <td>0.0</td>\n",
       "      <td>0.0</td>\n",
       "      <td>0.0</td>\n",
       "      <td>0.0</td>\n",
       "      <td>0.0</td>\n",
       "      <td>0.0</td>\n",
       "      <td>0.0</td>\n",
       "    </tr>\n",
       "  </tbody>\n",
       "</table>\n",
       "<p>5 rows × 38226 columns</p>\n",
       "</div>"
      ],
      "text/plain": [
       "productid  0594451647  0594481813  0970407998  0972683275  1400501466  \\\n",
       "userid                                                                  \n",
       "0                 0.0         0.0         0.0         0.0         0.0   \n",
       "1                 0.0         0.0         0.0         0.0         0.0   \n",
       "2                 0.0         0.0         0.0         0.0         0.0   \n",
       "3                 0.0         0.0         0.0         0.0         0.0   \n",
       "4                 0.0         0.0         0.0         0.0         0.0   \n",
       "\n",
       "productid  1400501776  1400532620  1400532655  1400599997  1400698987  ...  \\\n",
       "userid                                                                 ...   \n",
       "0                 0.0         0.0         0.0         0.0         0.0  ...   \n",
       "1                 0.0         0.0         0.0         0.0         0.0  ...   \n",
       "2                 0.0         0.0         0.0         0.0         0.0  ...   \n",
       "3                 0.0         0.0         0.0         0.0         0.0  ...   \n",
       "4                 0.0         0.0         0.0         0.0         0.0  ...   \n",
       "\n",
       "productid  B00L26YDA4  B00L3YHF6O  B00L403O94  B00L5YZCCG  B00L8I6SFY  \\\n",
       "userid                                                                  \n",
       "0                 0.0         0.0         0.0         0.0         0.0   \n",
       "1                 0.0         0.0         0.0         0.0         0.0   \n",
       "2                 0.0         0.0         0.0         0.0         0.0   \n",
       "3                 0.0         0.0         0.0         0.0         0.0   \n",
       "4                 0.0         0.0         0.0         0.0         0.0   \n",
       "\n",
       "productid  B00LA6T0LS  B00LBZ1Z7K  B00LED02VY  B00LGQ6HL8  B00LI4ZZO8  \n",
       "userid                                                                 \n",
       "0                 0.0         0.0         0.0         0.0         0.0  \n",
       "1                 0.0         0.0         0.0         0.0         0.0  \n",
       "2                 0.0         0.0         0.0         0.0         0.0  \n",
       "3                 0.0         0.0         0.0         0.0         0.0  \n",
       "4                 0.0         0.0         0.0         0.0         0.0  \n",
       "\n",
       "[5 rows x 38226 columns]"
      ]
     },
     "execution_count": 185,
     "metadata": {},
     "output_type": "execute_result"
    }
   ],
   "source": [
    "ratings_matrix = train_data.pivot(index='userid', columns='productid', values='rating').fillna(0)\n",
    "userid = ratings_matrix.index\n",
    "productid = ratings_matrix.columns\n",
    "print(ratings_matrix.shape)\n",
    "ratings_matrix.head()"
   ]
  },
  {
   "cell_type": "code",
   "execution_count": 204,
   "metadata": {},
   "outputs": [],
   "source": [
    "from scipy.sparse.linalg import svds\n",
    "U, sigma, Vt = svds(ratings_matrix, k = 5)"
   ]
  },
  {
   "cell_type": "code",
   "execution_count": 205,
   "metadata": {},
   "outputs": [],
   "source": [
    "sigma = np.diag(sigma)\n",
    "all_user_predicted_ratings = np.dot(np.dot(U, sigma), Vt) \n",
    "preds_df = pd.DataFrame(all_user_predicted_ratings, columns = ratings_matrix.columns)"
   ]
  },
  {
   "cell_type": "code",
   "execution_count": 206,
   "metadata": {},
   "outputs": [
    {
     "data": {
      "text/html": [
       "<div>\n",
       "<style scoped>\n",
       "    .dataframe tbody tr th:only-of-type {\n",
       "        vertical-align: middle;\n",
       "    }\n",
       "\n",
       "    .dataframe tbody tr th {\n",
       "        vertical-align: top;\n",
       "    }\n",
       "\n",
       "    .dataframe thead th {\n",
       "        text-align: right;\n",
       "    }\n",
       "</style>\n",
       "<table border=\"1\" class=\"dataframe\">\n",
       "  <thead>\n",
       "    <tr style=\"text-align: right;\">\n",
       "      <th>productid</th>\n",
       "      <th>0594451647</th>\n",
       "      <th>0594481813</th>\n",
       "      <th>0970407998</th>\n",
       "      <th>0972683275</th>\n",
       "      <th>1400501466</th>\n",
       "      <th>1400501776</th>\n",
       "      <th>1400532620</th>\n",
       "      <th>1400532655</th>\n",
       "      <th>1400599997</th>\n",
       "      <th>1400698987</th>\n",
       "      <th>...</th>\n",
       "      <th>B00L26YDA4</th>\n",
       "      <th>B00L3YHF6O</th>\n",
       "      <th>B00L403O94</th>\n",
       "      <th>B00L5YZCCG</th>\n",
       "      <th>B00L8I6SFY</th>\n",
       "      <th>B00LA6T0LS</th>\n",
       "      <th>B00LBZ1Z7K</th>\n",
       "      <th>B00LED02VY</th>\n",
       "      <th>B00LGQ6HL8</th>\n",
       "      <th>B00LI4ZZO8</th>\n",
       "    </tr>\n",
       "  </thead>\n",
       "  <tbody>\n",
       "    <tr>\n",
       "      <th>0</th>\n",
       "      <td>0.003027</td>\n",
       "      <td>0.002937</td>\n",
       "      <td>0.000641</td>\n",
       "      <td>0.012268</td>\n",
       "      <td>0.002137</td>\n",
       "      <td>0.001836</td>\n",
       "      <td>0.000503</td>\n",
       "      <td>0.013480</td>\n",
       "      <td>0.000606</td>\n",
       "      <td>0.001854</td>\n",
       "      <td>...</td>\n",
       "      <td>0.158514</td>\n",
       "      <td>0.077464</td>\n",
       "      <td>-0.001693</td>\n",
       "      <td>0.000652</td>\n",
       "      <td>0.038832</td>\n",
       "      <td>0.058448</td>\n",
       "      <td>0.001808</td>\n",
       "      <td>0.005893</td>\n",
       "      <td>0.077342</td>\n",
       "      <td>0.009407</td>\n",
       "    </tr>\n",
       "    <tr>\n",
       "      <th>1</th>\n",
       "      <td>0.002224</td>\n",
       "      <td>0.002459</td>\n",
       "      <td>0.000576</td>\n",
       "      <td>0.013255</td>\n",
       "      <td>0.006043</td>\n",
       "      <td>0.009243</td>\n",
       "      <td>0.001606</td>\n",
       "      <td>0.011156</td>\n",
       "      <td>0.007244</td>\n",
       "      <td>0.003750</td>\n",
       "      <td>...</td>\n",
       "      <td>0.031990</td>\n",
       "      <td>0.058171</td>\n",
       "      <td>0.005553</td>\n",
       "      <td>0.000563</td>\n",
       "      <td>0.018950</td>\n",
       "      <td>0.006227</td>\n",
       "      <td>0.005344</td>\n",
       "      <td>0.000229</td>\n",
       "      <td>0.004020</td>\n",
       "      <td>0.003645</td>\n",
       "    </tr>\n",
       "    <tr>\n",
       "      <th>2</th>\n",
       "      <td>-0.000976</td>\n",
       "      <td>-0.000860</td>\n",
       "      <td>-0.000155</td>\n",
       "      <td>0.012917</td>\n",
       "      <td>0.007390</td>\n",
       "      <td>0.008681</td>\n",
       "      <td>0.003809</td>\n",
       "      <td>-0.006691</td>\n",
       "      <td>0.009422</td>\n",
       "      <td>0.001734</td>\n",
       "      <td>...</td>\n",
       "      <td>-0.002275</td>\n",
       "      <td>0.060152</td>\n",
       "      <td>0.020428</td>\n",
       "      <td>-0.000224</td>\n",
       "      <td>0.011018</td>\n",
       "      <td>-0.019343</td>\n",
       "      <td>0.020473</td>\n",
       "      <td>-0.001763</td>\n",
       "      <td>-0.010465</td>\n",
       "      <td>0.007266</td>\n",
       "    </tr>\n",
       "    <tr>\n",
       "      <th>3</th>\n",
       "      <td>0.001821</td>\n",
       "      <td>0.001789</td>\n",
       "      <td>0.000417</td>\n",
       "      <td>0.004627</td>\n",
       "      <td>0.001620</td>\n",
       "      <td>0.003256</td>\n",
       "      <td>-0.000146</td>\n",
       "      <td>0.009546</td>\n",
       "      <td>0.001648</td>\n",
       "      <td>0.001799</td>\n",
       "      <td>...</td>\n",
       "      <td>0.009501</td>\n",
       "      <td>0.014302</td>\n",
       "      <td>-0.003098</td>\n",
       "      <td>0.000421</td>\n",
       "      <td>0.005344</td>\n",
       "      <td>0.005092</td>\n",
       "      <td>-0.002961</td>\n",
       "      <td>0.000195</td>\n",
       "      <td>0.001783</td>\n",
       "      <td>-0.000567</td>\n",
       "    </tr>\n",
       "    <tr>\n",
       "      <th>4</th>\n",
       "      <td>0.000780</td>\n",
       "      <td>0.000754</td>\n",
       "      <td>0.000189</td>\n",
       "      <td>0.006852</td>\n",
       "      <td>0.003139</td>\n",
       "      <td>0.004183</td>\n",
       "      <td>0.001155</td>\n",
       "      <td>0.003208</td>\n",
       "      <td>0.003724</td>\n",
       "      <td>0.001516</td>\n",
       "      <td>...</td>\n",
       "      <td>0.006094</td>\n",
       "      <td>0.027294</td>\n",
       "      <td>0.004811</td>\n",
       "      <td>0.000169</td>\n",
       "      <td>0.006653</td>\n",
       "      <td>-0.002668</td>\n",
       "      <td>0.004984</td>\n",
       "      <td>-0.000350</td>\n",
       "      <td>-0.000818</td>\n",
       "      <td>0.001899</td>\n",
       "    </tr>\n",
       "  </tbody>\n",
       "</table>\n",
       "<p>5 rows × 38226 columns</p>\n",
       "</div>"
      ],
      "text/plain": [
       "productid  0594451647  0594481813  0970407998  0972683275  1400501466  \\\n",
       "0            0.003027    0.002937    0.000641    0.012268    0.002137   \n",
       "1            0.002224    0.002459    0.000576    0.013255    0.006043   \n",
       "2           -0.000976   -0.000860   -0.000155    0.012917    0.007390   \n",
       "3            0.001821    0.001789    0.000417    0.004627    0.001620   \n",
       "4            0.000780    0.000754    0.000189    0.006852    0.003139   \n",
       "\n",
       "productid  1400501776  1400532620  1400532655  1400599997  1400698987  ...  \\\n",
       "0            0.001836    0.000503    0.013480    0.000606    0.001854  ...   \n",
       "1            0.009243    0.001606    0.011156    0.007244    0.003750  ...   \n",
       "2            0.008681    0.003809   -0.006691    0.009422    0.001734  ...   \n",
       "3            0.003256   -0.000146    0.009546    0.001648    0.001799  ...   \n",
       "4            0.004183    0.001155    0.003208    0.003724    0.001516  ...   \n",
       "\n",
       "productid  B00L26YDA4  B00L3YHF6O  B00L403O94  B00L5YZCCG  B00L8I6SFY  \\\n",
       "0            0.158514    0.077464   -0.001693    0.000652    0.038832   \n",
       "1            0.031990    0.058171    0.005553    0.000563    0.018950   \n",
       "2           -0.002275    0.060152    0.020428   -0.000224    0.011018   \n",
       "3            0.009501    0.014302   -0.003098    0.000421    0.005344   \n",
       "4            0.006094    0.027294    0.004811    0.000169    0.006653   \n",
       "\n",
       "productid  B00LA6T0LS  B00LBZ1Z7K  B00LED02VY  B00LGQ6HL8  B00LI4ZZO8  \n",
       "0            0.058448    0.001808    0.005893    0.077342    0.009407  \n",
       "1            0.006227    0.005344    0.000229    0.004020    0.003645  \n",
       "2           -0.019343    0.020473   -0.001763   -0.010465    0.007266  \n",
       "3            0.005092   -0.002961    0.000195    0.001783   -0.000567  \n",
       "4           -0.002668    0.004984   -0.000350   -0.000818    0.001899  \n",
       "\n",
       "[5 rows x 38226 columns]"
      ]
     },
     "execution_count": 206,
     "metadata": {},
     "output_type": "execute_result"
    }
   ],
   "source": [
    "preds_df.head()"
   ]
  },
  {
   "cell_type": "code",
   "execution_count": 207,
   "metadata": {},
   "outputs": [],
   "source": [
    "user_id = 2"
   ]
  },
  {
   "cell_type": "code",
   "execution_count": 208,
   "metadata": {},
   "outputs": [
    {
     "data": {
      "text/plain": [
       "1"
      ]
     },
     "execution_count": 208,
     "metadata": {},
     "output_type": "execute_result"
    }
   ],
   "source": [
    "userID = ratings_matrix.iloc[user_id-1, :].name\n",
    "userID"
   ]
  },
  {
   "cell_type": "code",
   "execution_count": 209,
   "metadata": {},
   "outputs": [
    {
     "data": {
      "text/plain": [
       "(1540, 38226)"
      ]
     },
     "execution_count": 209,
     "metadata": {},
     "output_type": "execute_result"
    }
   ],
   "source": [
    "preds_df.shape"
   ]
  },
  {
   "cell_type": "code",
   "execution_count": 210,
   "metadata": {},
   "outputs": [],
   "source": [
    "sorted_user_predictions = preds_df.iloc[user_id].sort_values(ascending=False)"
   ]
  },
  {
   "cell_type": "code",
   "execution_count": 211,
   "metadata": {},
   "outputs": [
    {
     "data": {
      "text/plain": [
       "38226"
      ]
     },
     "execution_count": 211,
     "metadata": {},
     "output_type": "execute_result"
    }
   ],
   "source": [
    "len(sorted_user_predictions)"
   ]
  },
  {
   "cell_type": "code",
   "execution_count": 212,
   "metadata": {},
   "outputs": [],
   "source": [
    "user_data = train_data[train_data.userid == (userID)]"
   ]
  },
  {
   "cell_type": "code",
   "execution_count": 213,
   "metadata": {},
   "outputs": [
    {
     "data": {
      "text/html": [
       "<div>\n",
       "<style scoped>\n",
       "    .dataframe tbody tr th:only-of-type {\n",
       "        vertical-align: middle;\n",
       "    }\n",
       "\n",
       "    .dataframe tbody tr th {\n",
       "        vertical-align: top;\n",
       "    }\n",
       "\n",
       "    .dataframe thead th {\n",
       "        text-align: right;\n",
       "    }\n",
       "</style>\n",
       "<table border=\"1\" class=\"dataframe\">\n",
       "  <thead>\n",
       "    <tr style=\"text-align: right;\">\n",
       "      <th></th>\n",
       "      <th>userid</th>\n",
       "      <th>productid</th>\n",
       "      <th>rating</th>\n",
       "      <th>timestamp</th>\n",
       "    </tr>\n",
       "  </thead>\n",
       "  <tbody>\n",
       "    <tr>\n",
       "      <th>2456615</th>\n",
       "      <td>1</td>\n",
       "      <td>B00272MT3U</td>\n",
       "      <td>5.0</td>\n",
       "      <td>1272240000</td>\n",
       "    </tr>\n",
       "    <tr>\n",
       "      <th>6984544</th>\n",
       "      <td>1</td>\n",
       "      <td>B00AYB3OMG</td>\n",
       "      <td>5.0</td>\n",
       "      <td>1370217600</td>\n",
       "    </tr>\n",
       "    <tr>\n",
       "      <th>3128260</th>\n",
       "      <td>1</td>\n",
       "      <td>B0037UD14C</td>\n",
       "      <td>5.0</td>\n",
       "      <td>1271635200</td>\n",
       "    </tr>\n",
       "    <tr>\n",
       "      <th>453603</th>\n",
       "      <td>1</td>\n",
       "      <td>B0002CPBWI</td>\n",
       "      <td>5.0</td>\n",
       "      <td>1271635200</td>\n",
       "    </tr>\n",
       "    <tr>\n",
       "      <th>3817420</th>\n",
       "      <td>1</td>\n",
       "      <td>B0042FZ50O</td>\n",
       "      <td>2.0</td>\n",
       "      <td>1312416000</td>\n",
       "    </tr>\n",
       "    <tr>\n",
       "      <th>...</th>\n",
       "      <td>...</td>\n",
       "      <td>...</td>\n",
       "      <td>...</td>\n",
       "      <td>...</td>\n",
       "    </tr>\n",
       "    <tr>\n",
       "      <th>7820269</th>\n",
       "      <td>1</td>\n",
       "      <td>B00K91DB7Y</td>\n",
       "      <td>1.0</td>\n",
       "      <td>1403827200</td>\n",
       "    </tr>\n",
       "    <tr>\n",
       "      <th>1113601</th>\n",
       "      <td>1</td>\n",
       "      <td>B000KI81XK</td>\n",
       "      <td>5.0</td>\n",
       "      <td>1285804800</td>\n",
       "    </tr>\n",
       "    <tr>\n",
       "      <th>2849224</th>\n",
       "      <td>1</td>\n",
       "      <td>B002TLT10I</td>\n",
       "      <td>1.0</td>\n",
       "      <td>1395187200</td>\n",
       "    </tr>\n",
       "    <tr>\n",
       "      <th>315779</th>\n",
       "      <td>1</td>\n",
       "      <td>B0000AE6G9</td>\n",
       "      <td>5.0</td>\n",
       "      <td>1264550400</td>\n",
       "    </tr>\n",
       "    <tr>\n",
       "      <th>828843</th>\n",
       "      <td>1</td>\n",
       "      <td>B000E1HXL4</td>\n",
       "      <td>4.0</td>\n",
       "      <td>1207267200</td>\n",
       "    </tr>\n",
       "  </tbody>\n",
       "</table>\n",
       "<p>87 rows × 4 columns</p>\n",
       "</div>"
      ],
      "text/plain": [
       "         userid   productid  rating   timestamp\n",
       "2456615       1  B00272MT3U     5.0  1272240000\n",
       "6984544       1  B00AYB3OMG     5.0  1370217600\n",
       "3128260       1  B0037UD14C     5.0  1271635200\n",
       "453603        1  B0002CPBWI     5.0  1271635200\n",
       "3817420       1  B0042FZ50O     2.0  1312416000\n",
       "...         ...         ...     ...         ...\n",
       "7820269       1  B00K91DB7Y     1.0  1403827200\n",
       "1113601       1  B000KI81XK     5.0  1285804800\n",
       "2849224       1  B002TLT10I     1.0  1395187200\n",
       "315779        1  B0000AE6G9     5.0  1264550400\n",
       "828843        1  B000E1HXL4     4.0  1207267200\n",
       "\n",
       "[87 rows x 4 columns]"
      ]
     },
     "execution_count": 213,
     "metadata": {},
     "output_type": "execute_result"
    }
   ],
   "source": [
    "user_data"
   ]
  },
  {
   "cell_type": "code",
   "execution_count": 214,
   "metadata": {},
   "outputs": [],
   "source": [
    "recommendations = (pd.DataFrame(sorted_user_predictions).reset_index()).rename(columns = {user_id: 'Predictions'})"
   ]
  },
  {
   "cell_type": "code",
   "execution_count": 215,
   "metadata": {},
   "outputs": [
    {
     "data": {
      "text/html": [
       "<div>\n",
       "<style scoped>\n",
       "    .dataframe tbody tr th:only-of-type {\n",
       "        vertical-align: middle;\n",
       "    }\n",
       "\n",
       "    .dataframe tbody tr th {\n",
       "        vertical-align: top;\n",
       "    }\n",
       "\n",
       "    .dataframe thead th {\n",
       "        text-align: right;\n",
       "    }\n",
       "</style>\n",
       "<table border=\"1\" class=\"dataframe\">\n",
       "  <thead>\n",
       "    <tr style=\"text-align: right;\">\n",
       "      <th></th>\n",
       "      <th>productid</th>\n",
       "      <th>Predictions</th>\n",
       "    </tr>\n",
       "  </thead>\n",
       "  <tbody>\n",
       "    <tr>\n",
       "      <th>0</th>\n",
       "      <td>B0088CJT4U</td>\n",
       "      <td>1.369661</td>\n",
       "    </tr>\n",
       "    <tr>\n",
       "      <th>1</th>\n",
       "      <td>B00829TIEK</td>\n",
       "      <td>1.110279</td>\n",
       "    </tr>\n",
       "    <tr>\n",
       "      <th>2</th>\n",
       "      <td>B000N99BBC</td>\n",
       "      <td>1.101962</td>\n",
       "    </tr>\n",
       "    <tr>\n",
       "      <th>3</th>\n",
       "      <td>B008DWCRQW</td>\n",
       "      <td>0.991142</td>\n",
       "    </tr>\n",
       "    <tr>\n",
       "      <th>4</th>\n",
       "      <td>B004CLYEDC</td>\n",
       "      <td>0.952880</td>\n",
       "    </tr>\n",
       "    <tr>\n",
       "      <th>...</th>\n",
       "      <td>...</td>\n",
       "      <td>...</td>\n",
       "    </tr>\n",
       "    <tr>\n",
       "      <th>38221</th>\n",
       "      <td>B005HMKKH4</td>\n",
       "      <td>-0.104913</td>\n",
       "    </tr>\n",
       "    <tr>\n",
       "      <th>38222</th>\n",
       "      <td>B004G6002M</td>\n",
       "      <td>-0.108505</td>\n",
       "    </tr>\n",
       "    <tr>\n",
       "      <th>38223</th>\n",
       "      <td>B001XURP7W</td>\n",
       "      <td>-0.111703</td>\n",
       "    </tr>\n",
       "    <tr>\n",
       "      <th>38224</th>\n",
       "      <td>B005FYNSPK</td>\n",
       "      <td>-0.186182</td>\n",
       "    </tr>\n",
       "    <tr>\n",
       "      <th>38225</th>\n",
       "      <td>B007WTAJTO</td>\n",
       "      <td>-0.292198</td>\n",
       "    </tr>\n",
       "  </tbody>\n",
       "</table>\n",
       "<p>38226 rows × 2 columns</p>\n",
       "</div>"
      ],
      "text/plain": [
       "        productid  Predictions\n",
       "0      B0088CJT4U     1.369661\n",
       "1      B00829TIEK     1.110279\n",
       "2      B000N99BBC     1.101962\n",
       "3      B008DWCRQW     0.991142\n",
       "4      B004CLYEDC     0.952880\n",
       "...           ...          ...\n",
       "38221  B005HMKKH4    -0.104913\n",
       "38222  B004G6002M    -0.108505\n",
       "38223  B001XURP7W    -0.111703\n",
       "38224  B005FYNSPK    -0.186182\n",
       "38225  B007WTAJTO    -0.292198\n",
       "\n",
       "[38226 rows x 2 columns]"
      ]
     },
     "execution_count": 215,
     "metadata": {},
     "output_type": "execute_result"
    }
   ],
   "source": [
    "recommendations"
   ]
  },
  {
   "cell_type": "code",
   "execution_count": 217,
   "metadata": {},
   "outputs": [
    {
     "data": {
      "text/html": [
       "<div>\n",
       "<style scoped>\n",
       "    .dataframe tbody tr th:only-of-type {\n",
       "        vertical-align: middle;\n",
       "    }\n",
       "\n",
       "    .dataframe tbody tr th {\n",
       "        vertical-align: top;\n",
       "    }\n",
       "\n",
       "    .dataframe thead th {\n",
       "        text-align: right;\n",
       "    }\n",
       "</style>\n",
       "<table border=\"1\" class=\"dataframe\">\n",
       "  <thead>\n",
       "    <tr style=\"text-align: right;\">\n",
       "      <th></th>\n",
       "      <th>productid</th>\n",
       "      <th>Predictions</th>\n",
       "    </tr>\n",
       "  </thead>\n",
       "  <tbody>\n",
       "    <tr>\n",
       "      <th>0</th>\n",
       "      <td>B0088CJT4U</td>\n",
       "      <td>1.369661</td>\n",
       "    </tr>\n",
       "    <tr>\n",
       "      <th>1</th>\n",
       "      <td>B00829TIEK</td>\n",
       "      <td>1.110279</td>\n",
       "    </tr>\n",
       "    <tr>\n",
       "      <th>2</th>\n",
       "      <td>B000N99BBC</td>\n",
       "      <td>1.101962</td>\n",
       "    </tr>\n",
       "    <tr>\n",
       "      <th>3</th>\n",
       "      <td>B008DWCRQW</td>\n",
       "      <td>0.991142</td>\n",
       "    </tr>\n",
       "    <tr>\n",
       "      <th>4</th>\n",
       "      <td>B004CLYEDC</td>\n",
       "      <td>0.952880</td>\n",
       "    </tr>\n",
       "    <tr>\n",
       "      <th>5</th>\n",
       "      <td>B004CLYEFK</td>\n",
       "      <td>0.907012</td>\n",
       "    </tr>\n",
       "    <tr>\n",
       "      <th>6</th>\n",
       "      <td>B0079UAT0A</td>\n",
       "      <td>0.830656</td>\n",
       "    </tr>\n",
       "    <tr>\n",
       "      <th>7</th>\n",
       "      <td>B00829THK0</td>\n",
       "      <td>0.825023</td>\n",
       "    </tr>\n",
       "    <tr>\n",
       "      <th>8</th>\n",
       "      <td>B002R5AM7C</td>\n",
       "      <td>0.802092</td>\n",
       "    </tr>\n",
       "    <tr>\n",
       "      <th>9</th>\n",
       "      <td>B0034CL2ZI</td>\n",
       "      <td>0.737105</td>\n",
       "    </tr>\n",
       "  </tbody>\n",
       "</table>\n",
       "</div>"
      ],
      "text/plain": [
       "    productid  Predictions\n",
       "0  B0088CJT4U     1.369661\n",
       "1  B00829TIEK     1.110279\n",
       "2  B000N99BBC     1.101962\n",
       "3  B008DWCRQW     0.991142\n",
       "4  B004CLYEDC     0.952880\n",
       "5  B004CLYEFK     0.907012\n",
       "6  B0079UAT0A     0.830656\n",
       "7  B00829THK0     0.825023\n",
       "8  B002R5AM7C     0.802092\n",
       "9  B0034CL2ZI     0.737105"
      ]
     },
     "execution_count": 217,
     "metadata": {},
     "output_type": "execute_result"
    }
   ],
   "source": [
    "recommendations.sort_values('Predictions', ascending = False).iloc[:10, :]"
   ]
  },
  {
   "cell_type": "code",
   "execution_count": null,
   "metadata": {},
   "outputs": [],
   "source": []
  }
 ],
 "metadata": {
  "kernelspec": {
   "display_name": "Python 3",
   "language": "python",
   "name": "python3"
  },
  "language_info": {
   "codemirror_mode": {
    "name": "ipython",
    "version": 3
   },
   "file_extension": ".py",
   "mimetype": "text/x-python",
   "name": "python",
   "nbconvert_exporter": "python",
   "pygments_lexer": "ipython3",
   "version": "3.7.4"
  }
 },
 "nbformat": 4,
 "nbformat_minor": 2
}
